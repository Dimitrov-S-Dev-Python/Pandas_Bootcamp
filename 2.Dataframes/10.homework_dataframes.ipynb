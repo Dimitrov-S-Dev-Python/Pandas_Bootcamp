{
 "cells": [
  {
   "cell_type": "markdown",
   "id": "2761f02b",
   "metadata": {},
   "source": [
    "Import pandas"
   ]
  },
  {
   "cell_type": "code",
   "execution_count": null,
   "id": "2ab87bd3",
   "metadata": {},
   "outputs": [],
   "source": []
  },
  {
   "cell_type": "markdown",
   "id": "7cc6805c",
   "metadata": {},
   "source": [
    "Read the `imdb_top_1000.csv` file with the following columns: \n",
    "\n",
    "`['Series_Title' ,'IMDB_Rating', 'No_of_Votes', 'Gross', 'Released_Year', 'Genre']`\n",
    "\n"
   ]
  },
  {
   "cell_type": "code",
   "execution_count": null,
   "id": "eb8b717e",
   "metadata": {},
   "outputs": [],
   "source": []
  },
  {
   "cell_type": "markdown",
   "id": "c172f1aa",
   "metadata": {},
   "source": [
    "Find the lowest scored movie with the lowest amount of votes"
   ]
  },
  {
   "cell_type": "code",
   "execution_count": null,
   "id": "5a1be2ef",
   "metadata": {},
   "outputs": [],
   "source": []
  },
  {
   "cell_type": "markdown",
   "id": "59814576",
   "metadata": {},
   "source": [
    "Find the highest scored movie with the highest amount of votes"
   ]
  },
  {
   "cell_type": "code",
   "execution_count": null,
   "id": "2ee1baeb",
   "metadata": {},
   "outputs": [],
   "source": []
  },
  {
   "cell_type": "markdown",
   "id": "1d952a99",
   "metadata": {},
   "source": [
    "Find the top 5 genres"
   ]
  },
  {
   "cell_type": "code",
   "execution_count": null,
   "id": "573d2984",
   "metadata": {},
   "outputs": [],
   "source": []
  },
  {
   "cell_type": "markdown",
   "id": "092cf9b1",
   "metadata": {},
   "source": [
    "***Bonus: What are the top 3 grossing movies?***"
   ]
  },
  {
   "cell_type": "code",
   "execution_count": null,
   "id": "0e6d2d4d",
   "metadata": {},
   "outputs": [],
   "source": []
  },
  {
   "cell_type": "code",
   "execution_count": null,
   "id": "e4ff56c1",
   "metadata": {},
   "outputs": [],
   "source": []
  },
  {
   "cell_type": "code",
   "execution_count": null,
   "id": "c2f5f713",
   "metadata": {},
   "outputs": [],
   "source": []
  }
 ],
 "metadata": {
  "kernelspec": {
   "display_name": "Python 3 (ipykernel)",
   "language": "python",
   "name": "python3"
  },
  "language_info": {
   "codemirror_mode": {
    "name": "ipython",
    "version": 3
   },
   "file_extension": ".py",
   "mimetype": "text/x-python",
   "name": "python",
   "nbconvert_exporter": "python",
   "pygments_lexer": "ipython3",
   "version": "3.10.9"
  }
 },
 "nbformat": 4,
 "nbformat_minor": 5
}
