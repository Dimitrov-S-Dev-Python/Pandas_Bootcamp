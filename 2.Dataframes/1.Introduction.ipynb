{
 "cells":[
  {
   "cell_type":"markdown",
   "source":[
    "What are Dataframes?\n",
    "- Dataframe is a 2-dimensional labeled data structure with columns of potentially different types. Same as a Spredsheet or SQL Table.\n",
    "- axis = 0 refers to index\n",
    "- axis = 1 refers to columns"
   ],
   "attachments":{
    
   },
   "metadata":{
    "datalore":{
     "node_id":"gbDqlqR5rgVfu5UG8FAY0h",
     "type":"MD",
     "hide_input_from_viewers":true,
     "hide_output_from_viewers":true
    }
   }
  },
  {
   "cell_type":"code",
   "source":[
    "import pandas as pd"
   ],
   "execution_count":4,
   "outputs":[
    
   ],
   "metadata":{
    "datalore":{
     "node_id":"WmC6wv0AqvHHA5aDO6h6QP",
     "type":"CODE",
     "hide_input_from_viewers":true,
     "hide_output_from_viewers":true
    }
   }
  },
  {
   "cell_type":"code",
   "source":[
    "data = {'a': [100, 200, 300], 'b': [400, 500, 600], 'c': [700, 800, 900]}\n",
    "df = pd.DataFrame(data=data)\n",
    "df"
   ],
   "execution_count":5,
   "outputs":[
    {
     "data":{
      "text\/html":[
       "<div>\n",
       "<style scoped>\n",
       "    .dataframe tbody tr th:only-of-type {\n",
       "        vertical-align: middle;\n",
       "    }\n",
       "\n",
       "    .dataframe tbody tr th {\n",
       "        vertical-align: top;\n",
       "    }\n",
       "\n",
       "    .dataframe thead th {\n",
       "        text-align: right;\n",
       "    }\n",
       "<\/style>\n",
       "<table border=\"1\" class=\"dataframe\">\n",
       "  <thead>\n",
       "    <tr style=\"text-align: right;\">\n",
       "      <th><\/th>\n",
       "      <th>a<\/th>\n",
       "      <th>b<\/th>\n",
       "      <th>c<\/th>\n",
       "    <\/tr>\n",
       "  <\/thead>\n",
       "  <tbody>\n",
       "    <tr>\n",
       "      <th>0<\/th>\n",
       "      <td>100<\/td>\n",
       "      <td>400<\/td>\n",
       "      <td>700<\/td>\n",
       "    <\/tr>\n",
       "    <tr>\n",
       "      <th>1<\/th>\n",
       "      <td>200<\/td>\n",
       "      <td>500<\/td>\n",
       "      <td>800<\/td>\n",
       "    <\/tr>\n",
       "    <tr>\n",
       "      <th>2<\/th>\n",
       "      <td>300<\/td>\n",
       "      <td>600<\/td>\n",
       "      <td>900<\/td>\n",
       "    <\/tr>\n",
       "  <\/tbody>\n",
       "<\/table>\n",
       "<\/div>"
      ]
     },
     "metadata":{
      
     },
     "output_type":"display_data"
    }
   ],
   "metadata":{
    "datalore":{
     "node_id":"Fj2JW4ka87ZsQ6imZ1Ep9g",
     "type":"CODE",
     "hide_input_from_viewers":true,
     "hide_output_from_viewers":true
    }
   }
  },
  {
   "cell_type":"code",
   "source":[
    "df['a']"
   ],
   "execution_count":6,
   "outputs":[
    {
     "data":{
      "text\/html":[
       "<pre>0    100\n",
       "1    200\n",
       "2    300\n",
       "Name: a, dtype: int64<\/pre>"
      ]
     },
     "metadata":{
      
     },
     "output_type":"display_data"
    }
   ],
   "metadata":{
    "datalore":{
     "node_id":"Iz1g3oqibfBUOAuRSNSbZz",
     "type":"CODE",
     "hide_input_from_viewers":true,
     "hide_output_from_viewers":true
    }
   }
  },
  {
   "cell_type":"code",
   "source":[
    "df = pd.DataFrame(data=[[100, 200, 300], [400, 500, 600], [700, 800, 900]],\n",
    "                  index=['first', 'second', 'third'],\n",
    "                  columns=['a', 'b', 'c'])\n",
    "df"
   ],
   "execution_count":7,
   "outputs":[
    {
     "data":{
      "text\/html":[
       "<div>\n",
       "<style scoped>\n",
       "    .dataframe tbody tr th:only-of-type {\n",
       "        vertical-align: middle;\n",
       "    }\n",
       "\n",
       "    .dataframe tbody tr th {\n",
       "        vertical-align: top;\n",
       "    }\n",
       "\n",
       "    .dataframe thead th {\n",
       "        text-align: right;\n",
       "    }\n",
       "<\/style>\n",
       "<table border=\"1\" class=\"dataframe\">\n",
       "  <thead>\n",
       "    <tr style=\"text-align: right;\">\n",
       "      <th><\/th>\n",
       "      <th>a<\/th>\n",
       "      <th>b<\/th>\n",
       "      <th>c<\/th>\n",
       "    <\/tr>\n",
       "  <\/thead>\n",
       "  <tbody>\n",
       "    <tr>\n",
       "      <th>first<\/th>\n",
       "      <td>100<\/td>\n",
       "      <td>200<\/td>\n",
       "      <td>300<\/td>\n",
       "    <\/tr>\n",
       "    <tr>\n",
       "      <th>second<\/th>\n",
       "      <td>400<\/td>\n",
       "      <td>500<\/td>\n",
       "      <td>600<\/td>\n",
       "    <\/tr>\n",
       "    <tr>\n",
       "      <th>third<\/th>\n",
       "      <td>700<\/td>\n",
       "      <td>800<\/td>\n",
       "      <td>900<\/td>\n",
       "    <\/tr>\n",
       "  <\/tbody>\n",
       "<\/table>\n",
       "<\/div>"
      ]
     },
     "metadata":{
      
     },
     "output_type":"display_data"
    }
   ],
   "metadata":{
    "datalore":{
     "node_id":"7NJTjGZRp00wLKjzDdAyzw",
     "type":"CODE",
     "hide_input_from_viewers":true,
     "hide_output_from_viewers":true
    }
   }
  },
  {
   "cell_type":"code",
   "source":[
    "df.a"
   ],
   "execution_count":8,
   "outputs":[
    {
     "data":{
      "text\/html":[
       "<pre>first     100\n",
       "second    400\n",
       "third     700\n",
       "Name: a, dtype: int64<\/pre>"
      ]
     },
     "metadata":{
      
     },
     "output_type":"display_data"
    }
   ],
   "metadata":{
    "datalore":{
     "node_id":"WGGptSulX8VLxrANGV21Jo",
     "type":"CODE",
     "hide_input_from_viewers":true,
     "hide_output_from_viewers":true
    }
   }
  },
  {
   "cell_type":"markdown",
   "source":[
    "Dataframe attributes"
   ],
   "attachments":{
    
   },
   "metadata":{
    "datalore":{
     "node_id":"28OACIlwMDn1YfZaVX1sNZ",
     "type":"MD",
     "hide_input_from_viewers":true,
     "hide_output_from_viewers":true
    }
   }
  },
  {
   "cell_type":"code",
   "source":[
    "richest = pd.read_csv('TopRichestInWorld.csv')\n",
    "richest"
   ],
   "execution_count":10,
   "outputs":[
    {
     "data":{
      "text\/html":[
       "<div>\n",
       "<style scoped>\n",
       "    .dataframe tbody tr th:only-of-type {\n",
       "        vertical-align: middle;\n",
       "    }\n",
       "\n",
       "    .dataframe tbody tr th {\n",
       "        vertical-align: top;\n",
       "    }\n",
       "\n",
       "    .dataframe thead th {\n",
       "        text-align: right;\n",
       "    }\n",
       "<\/style>\n",
       "<table border=\"1\" class=\"dataframe\">\n",
       "  <thead>\n",
       "    <tr style=\"text-align: right;\">\n",
       "      <th><\/th>\n",
       "      <th>Name<\/th>\n",
       "      <th>NetWorth<\/th>\n",
       "      <th>Age<\/th>\n",
       "      <th>Country\/Territory<\/th>\n",
       "      <th>Source<\/th>\n",
       "      <th>Industry<\/th>\n",
       "    <\/tr>\n",
       "  <\/thead>\n",
       "  <tbody>\n",
       "    <tr>\n",
       "      <th>0<\/th>\n",
       "      <td>Elon Musk<\/td>\n",
       "      <td>$219,000,000,000<\/td>\n",
       "      <td>50<\/td>\n",
       "      <td>United States<\/td>\n",
       "      <td>Tesla, SpaceX<\/td>\n",
       "      <td>Automotive<\/td>\n",
       "    <\/tr>\n",
       "    <tr>\n",
       "      <th>1<\/th>\n",
       "      <td>Jeff Bezos<\/td>\n",
       "      <td>$171,000,000,000<\/td>\n",
       "      <td>58<\/td>\n",
       "      <td>United States<\/td>\n",
       "      <td>Amazon<\/td>\n",
       "      <td>Technology<\/td>\n",
       "    <\/tr>\n",
       "    <tr>\n",
       "      <th>2<\/th>\n",
       "      <td>Bernard Arnault &amp; family<\/td>\n",
       "      <td>$158,000,000,000<\/td>\n",
       "      <td>73<\/td>\n",
       "      <td>France<\/td>\n",
       "      <td>LVMH<\/td>\n",
       "      <td>Fashion &amp; Retail<\/td>\n",
       "    <\/tr>\n",
       "    <tr>\n",
       "      <th>3<\/th>\n",
       "      <td>Bill Gates<\/td>\n",
       "      <td>$129,000,000,000<\/td>\n",
       "      <td>66<\/td>\n",
       "      <td>United States<\/td>\n",
       "      <td>Microsoft<\/td>\n",
       "      <td>Technology<\/td>\n",
       "    <\/tr>\n",
       "    <tr>\n",
       "      <th>4<\/th>\n",
       "      <td>Warren Buffett<\/td>\n",
       "      <td>$118,000,000,000<\/td>\n",
       "      <td>91<\/td>\n",
       "      <td>United States<\/td>\n",
       "      <td>Berkshire Hathaway<\/td>\n",
       "      <td>Finance &amp; Investments<\/td>\n",
       "    <\/tr>\n",
       "    <tr>\n",
       "      <th>...<\/th>\n",
       "      <td>...<\/td>\n",
       "      <td>...<\/td>\n",
       "      <td>...<\/td>\n",
       "      <td>...<\/td>\n",
       "      <td>...<\/td>\n",
       "      <td>...<\/td>\n",
       "    <\/tr>\n",
       "    <tr>\n",
       "      <th>96<\/th>\n",
       "      <td>Vladimir Potanin<\/td>\n",
       "      <td>$17,300,000,000<\/td>\n",
       "      <td>61<\/td>\n",
       "      <td>Russia<\/td>\n",
       "      <td>metals<\/td>\n",
       "      <td>Metals &amp; Mining<\/td>\n",
       "    <\/tr>\n",
       "    <tr>\n",
       "      <th>97<\/th>\n",
       "      <td>Harold Hamm &amp; family<\/td>\n",
       "      <td>$17,200,000,000<\/td>\n",
       "      <td>76<\/td>\n",
       "      <td>United States<\/td>\n",
       "      <td>oil &amp; gas<\/td>\n",
       "      <td>Energy<\/td>\n",
       "    <\/tr>\n",
       "    <tr>\n",
       "      <th>98<\/th>\n",
       "      <td>Sun Piaoyang<\/td>\n",
       "      <td>$17,100,000,000<\/td>\n",
       "      <td>63<\/td>\n",
       "      <td>China<\/td>\n",
       "      <td>pharmaceuticals<\/td>\n",
       "      <td>Healthcare<\/td>\n",
       "    <\/tr>\n",
       "    <tr>\n",
       "      <th>99<\/th>\n",
       "      <td>Luo Liguo &amp; family<\/td>\n",
       "      <td>$17,000,000,000<\/td>\n",
       "      <td>66<\/td>\n",
       "      <td>China<\/td>\n",
       "      <td>chemicals<\/td>\n",
       "      <td>Manufacturing<\/td>\n",
       "    <\/tr>\n",
       "    <tr>\n",
       "      <th>100<\/th>\n",
       "      <td>Peter Woo<\/td>\n",
       "      <td>$17,000,000,000<\/td>\n",
       "      <td>75<\/td>\n",
       "      <td>Hong Kong<\/td>\n",
       "      <td>real estate<\/td>\n",
       "      <td>Real Estate<\/td>\n",
       "    <\/tr>\n",
       "  <\/tbody>\n",
       "<\/table>\n",
       "<p>101 rows × 6 columns<\/p>\n",
       "<\/div>"
      ]
     },
     "metadata":{
      
     },
     "output_type":"display_data"
    }
   ],
   "metadata":{
    "datalore":{
     "node_id":"vqDuMvD5LN3LOyzyPqCyhy",
     "type":"CODE",
     "hide_input_from_viewers":true,
     "hide_output_from_viewers":true
    }
   }
  },
  {
   "cell_type":"code",
   "source":[
    "richest.shape"
   ],
   "execution_count":11,
   "outputs":[
    {
     "data":{
      "text\/plain":[
       "(101, 6)"
      ]
     },
     "metadata":{
      
     },
     "output_type":"display_data"
    }
   ],
   "metadata":{
    "datalore":{
     "node_id":"yB0h91gdiw8LKkPxjUY4z5",
     "type":"CODE",
     "hide_input_from_viewers":true,
     "hide_output_from_viewers":true
    }
   }
  },
  {
   "cell_type":"code",
   "source":[
    "richest.size"
   ],
   "execution_count":12,
   "outputs":[
    {
     "data":{
      "text\/plain":[
       "606"
      ]
     },
     "metadata":{
      
     },
     "output_type":"display_data"
    }
   ],
   "metadata":{
    "datalore":{
     "node_id":"ToXK2HqAiOabmklbElch7Y",
     "type":"CODE",
     "hide_input_from_viewers":true,
     "hide_output_from_viewers":true
    }
   }
  },
  {
   "cell_type":"code",
   "source":[
    "richest.index"
   ],
   "execution_count":13,
   "outputs":[
    {
     "data":{
      "text\/plain":[
       "RangeIndex(start=0, stop=101, step=1)"
      ]
     },
     "metadata":{
      
     },
     "output_type":"display_data"
    }
   ],
   "metadata":{
    "datalore":{
     "node_id":"KvyVOsB1jRaMTSR3tTuJbV",
     "type":"CODE",
     "hide_input_from_viewers":true,
     "hide_output_from_viewers":true
    }
   }
  },
  {
   "cell_type":"code",
   "source":[
    "richest.columns"
   ],
   "execution_count":14,
   "outputs":[
    {
     "data":{
      "text\/plain":[
       "Index(['Name', 'NetWorth', 'Age', 'Country\/Territory', 'Source', 'Industry'], dtype='object')"
      ]
     },
     "metadata":{
      
     },
     "output_type":"display_data"
    }
   ],
   "metadata":{
    "datalore":{
     "node_id":"8EFXkMlHXeTI7Y1AoKRtRj",
     "type":"CODE",
     "hide_input_from_viewers":true,
     "hide_output_from_viewers":true
    }
   }
  },
  {
   "cell_type":"code",
   "source":[
    "richest.axes"
   ],
   "execution_count":15,
   "outputs":[
    {
     "data":{
      "text\/plain":[
       "[RangeIndex(start=0, stop=101, step=1),\n",
       " Index(['Name', 'NetWorth', 'Age', 'Country\/Territory', 'Source', 'Industry'], dtype='object')]"
      ]
     },
     "metadata":{
      
     },
     "output_type":"display_data"
    }
   ],
   "metadata":{
    "datalore":{
     "node_id":"cbJAJjxDxuWGIAK4PUhcnk",
     "type":"CODE",
     "hide_input_from_viewers":true,
     "hide_output_from_viewers":true
    }
   }
  },
  {
   "cell_type":"code",
   "source":[
    "richest.dtypes"
   ],
   "execution_count":16,
   "outputs":[
    {
     "data":{
      "text\/html":[
       "<pre>Name                 object\n",
       "NetWorth             object\n",
       "Age                   int64\n",
       "Country\/Territory    object\n",
       "Source               object\n",
       "Industry             object\n",
       "dtype: object<\/pre>"
      ]
     },
     "metadata":{
      
     },
     "output_type":"display_data"
    }
   ],
   "metadata":{
    "datalore":{
     "node_id":"QJ0J3S38fZmKvPXpMKsUMx",
     "type":"CODE",
     "hide_input_from_viewers":true,
     "hide_output_from_viewers":true
    }
   }
  }
 ],
 "metadata":{
  "kernelspec":{
   "display_name":"Python",
   "language":"python",
   "name":"python"
  },
  "datalore":{
   "computation_mode":"JUPYTER",
   "package_manager":"pip",
   "base_environment":"default",
   "packages":[
    
   ],
   "report_row_ids":[
    
   ],
   "version":3
  }
 },
 "nbformat":4,
 "nbformat_minor":4
}