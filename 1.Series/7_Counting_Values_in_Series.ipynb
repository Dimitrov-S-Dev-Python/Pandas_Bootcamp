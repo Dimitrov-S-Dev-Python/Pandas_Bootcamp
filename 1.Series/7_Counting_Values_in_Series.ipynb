{
  "nbformat": 4,
  "nbformat_minor": 0,
  "metadata": {
    "colab": {
      "provenance": []
    },
    "kernelspec": {
      "name": "python3",
      "display_name": "Python 3"
    },
    "language_info": {
      "name": "python"
    }
  },
  "cells": [
    {
      "cell_type": "code",
      "source": [
        "import pandas as pd\n"
      ],
      "metadata": {
        "id": "A9YcrsC3Fxjn"
      },
      "execution_count": 52,
      "outputs": []
    },
    {
      "cell_type": "code",
      "source": [
        "richest = pd.read_csv('TopRichestInWorld.csv', usecols=['Industry']).squeeze()\n",
        "richest"
      ],
      "metadata": {
        "colab": {
          "base_uri": "https://localhost:8080/"
        },
        "id": "TOmoMLiiFz3U",
        "outputId": "5972457e-7f44-4c8f-a0c0-647500561417"
      },
      "execution_count": 55,
      "outputs": [
        {
          "output_type": "execute_result",
          "data": {
            "text/plain": [
              "0                 Automotive\n",
              "1                 Technology\n",
              "2           Fashion & Retail\n",
              "3                 Technology\n",
              "4      Finance & Investments\n",
              "               ...          \n",
              "96           Metals & Mining\n",
              "97                    Energy\n",
              "98                Healthcare\n",
              "99             Manufacturing\n",
              "100              Real Estate\n",
              "Name: Industry, Length: 101, dtype: object"
            ]
          },
          "metadata": {},
          "execution_count": 55
        }
      ]
    },
    {
      "cell_type": "code",
      "source": [
        "richest.value_counts()"
      ],
      "metadata": {
        "colab": {
          "base_uri": "https://localhost:8080/"
        },
        "id": "QIUHroZ-F83Y",
        "outputId": "d365f18f-f156-4f10-af9c-8a4d21a16adc"
      },
      "execution_count": 56,
      "outputs": [
        {
          "output_type": "execute_result",
          "data": {
            "text/plain": [
              "Fashion & Retail         18\n",
              "Technology               15\n",
              "Finance & Investments    13\n",
              "Metals & Mining           9\n",
              "Food & Beverage           8\n",
              "Automotive                7\n",
              "Diversified               6\n",
              "Manufacturing             5\n",
              "Healthcare                5\n",
              "Media & Entertainment     4\n",
              "Real Estate               3\n",
              "Telecom                   2\n",
              "Logistics                 2\n",
              "Energy                    2\n",
              "Gambling & Casinos        1\n",
              "Service                   1\n",
              "Name: Industry, dtype: int64"
            ]
          },
          "metadata": {},
          "execution_count": 56
        }
      ]
    },
    {
      "cell_type": "code",
      "source": [],
      "metadata": {
        "id": "Rk1SDNGoGvId"
      },
      "execution_count": null,
      "outputs": []
    }
  ]
}