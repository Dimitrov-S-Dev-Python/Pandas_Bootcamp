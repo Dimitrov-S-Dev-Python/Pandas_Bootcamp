{
  "nbformat": 4,
  "nbformat_minor": 0,
  "metadata": {
    "colab": {
      "provenance": []
    },
    "kernelspec": {
      "name": "python3",
      "display_name": "Python 3"
    },
    "language_info": {
      "name": "python"
    }
  },
  "cells": [
    {
      "cell_type": "code",
      "source": [
        "import pandas as pd"
      ],
      "metadata": {
        "id": "T0x2q8ydIAT7"
      },
      "execution_count": 57,
      "outputs": []
    },
    {
      "cell_type": "code",
      "source": [
        "richest = pd.read_csv('TopRichestInWorld.csv', usecols=['Name']).squeeze()\n",
        "richest"
      ],
      "metadata": {
        "colab": {
          "base_uri": "https://localhost:8080/"
        },
        "id": "Wq3ho1yDIJHo",
        "outputId": "e01409e7-28da-427e-afd7-8134f26c751b"
      },
      "execution_count": 58,
      "outputs": [
        {
          "output_type": "execute_result",
          "data": {
            "text/plain": [
              "0                     Elon Musk\n",
              "1                    Jeff Bezos\n",
              "2      Bernard Arnault & family\n",
              "3                    Bill Gates\n",
              "4                Warren Buffett\n",
              "                 ...           \n",
              "96             Vladimir Potanin\n",
              "97         Harold Hamm & family\n",
              "98                 Sun Piaoyang\n",
              "99           Luo Liguo & family\n",
              "100                   Peter Woo\n",
              "Name: Name, Length: 101, dtype: object"
            ]
          },
          "metadata": {},
          "execution_count": 58
        }
      ]
    },
    {
      "cell_type": "code",
      "source": [
        "richest.head()"
      ],
      "metadata": {
        "colab": {
          "base_uri": "https://localhost:8080/"
        },
        "id": "WZA4eKBeIVxY",
        "outputId": "642e5cce-7785-4966-d6ae-7808dcb828d0"
      },
      "execution_count": 59,
      "outputs": [
        {
          "output_type": "execute_result",
          "data": {
            "text/plain": [
              "0                   Elon Musk\n",
              "1                  Jeff Bezos\n",
              "2    Bernard Arnault & family\n",
              "3                  Bill Gates\n",
              "4              Warren Buffett\n",
              "Name: Name, dtype: object"
            ]
          },
          "metadata": {},
          "execution_count": 59
        }
      ]
    },
    {
      "cell_type": "code",
      "source": [
        "richest[0]"
      ],
      "metadata": {
        "colab": {
          "base_uri": "https://localhost:8080/",
          "height": 36
        },
        "id": "Hn6QG3x2IZjH",
        "outputId": "b034e48d-b6d9-483d-b7e9-56b66761c544"
      },
      "execution_count": 60,
      "outputs": [
        {
          "output_type": "execute_result",
          "data": {
            "text/plain": [
              "'Elon Musk'"
            ],
            "application/vnd.google.colaboratory.intrinsic+json": {
              "type": "string"
            }
          },
          "metadata": {},
          "execution_count": 60
        }
      ]
    },
    {
      "cell_type": "code",
      "source": [
        "richest[[1, 2, 15]]"
      ],
      "metadata": {
        "colab": {
          "base_uri": "https://localhost:8080/"
        },
        "id": "nG-a6GtXIdbJ",
        "outputId": "7a1cfd61-a521-4c2f-9540-5fae54b10f8e"
      },
      "execution_count": 61,
      "outputs": [
        {
          "output_type": "execute_result",
          "data": {
            "text/plain": [
              "1                   Jeff Bezos\n",
              "2     Bernard Arnault & family\n",
              "15                  Jim Walton\n",
              "Name: Name, dtype: object"
            ]
          },
          "metadata": {},
          "execution_count": 61
        }
      ]
    },
    {
      "cell_type": "code",
      "source": [
        "richest[5:10]"
      ],
      "metadata": {
        "colab": {
          "base_uri": "https://localhost:8080/"
        },
        "id": "UOPbsMr-OkOt",
        "outputId": "41ec097c-d42b-4df6-dd35-f8e0fcabbba6"
      },
      "execution_count": 62,
      "outputs": [
        {
          "output_type": "execute_result",
          "data": {
            "text/plain": [
              "5       Larry Page\n",
              "6      Sergey Brin\n",
              "7    Larry Ellison\n",
              "8    Steve Ballmer\n",
              "9    Mukesh Ambani\n",
              "Name: Name, dtype: object"
            ]
          },
          "metadata": {},
          "execution_count": 62
        }
      ]
    },
    {
      "cell_type": "code",
      "source": [
        "richest[0:21:5]"
      ],
      "metadata": {
        "colab": {
          "base_uri": "https://localhost:8080/"
        },
        "id": "xpcnE50kOvOO",
        "outputId": "f248880a-8602-4198-d059-e55a3e51f2f8"
      },
      "execution_count": 63,
      "outputs": [
        {
          "output_type": "execute_result",
          "data": {
            "text/plain": [
              "0                 Elon Musk\n",
              "5                Larry Page\n",
              "10    Gautam Adani & family\n",
              "15               Jim Walton\n",
              "20             Charles Koch\n",
              "Name: Name, dtype: object"
            ]
          },
          "metadata": {},
          "execution_count": 63
        }
      ]
    },
    {
      "cell_type": "code",
      "source": [
        "richest[:10]"
      ],
      "metadata": {
        "colab": {
          "base_uri": "https://localhost:8080/"
        },
        "id": "QKtRmNs-O03-",
        "outputId": "ed824a6f-d854-4e18-b1f4-43bdd2b25853"
      },
      "execution_count": 64,
      "outputs": [
        {
          "output_type": "execute_result",
          "data": {
            "text/plain": [
              "0                   Elon Musk\n",
              "1                  Jeff Bezos\n",
              "2    Bernard Arnault & family\n",
              "3                  Bill Gates\n",
              "4              Warren Buffett\n",
              "5                  Larry Page\n",
              "6                 Sergey Brin\n",
              "7               Larry Ellison\n",
              "8               Steve Ballmer\n",
              "9               Mukesh Ambani\n",
              "Name: Name, dtype: object"
            ]
          },
          "metadata": {},
          "execution_count": 64
        }
      ]
    },
    {
      "cell_type": "code",
      "source": [
        "richest[-1:]"
      ],
      "metadata": {
        "colab": {
          "base_uri": "https://localhost:8080/"
        },
        "id": "NVTh5mm5O7sk",
        "outputId": "321ec7ae-c15c-4ad8-bee0-9f452e921918"
      },
      "execution_count": 66,
      "outputs": [
        {
          "output_type": "execute_result",
          "data": {
            "text/plain": [
              "100    Peter Woo\n",
              "Name: Name, dtype: object"
            ]
          },
          "metadata": {},
          "execution_count": 66
        }
      ]
    },
    {
      "cell_type": "code",
      "source": [
        "richest.index"
      ],
      "metadata": {
        "colab": {
          "base_uri": "https://localhost:8080/"
        },
        "id": "tcHwVNWgO_Wz",
        "outputId": "23133362-9334-481d-bf7c-659fabedd86d"
      },
      "execution_count": 67,
      "outputs": [
        {
          "output_type": "execute_result",
          "data": {
            "text/plain": [
              "RangeIndex(start=0, stop=101, step=1)"
            ]
          },
          "metadata": {},
          "execution_count": 67
        }
      ]
    },
    {
      "cell_type": "code",
      "source": [],
      "metadata": {
        "id": "u17qJ1DTPLFa"
      },
      "execution_count": null,
      "outputs": []
    }
  ]
}