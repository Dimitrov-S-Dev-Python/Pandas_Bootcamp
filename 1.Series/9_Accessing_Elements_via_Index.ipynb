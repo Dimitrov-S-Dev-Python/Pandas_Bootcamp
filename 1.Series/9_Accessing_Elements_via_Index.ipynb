{
  "nbformat": 4,
  "nbformat_minor": 0,
  "metadata": {
    "colab": {
      "provenance": []
    },
    "kernelspec": {
      "name": "python3",
      "display_name": "Python 3"
    },
    "language_info": {
      "name": "python"
    }
  },
  "cells": [
    {
      "cell_type": "code",
      "source": [
        "import pandas as pd"
      ],
      "metadata": {
        "id": "TjC4gickyt0P"
      },
      "execution_count": 1,
      "outputs": []
    },
    {
      "cell_type": "code",
      "source": [
        "richest = pd.read_csv('TopRichestInWorld.csv', usecols=['Name', 'NetWorth'], index_col='Name').squeeze()\n",
        "richest"
      ],
      "metadata": {
        "colab": {
          "base_uri": "https://localhost:8080/"
        },
        "id": "zKhwmQSzy1Pk",
        "outputId": "36083c30-7808-4968-947e-aaed4dec65d4"
      },
      "execution_count": 3,
      "outputs": [
        {
          "output_type": "execute_result",
          "data": {
            "text/plain": [
              "Name\n",
              "Elon Musk                   $219,000,000,000\n",
              "Jeff Bezos                  $171,000,000,000\n",
              "Bernard Arnault & family    $158,000,000,000\n",
              "Bill Gates                  $129,000,000,000\n",
              "Warren Buffett              $118,000,000,000\n",
              "                                  ...       \n",
              "Vladimir Potanin             $17,300,000,000\n",
              "Harold Hamm & family         $17,200,000,000\n",
              "Sun Piaoyang                 $17,100,000,000\n",
              "Luo Liguo & family           $17,000,000,000\n",
              "Peter Woo                    $17,000,000,000\n",
              "Name: NetWorth, Length: 101, dtype: object"
            ]
          },
          "metadata": {},
          "execution_count": 3
        }
      ]
    },
    {
      "cell_type": "code",
      "source": [
        "richest.head(10)"
      ],
      "metadata": {
        "colab": {
          "base_uri": "https://localhost:8080/"
        },
        "id": "jAuHjfgBzdc5",
        "outputId": "7910f0cd-8394-46c5-c270-fc19d7c5df90"
      },
      "execution_count": 4,
      "outputs": [
        {
          "output_type": "execute_result",
          "data": {
            "text/plain": [
              "Name\n",
              "Elon Musk                   $219,000,000,000\n",
              "Jeff Bezos                  $171,000,000,000\n",
              "Bernard Arnault & family    $158,000,000,000\n",
              "Bill Gates                  $129,000,000,000\n",
              "Warren Buffett              $118,000,000,000\n",
              "Larry Page                  $111,000,000,000\n",
              "Sergey Brin                 $107,000,000,000\n",
              "Larry Ellison               $106,000,000,000\n",
              "Steve Ballmer                $91,400,000,000\n",
              "Mukesh Ambani                $90,700,000,000\n",
              "Name: NetWorth, dtype: object"
            ]
          },
          "metadata": {},
          "execution_count": 4
        }
      ]
    },
    {
      "cell_type": "code",
      "source": [
        "richest['Bill Gates']"
      ],
      "metadata": {
        "colab": {
          "base_uri": "https://localhost:8080/",
          "height": 36
        },
        "id": "nXkaoWFm0Qjd",
        "outputId": "121b0372-4c05-4771-ede0-67a939ce35fa"
      },
      "execution_count": 5,
      "outputs": [
        {
          "output_type": "execute_result",
          "data": {
            "text/plain": [
              "'$129,000,000,000'"
            ],
            "application/vnd.google.colaboratory.intrinsic+json": {
              "type": "string"
            }
          },
          "metadata": {},
          "execution_count": 5
        }
      ]
    },
    {
      "cell_type": "code",
      "source": [
        "richest[0]"
      ],
      "metadata": {
        "colab": {
          "base_uri": "https://localhost:8080/",
          "height": 36
        },
        "id": "TgFnpJ3i0W4M",
        "outputId": "8948db55-af5e-4523-f21a-5ccf233b4b4d"
      },
      "execution_count": 6,
      "outputs": [
        {
          "output_type": "execute_result",
          "data": {
            "text/plain": [
              "'$219,000,000,000'"
            ],
            "application/vnd.google.colaboratory.intrinsic+json": {
              "type": "string"
            }
          },
          "metadata": {},
          "execution_count": 6
        }
      ]
    },
    {
      "cell_type": "code",
      "source": [
        "richest[['Bill Gates', 'Elon Musk']]"
      ],
      "metadata": {
        "colab": {
          "base_uri": "https://localhost:8080/"
        },
        "id": "KeBLYQAD0gG-",
        "outputId": "5ef9d57e-b2d3-4696-b1dc-e368c4bf9160"
      },
      "execution_count": 8,
      "outputs": [
        {
          "output_type": "execute_result",
          "data": {
            "text/plain": [
              "Name\n",
              "Bill Gates    $129,000,000,000\n",
              "Elon Musk     $219,000,000,000\n",
              "Name: NetWorth, dtype: object"
            ]
          },
          "metadata": {},
          "execution_count": 8
        }
      ]
    },
    {
      "cell_type": "code",
      "source": [
        "richest[0:2]"
      ],
      "metadata": {
        "colab": {
          "base_uri": "https://localhost:8080/"
        },
        "id": "R4WlHQwr0sDt",
        "outputId": "c63e0045-46d5-4f43-9f78-cfe2f6adf1c0"
      },
      "execution_count": 9,
      "outputs": [
        {
          "output_type": "execute_result",
          "data": {
            "text/plain": [
              "Name\n",
              "Elon Musk     $219,000,000,000\n",
              "Jeff Bezos    $171,000,000,000\n",
              "Name: NetWorth, dtype: object"
            ]
          },
          "metadata": {},
          "execution_count": 9
        }
      ]
    },
    {
      "cell_type": "code",
      "source": [
        "richest.index"
      ],
      "metadata": {
        "colab": {
          "base_uri": "https://localhost:8080/"
        },
        "id": "9L-FRbTE019L",
        "outputId": "c1f5393f-9f36-484c-faad-82626a27f9e5"
      },
      "execution_count": 10,
      "outputs": [
        {
          "output_type": "execute_result",
          "data": {
            "text/plain": [
              "Index(['Elon Musk', 'Jeff Bezos', 'Bernard Arnault & family', 'Bill Gates',\n",
              "       'Warren Buffett', 'Larry Page', 'Sergey Brin', 'Larry Ellison',\n",
              "       'Steve Ballmer', 'Mukesh Ambani',\n",
              "       ...\n",
              "       'Savitri Jindal & family', 'Wang Wenyin', 'Li Xiting', 'Stefan Persson',\n",
              "       'Steve Cohen', 'Vladimir Potanin', 'Harold Hamm & family',\n",
              "       'Sun Piaoyang', 'Luo Liguo & family', 'Peter Woo'],\n",
              "      dtype='object', name='Name', length=101)"
            ]
          },
          "metadata": {},
          "execution_count": 10
        }
      ]
    },
    {
      "cell_type": "code",
      "source": [],
      "metadata": {
        "id": "kqKesGbE1M6k"
      },
      "execution_count": null,
      "outputs": []
    }
  ]
}