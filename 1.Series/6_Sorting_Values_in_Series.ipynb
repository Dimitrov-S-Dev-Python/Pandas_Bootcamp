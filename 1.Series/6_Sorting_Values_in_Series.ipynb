{
  "nbformat": 4,
  "nbformat_minor": 0,
  "metadata": {
    "colab": {
      "provenance": []
    },
    "kernelspec": {
      "name": "python3",
      "display_name": "Python 3"
    },
    "language_info": {
      "name": "python"
    }
  },
  "cells": [
    {
      "cell_type": "code",
      "source": [
        "import pandas as pd\n"
      ],
      "metadata": {
        "id": "kPPnT9MLBo_4"
      },
      "execution_count": 43,
      "outputs": []
    },
    {
      "cell_type": "code",
      "source": [
        "richest = pd.read_csv('TopRichestInWorld.csv', usecols=['Name']).squeeze()"
      ],
      "metadata": {
        "id": "kr9ldZs3BszI"
      },
      "execution_count": 44,
      "outputs": []
    },
    {
      "cell_type": "code",
      "source": [
        "richest"
      ],
      "metadata": {
        "colab": {
          "base_uri": "https://localhost:8080/"
        },
        "id": "vBL9A0gyB96e",
        "outputId": "9232c381-1959-4407-8277-7a55ff01db82"
      },
      "execution_count": 49,
      "outputs": [
        {
          "output_type": "execute_result",
          "data": {
            "text/plain": [
              "0                     Elon Musk\n",
              "1                    Jeff Bezos\n",
              "2      Bernard Arnault & family\n",
              "3                    Bill Gates\n",
              "4                Warren Buffett\n",
              "                 ...           \n",
              "96             Vladimir Potanin\n",
              "97         Harold Hamm & family\n",
              "98                 Sun Piaoyang\n",
              "99           Luo Liguo & family\n",
              "100                   Peter Woo\n",
              "Name: Name, Length: 101, dtype: object"
            ]
          },
          "metadata": {},
          "execution_count": 49
        }
      ]
    },
    {
      "cell_type": "code",
      "source": [
        "richest.sort_values(axis=0, ascending=True, kind='quicksort', na_position='last', ignore_index=True, inplace=False)"
      ],
      "metadata": {
        "colab": {
          "base_uri": "https://localhost:8080/"
        },
        "id": "JdTKUsAjCA6k",
        "outputId": "c6840f1e-e0dd-4375-b66c-1bdacd613ac9"
      },
      "execution_count": 50,
      "outputs": [
        {
          "output_type": "execute_result",
          "data": {
            "text/plain": [
              "0           Abigail Johnson\n",
              "1          Alain Wertheimer\n",
              "2              Alice Walton\n",
              "3            Amancio Ortega\n",
              "4            Andrew Forrest\n",
              "               ...         \n",
              "96           Warren Buffett\n",
              "97         William Lei Ding\n",
              "98     Yang Huiyan & family\n",
              "99             Zhang Yiming\n",
              "100          Zhong Shanshan\n",
              "Name: Name, Length: 101, dtype: object"
            ]
          },
          "metadata": {},
          "execution_count": 50
        }
      ]
    },
    {
      "cell_type": "code",
      "source": [
        "richest.sort_index(ascending=False, ignore_index=True, inplace=False)"
      ],
      "metadata": {
        "colab": {
          "base_uri": "https://localhost:8080/"
        },
        "id": "ZB5XW7C7DLbw",
        "outputId": "ae5adb6c-c37c-4629-ede0-da9b170b7ec4"
      },
      "execution_count": 51,
      "outputs": [
        {
          "output_type": "execute_result",
          "data": {
            "text/plain": [
              "0                     Peter Woo\n",
              "1            Luo Liguo & family\n",
              "2                  Sun Piaoyang\n",
              "3          Harold Hamm & family\n",
              "4              Vladimir Potanin\n",
              "                 ...           \n",
              "96               Warren Buffett\n",
              "97                   Bill Gates\n",
              "98     Bernard Arnault & family\n",
              "99                   Jeff Bezos\n",
              "100                   Elon Musk\n",
              "Name: Name, Length: 101, dtype: object"
            ]
          },
          "metadata": {},
          "execution_count": 51
        }
      ]
    },
    {
      "cell_type": "code",
      "source": [],
      "metadata": {
        "id": "patN6bJcFlLr"
      },
      "execution_count": null,
      "outputs": []
    }
  ]
}