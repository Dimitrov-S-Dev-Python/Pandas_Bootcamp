{
 "cells":[
  {
   "cell_type":"markdown",
   "source":[
    "# Extracting date and time"
   ],
   "attachments":{
    
   },
   "metadata":{
    "datalore":{
     "node_id":"GeOtKyJevvDzJgu0eHR2ew",
     "type":"MD",
     "hide_input_from_viewers":false,
     "hide_output_from_viewers":false,
     "report_properties":{
      "rowId":"vRZJDSNFPDXdu9EUWXbkgi"
     }
    }
   }
  },
  {
   "cell_type":"code",
   "source":[
    "import pandas as pd\n",
    "air_quality = pd.read_csv('air_quality.csv')"
   ],
   "execution_count":1,
   "outputs":[
    
   ],
   "metadata":{
    "datalore":{
     "node_id":"K8VQi2vg0PA7bEy4eDPSq3",
     "type":"CODE",
     "hide_input_from_viewers":false,
     "hide_output_from_viewers":false,
     "report_properties":{
      "rowId":"TGSPrEfO18tKqc6IAEfBXu"
     }
    }
   }
  },
  {
   "cell_type":"code",
   "source":[
    "air_quality.info()"
   ],
   "execution_count":2,
   "outputs":[
    {
     "name":"stdout",
     "text":[
      "<class 'pandas.core.frame.DataFrame'>\n",
      "RangeIndex: 95685 entries, 0 to 95684\n",
      "Data columns (total 14 columns):\n",
      " #   Column     Non-Null Count  Dtype  \n",
      "---  ------     --------------  -----  \n",
      " 0   date_time  95685 non-null  object \n",
      " 1   PM2.5      95685 non-null  float64\n",
      " 2   PM10       95685 non-null  float64\n",
      " 3   SO2        95685 non-null  float64\n",
      " 4   NO2        95685 non-null  float64\n",
      " 5   CO         95685 non-null  float64\n",
      " 6   O3         95685 non-null  float64\n",
      " 7   TEMP       95685 non-null  float64\n",
      " 8   PRES       95685 non-null  float64\n",
      " 9   DEWP       95685 non-null  float64\n",
      " 10  RAIN       95685 non-null  float64\n",
      " 11  wd         95685 non-null  object \n",
      " 12  WSPM       95685 non-null  float64\n",
      " 13  station    95685 non-null  object \n",
      "dtypes: float64(11), object(3)\n",
      "memory usage: 10.2+ MB\n"
     ],
     "output_type":"stream"
    }
   ],
   "metadata":{
    "datalore":{
     "node_id":"L6ycMAxu1nIRTN3l8G7yJ9",
     "type":"CODE",
     "hide_input_from_viewers":false,
     "hide_output_from_viewers":false,
     "report_properties":{
      "rowId":"JnvGr20YVPriWRSwhvmcmX"
     }
    }
   }
  },
  {
   "cell_type":"code",
   "source":[
    "air_quality.head()"
   ],
   "execution_count":3,
   "outputs":[
    {
     "data":{
      "text\/html":[
       "<div>\n",
       "<style scoped>\n",
       "    .dataframe tbody tr th:only-of-type {\n",
       "        vertical-align: middle;\n",
       "    }\n",
       "\n",
       "    .dataframe tbody tr th {\n",
       "        vertical-align: top;\n",
       "    }\n",
       "\n",
       "    .dataframe thead th {\n",
       "        text-align: right;\n",
       "    }\n",
       "<\/style>\n",
       "<table border=\"1\" class=\"dataframe\">\n",
       "  <thead>\n",
       "    <tr style=\"text-align: right;\">\n",
       "      <th><\/th>\n",
       "      <th>date_time<\/th>\n",
       "      <th>PM2.5<\/th>\n",
       "      <th>PM10<\/th>\n",
       "      <th>SO2<\/th>\n",
       "      <th>NO2<\/th>\n",
       "      <th>CO<\/th>\n",
       "      <th>O3<\/th>\n",
       "      <th>TEMP<\/th>\n",
       "      <th>PRES<\/th>\n",
       "      <th>DEWP<\/th>\n",
       "      <th>RAIN<\/th>\n",
       "      <th>wd<\/th>\n",
       "      <th>WSPM<\/th>\n",
       "      <th>station<\/th>\n",
       "    <\/tr>\n",
       "  <\/thead>\n",
       "  <tbody>\n",
       "    <tr>\n",
       "      <th>0<\/th>\n",
       "      <td>2013-03-01 00:00:00<\/td>\n",
       "      <td>9.0<\/td>\n",
       "      <td>9.0<\/td>\n",
       "      <td>3.0<\/td>\n",
       "      <td>17.0<\/td>\n",
       "      <td>300.0<\/td>\n",
       "      <td>89.0<\/td>\n",
       "      <td>-0.5<\/td>\n",
       "      <td>1024.5<\/td>\n",
       "      <td>-21.4<\/td>\n",
       "      <td>0.0<\/td>\n",
       "      <td>NNW<\/td>\n",
       "      <td>5.7<\/td>\n",
       "      <td>Dongsi<\/td>\n",
       "    <\/tr>\n",
       "    <tr>\n",
       "      <th>1<\/th>\n",
       "      <td>2013-03-01 01:00:00<\/td>\n",
       "      <td>4.0<\/td>\n",
       "      <td>4.0<\/td>\n",
       "      <td>3.0<\/td>\n",
       "      <td>16.0<\/td>\n",
       "      <td>300.0<\/td>\n",
       "      <td>88.0<\/td>\n",
       "      <td>-0.7<\/td>\n",
       "      <td>1025.1<\/td>\n",
       "      <td>-22.1<\/td>\n",
       "      <td>0.0<\/td>\n",
       "      <td>NW<\/td>\n",
       "      <td>3.9<\/td>\n",
       "      <td>Dongsi<\/td>\n",
       "    <\/tr>\n",
       "    <tr>\n",
       "      <th>2<\/th>\n",
       "      <td>2013-03-01 05:00:00<\/td>\n",
       "      <td>4.0<\/td>\n",
       "      <td>4.0<\/td>\n",
       "      <td>9.0<\/td>\n",
       "      <td>25.0<\/td>\n",
       "      <td>300.0<\/td>\n",
       "      <td>78.0<\/td>\n",
       "      <td>-2.4<\/td>\n",
       "      <td>1027.5<\/td>\n",
       "      <td>-21.3<\/td>\n",
       "      <td>0.0<\/td>\n",
       "      <td>NW<\/td>\n",
       "      <td>2.4<\/td>\n",
       "      <td>Dongsi<\/td>\n",
       "    <\/tr>\n",
       "    <tr>\n",
       "      <th>3<\/th>\n",
       "      <td>2013-03-01 06:00:00<\/td>\n",
       "      <td>5.0<\/td>\n",
       "      <td>5.0<\/td>\n",
       "      <td>10.0<\/td>\n",
       "      <td>29.0<\/td>\n",
       "      <td>400.0<\/td>\n",
       "      <td>67.0<\/td>\n",
       "      <td>-2.5<\/td>\n",
       "      <td>1028.2<\/td>\n",
       "      <td>-20.4<\/td>\n",
       "      <td>0.0<\/td>\n",
       "      <td>NW<\/td>\n",
       "      <td>2.2<\/td>\n",
       "      <td>Dongsi<\/td>\n",
       "    <\/tr>\n",
       "    <tr>\n",
       "      <th>4<\/th>\n",
       "      <td>2013-03-01 07:00:00<\/td>\n",
       "      <td>3.0<\/td>\n",
       "      <td>6.0<\/td>\n",
       "      <td>12.0<\/td>\n",
       "      <td>40.0<\/td>\n",
       "      <td>400.0<\/td>\n",
       "      <td>52.0<\/td>\n",
       "      <td>-1.4<\/td>\n",
       "      <td>1029.5<\/td>\n",
       "      <td>-20.4<\/td>\n",
       "      <td>0.0<\/td>\n",
       "      <td>NNW<\/td>\n",
       "      <td>3.0<\/td>\n",
       "      <td>Dongsi<\/td>\n",
       "    <\/tr>\n",
       "  <\/tbody>\n",
       "<\/table>\n",
       "<\/div>"
      ]
     },
     "metadata":{
      
     },
     "output_type":"display_data"
    }
   ],
   "metadata":{
    "datalore":{
     "node_id":"dJgxHgHAMvXkBU38fcKnPN",
     "type":"CODE",
     "hide_input_from_viewers":false,
     "hide_output_from_viewers":false,
     "report_properties":{
      "rowId":"170NxWmALUY2BqbJEzpKWF"
     }
    }
   }
  },
  {
   "cell_type":"code",
   "source":[
    "# air_quality['date_time'].dt.year # AttributeError: Can only use .dt accessor with datetimelike values"
   ],
   "execution_count":null,
   "outputs":[
    
   ],
   "metadata":{
    "datalore":{
     "node_id":"J4sw3WM2VRLQvzHH5JtrIA",
     "type":"CODE",
     "hide_input_from_viewers":false,
     "hide_output_from_viewers":false,
     "report_properties":{
      "rowId":"l5a3azOicJwICgY5HyYes8"
     }
    }
   }
  },
  {
   "cell_type":"code",
   "source":[
    "pd.to_datetime(air_quality['date_time'])"
   ],
   "execution_count":4,
   "outputs":[
    {
     "data":{
      "text\/html":[
       "<pre>0       2013-03-01 00:00:00\n",
       "1       2013-03-01 01:00:00\n",
       "2       2013-03-01 05:00:00\n",
       "3       2013-03-01 06:00:00\n",
       "4       2013-03-01 07:00:00\n",
       "                ...        \n",
       "95680   2017-02-28 15:00:00\n",
       "95681   2017-02-28 16:00:00\n",
       "95682   2017-02-28 21:00:00\n",
       "95683   2017-02-28 22:00:00\n",
       "95684   2017-02-28 23:00:00\n",
       "Name: date_time, Length: 95685, dtype: datetime64[ns]<\/pre>"
      ]
     },
     "metadata":{
      
     },
     "output_type":"display_data"
    }
   ],
   "metadata":{
    "datalore":{
     "node_id":"w0PjLTeif1gjpDbNOWt9T6",
     "type":"CODE",
     "hide_input_from_viewers":false,
     "hide_output_from_viewers":false,
     "report_properties":{
      "rowId":"WrnTdI4FgTsukmyHbHj02p"
     }
    }
   }
  },
  {
   "cell_type":"code",
   "source":[
    "air_quality['date_time'] = pd.to_datetime(air_quality['date_time'])"
   ],
   "execution_count":5,
   "outputs":[
    
   ],
   "metadata":{
    "datalore":{
     "node_id":"vMiBXE9vmHrP8w3zQV24lh",
     "type":"CODE",
     "hide_input_from_viewers":false,
     "hide_output_from_viewers":false,
     "report_properties":{
      "rowId":"JuX5VxhRog3G2HP0N2P2QG"
     }
    }
   }
  },
  {
   "cell_type":"code",
   "source":[
    "air_quality.dtypes"
   ],
   "execution_count":6,
   "outputs":[
    {
     "data":{
      "text\/html":[
       "<pre>date_time    datetime64[ns]\n",
       "PM2.5               float64\n",
       "PM10                float64\n",
       "SO2                 float64\n",
       "NO2                 float64\n",
       "CO                  float64\n",
       "O3                  float64\n",
       "TEMP                float64\n",
       "PRES                float64\n",
       "DEWP                float64\n",
       "RAIN                float64\n",
       "wd                   object\n",
       "WSPM                float64\n",
       "station              object\n",
       "dtype: object<\/pre>"
      ]
     },
     "metadata":{
      
     },
     "output_type":"display_data"
    }
   ],
   "metadata":{
    "datalore":{
     "node_id":"fpoXtux5yYr1kosTfimV6F",
     "type":"CODE",
     "hide_input_from_viewers":false,
     "hide_output_from_viewers":false,
     "report_properties":{
      "rowId":"BAmwLYVDDfwjHpskMutCAT"
     }
    }
   }
  },
  {
   "cell_type":"code",
   "source":[
    "air_quality['year'] = air_quality['date_time'].dt.year\n",
    "air_quality['month'] = air_quality['date_time'].dt.month\n",
    "air_quality['day'] = air_quality['date_time'].dt.day\n",
    "air_quality['hour'] = air_quality['date_time'].dt.hour\n",
    "air_quality['quarter'] = air_quality['date_time'].dt.quarter\n",
    "air_quality['day_of_week_num'] = air_quality['date_time'].dt.dayofweek\n",
    "air_quality['day_of_week_name'] = air_quality['date_time'].dt.day_name()\n",
    "\n",
    "air_quality[['date_time', 'year', 'month', 'day', 'hour', 'quarter', 'day_of_week_num', 'day_of_week_name']]"
   ],
   "execution_count":7,
   "outputs":[
    {
     "data":{
      "text\/html":[
       "<div>\n",
       "<style scoped>\n",
       "    .dataframe tbody tr th:only-of-type {\n",
       "        vertical-align: middle;\n",
       "    }\n",
       "\n",
       "    .dataframe tbody tr th {\n",
       "        vertical-align: top;\n",
       "    }\n",
       "\n",
       "    .dataframe thead th {\n",
       "        text-align: right;\n",
       "    }\n",
       "<\/style>\n",
       "<table border=\"1\" class=\"dataframe\">\n",
       "  <thead>\n",
       "    <tr style=\"text-align: right;\">\n",
       "      <th><\/th>\n",
       "      <th>date_time<\/th>\n",
       "      <th>year<\/th>\n",
       "      <th>month<\/th>\n",
       "      <th>day<\/th>\n",
       "      <th>hour<\/th>\n",
       "      <th>quarter<\/th>\n",
       "      <th>day_of_week_num<\/th>\n",
       "      <th>day_of_week_name<\/th>\n",
       "    <\/tr>\n",
       "  <\/thead>\n",
       "  <tbody>\n",
       "    <tr>\n",
       "      <th>0<\/th>\n",
       "      <td>2013-03-01 00:00:00<\/td>\n",
       "      <td>2013<\/td>\n",
       "      <td>3<\/td>\n",
       "      <td>1<\/td>\n",
       "      <td>0<\/td>\n",
       "      <td>1<\/td>\n",
       "      <td>4<\/td>\n",
       "      <td>Friday<\/td>\n",
       "    <\/tr>\n",
       "    <tr>\n",
       "      <th>1<\/th>\n",
       "      <td>2013-03-01 01:00:00<\/td>\n",
       "      <td>2013<\/td>\n",
       "      <td>3<\/td>\n",
       "      <td>1<\/td>\n",
       "      <td>1<\/td>\n",
       "      <td>1<\/td>\n",
       "      <td>4<\/td>\n",
       "      <td>Friday<\/td>\n",
       "    <\/tr>\n",
       "    <tr>\n",
       "      <th>2<\/th>\n",
       "      <td>2013-03-01 05:00:00<\/td>\n",
       "      <td>2013<\/td>\n",
       "      <td>3<\/td>\n",
       "      <td>1<\/td>\n",
       "      <td>5<\/td>\n",
       "      <td>1<\/td>\n",
       "      <td>4<\/td>\n",
       "      <td>Friday<\/td>\n",
       "    <\/tr>\n",
       "    <tr>\n",
       "      <th>3<\/th>\n",
       "      <td>2013-03-01 06:00:00<\/td>\n",
       "      <td>2013<\/td>\n",
       "      <td>3<\/td>\n",
       "      <td>1<\/td>\n",
       "      <td>6<\/td>\n",
       "      <td>1<\/td>\n",
       "      <td>4<\/td>\n",
       "      <td>Friday<\/td>\n",
       "    <\/tr>\n",
       "    <tr>\n",
       "      <th>4<\/th>\n",
       "      <td>2013-03-01 07:00:00<\/td>\n",
       "      <td>2013<\/td>\n",
       "      <td>3<\/td>\n",
       "      <td>1<\/td>\n",
       "      <td>7<\/td>\n",
       "      <td>1<\/td>\n",
       "      <td>4<\/td>\n",
       "      <td>Friday<\/td>\n",
       "    <\/tr>\n",
       "    <tr>\n",
       "      <th>...<\/th>\n",
       "      <td>...<\/td>\n",
       "      <td>...<\/td>\n",
       "      <td>...<\/td>\n",
       "      <td>...<\/td>\n",
       "      <td>...<\/td>\n",
       "      <td>...<\/td>\n",
       "      <td>...<\/td>\n",
       "      <td>...<\/td>\n",
       "    <\/tr>\n",
       "    <tr>\n",
       "      <th>95680<\/th>\n",
       "      <td>2017-02-28 15:00:00<\/td>\n",
       "      <td>2017<\/td>\n",
       "      <td>2<\/td>\n",
       "      <td>28<\/td>\n",
       "      <td>15<\/td>\n",
       "      <td>1<\/td>\n",
       "      <td>1<\/td>\n",
       "      <td>Tuesday<\/td>\n",
       "    <\/tr>\n",
       "    <tr>\n",
       "      <th>95681<\/th>\n",
       "      <td>2017-02-28 16:00:00<\/td>\n",
       "      <td>2017<\/td>\n",
       "      <td>2<\/td>\n",
       "      <td>28<\/td>\n",
       "      <td>16<\/td>\n",
       "      <td>1<\/td>\n",
       "      <td>1<\/td>\n",
       "      <td>Tuesday<\/td>\n",
       "    <\/tr>\n",
       "    <tr>\n",
       "      <th>95682<\/th>\n",
       "      <td>2017-02-28 21:00:00<\/td>\n",
       "      <td>2017<\/td>\n",
       "      <td>2<\/td>\n",
       "      <td>28<\/td>\n",
       "      <td>21<\/td>\n",
       "      <td>1<\/td>\n",
       "      <td>1<\/td>\n",
       "      <td>Tuesday<\/td>\n",
       "    <\/tr>\n",
       "    <tr>\n",
       "      <th>95683<\/th>\n",
       "      <td>2017-02-28 22:00:00<\/td>\n",
       "      <td>2017<\/td>\n",
       "      <td>2<\/td>\n",
       "      <td>28<\/td>\n",
       "      <td>22<\/td>\n",
       "      <td>1<\/td>\n",
       "      <td>1<\/td>\n",
       "      <td>Tuesday<\/td>\n",
       "    <\/tr>\n",
       "    <tr>\n",
       "      <th>95684<\/th>\n",
       "      <td>2017-02-28 23:00:00<\/td>\n",
       "      <td>2017<\/td>\n",
       "      <td>2<\/td>\n",
       "      <td>28<\/td>\n",
       "      <td>23<\/td>\n",
       "      <td>1<\/td>\n",
       "      <td>1<\/td>\n",
       "      <td>Tuesday<\/td>\n",
       "    <\/tr>\n",
       "  <\/tbody>\n",
       "<\/table>\n",
       "<p>95685 rows × 8 columns<\/p>\n",
       "<\/div>"
      ]
     },
     "metadata":{
      
     },
     "output_type":"display_data"
    }
   ],
   "metadata":{
    "datalore":{
     "node_id":"ejeOov3hrXsvOLr6bxpMtw",
     "type":"CODE",
     "hide_input_from_viewers":false,
     "hide_output_from_viewers":false,
     "report_properties":{
      "rowId":"W5gXIm5usvLAZWqSYeu2XJ"
     }
    }
   }
  },
  {
   "cell_type":"code",
   "source":[
    "air_quality[['day_of_week_num', 'day_of_week_name']].value_counts()"
   ],
   "execution_count":10,
   "outputs":[
    {
     "data":{
      "text\/html":[
       "<pre>day_of_week_num  day_of_week_name\n",
       "6                Sunday              13931\n",
       "5                Saturday            13812\n",
       "4                Friday              13782\n",
       "3                Thursday            13633\n",
       "0                Monday              13536\n",
       "1                Tuesday             13523\n",
       "2                Wednesday           13468\n",
       "dtype: int64<\/pre>"
      ]
     },
     "metadata":{
      
     },
     "output_type":"display_data"
    }
   ],
   "metadata":{
    "datalore":{
     "node_id":"Ek7dYkGWDqnBRqpypKZy1Y",
     "type":"CODE",
     "hide_input_from_viewers":false,
     "hide_output_from_viewers":false,
     "report_properties":{
      "rowId":"6ObwuBGn8GyWF0gxVmCSs1"
     }
    }
   }
  },
  {
   "cell_type":"code",
   "source":[
    "air_quality['date_time'].max()"
   ],
   "execution_count":11,
   "outputs":[
    {
     "data":{
      "text\/plain":[
       "Timestamp('2017-02-28 23:00:00')"
      ]
     },
     "metadata":{
      
     },
     "output_type":"display_data"
    }
   ],
   "metadata":{
    "datalore":{
     "node_id":"uQ6v1xwN64rvyRVmXwBWtJ",
     "type":"CODE",
     "hide_input_from_viewers":false,
     "hide_output_from_viewers":false,
     "report_properties":{
      "rowId":"tmqJu0jbPKqvLRUwMeqgiR"
     }
    }
   }
  },
  {
   "cell_type":"code",
   "source":[
    "air_quality['date_time'].min()"
   ],
   "execution_count":12,
   "outputs":[
    {
     "data":{
      "text\/plain":[
       "Timestamp('2013-03-01 00:00:00')"
      ]
     },
     "metadata":{
      
     },
     "output_type":"display_data"
    }
   ],
   "metadata":{
    "datalore":{
     "node_id":"3HBwRIkSbHatndfWPZ5zxK",
     "type":"CODE",
     "hide_input_from_viewers":false,
     "hide_output_from_viewers":false,
     "report_properties":{
      "rowId":"5gyeb6ROf2YVhJPIfVjBgh"
     }
    }
   }
  },
  {
   "cell_type":"code",
   "source":[
    "air_quality['date_time'].max() - air_quality['date_time'].min()"
   ],
   "execution_count":13,
   "outputs":[
    {
     "data":{
      "text\/plain":[
       "Timedelta('1460 days 23:00:00')"
      ]
     },
     "metadata":{
      
     },
     "output_type":"display_data"
    }
   ],
   "metadata":{
    "datalore":{
     "node_id":"awqArf1shbeh2eF5IucGmT",
     "type":"CODE",
     "hide_input_from_viewers":false,
     "hide_output_from_viewers":false,
     "report_properties":{
      "rowId":"HYclIfaVtYaplFlFoPTRqX"
     }
    }
   }
  },
  {
   "cell_type":"code",
   "source":[
    "date_time_range = air_quality['date_time'].max() - air_quality['date_time'].min()"
   ],
   "execution_count":14,
   "outputs":[
    
   ],
   "metadata":{
    "datalore":{
     "node_id":"gXXRzmoJMIwwj2RtEGvfNc",
     "type":"CODE",
     "hide_input_from_viewers":false,
     "hide_output_from_viewers":false,
     "report_properties":{
      "rowId":"cTrMBTy5esmKRs13yNTMkt"
     }
    }
   }
  },
  {
   "cell_type":"code",
   "source":[
    "pd.Timedelta(days=1)"
   ],
   "execution_count":15,
   "outputs":[
    {
     "data":{
      "text\/plain":[
       "Timedelta('1 days 00:00:00')"
      ]
     },
     "metadata":{
      
     },
     "output_type":"display_data"
    }
   ],
   "metadata":{
    "datalore":{
     "node_id":"qRgnKV0dREl4dyqhmk50qn",
     "type":"CODE",
     "hide_input_from_viewers":false,
     "hide_output_from_viewers":false,
     "report_properties":{
      "rowId":"psXCvWkhRXBPT7gIoNUulC"
     }
    }
   }
  },
  {
   "cell_type":"code",
   "source":[
    "pd.Timedelta(days=365)"
   ],
   "execution_count":16,
   "outputs":[
    {
     "data":{
      "text\/plain":[
       "Timedelta('365 days 00:00:00')"
      ]
     },
     "metadata":{
      
     },
     "output_type":"display_data"
    }
   ],
   "metadata":{
    "datalore":{
     "node_id":"3QlOofQEXmfFKj4c8Q5xuK",
     "type":"CODE",
     "hide_input_from_viewers":false,
     "hide_output_from_viewers":false,
     "report_properties":{
      "rowId":"DCzWL7tUmnW9pOKgAvXql7"
     }
    }
   }
  },
  {
   "cell_type":"code",
   "source":[
    "date_time_range\/pd.Timedelta(days=1)"
   ],
   "execution_count":17,
   "outputs":[
    {
     "data":{
      "text\/plain":[
       "1460.9583333333333"
      ]
     },
     "metadata":{
      
     },
     "output_type":"display_data"
    }
   ],
   "metadata":{
    "datalore":{
     "node_id":"rLL3wBOleBZfOqdaNt0StD",
     "type":"CODE",
     "hide_input_from_viewers":false,
     "hide_output_from_viewers":false,
     "report_properties":{
      "rowId":"D3khdlDkMdYvlWL07PkeHd"
     }
    }
   }
  },
  {
   "cell_type":"code",
   "source":[
    "date_time_range\/pd.Timedelta(days=365)"
   ],
   "execution_count":18,
   "outputs":[
    {
     "data":{
      "text\/plain":[
       "4.002625570776256"
      ]
     },
     "metadata":{
      
     },
     "output_type":"display_data"
    }
   ],
   "metadata":{
    "datalore":{
     "node_id":"Mg3CjSlCvHlUGu1O233C1g",
     "type":"CODE",
     "hide_input_from_viewers":false,
     "hide_output_from_viewers":false,
     "report_properties":{
      "rowId":"ImIbIkKOMhuXlpvZHhtlCH"
     }
    }
   }
  },
  {
   "cell_type":"code",
   "source":[
    "1460.9583333333333\/365"
   ],
   "execution_count":19,
   "outputs":[
    {
     "data":{
      "text\/plain":[
       "4.002625570776256"
      ]
     },
     "metadata":{
      
     },
     "output_type":"display_data"
    }
   ],
   "metadata":{
    "datalore":{
     "node_id":"xOKfR5BQ8i70RIcfShPgXl",
     "type":"CODE",
     "hide_input_from_viewers":false,
     "hide_output_from_viewers":false,
     "report_properties":{
      "rowId":"Oq9ez8z6pgBzelQaAFzvUN"
     }
    }
   }
  },
  {
   "cell_type":"code",
   "source":[
    "pd.Timestamp('2022\/01\/01')"
   ],
   "execution_count":20,
   "outputs":[
    {
     "data":{
      "text\/plain":[
       "Timestamp('2022-01-01 00:00:00')"
      ]
     },
     "metadata":{
      
     },
     "output_type":"display_data"
    }
   ],
   "metadata":{
    "datalore":{
     "node_id":"nivqvpdoiPgbpjA3cBNqf7",
     "type":"CODE",
     "hide_input_from_viewers":false,
     "hide_output_from_viewers":false,
     "report_properties":{
      "rowId":"Qn9kBsQa0lx4qFEI3fFIjB"
     }
    }
   }
  },
  {
   "cell_type":"code",
   "source":[
    "pd.Timestamp('2022\/01\/01') - air_quality['date_time']"
   ],
   "execution_count":21,
   "outputs":[
    {
     "data":{
      "text\/html":[
       "<pre>0       3228 days 00:00:00\n",
       "1       3227 days 23:00:00\n",
       "2       3227 days 19:00:00\n",
       "3       3227 days 18:00:00\n",
       "4       3227 days 17:00:00\n",
       "               ...        \n",
       "95680   1767 days 09:00:00\n",
       "95681   1767 days 08:00:00\n",
       "95682   1767 days 03:00:00\n",
       "95683   1767 days 02:00:00\n",
       "95684   1767 days 01:00:00\n",
       "Name: date_time, Length: 95685, dtype: timedelta64[ns]<\/pre>"
      ]
     },
     "metadata":{
      
     },
     "output_type":"display_data"
    }
   ],
   "metadata":{
    "datalore":{
     "node_id":"j81uvpf5jNODjGD53ppqWk",
     "type":"CODE",
     "hide_input_from_viewers":false,
     "hide_output_from_viewers":false,
     "report_properties":{
      "rowId":"exnrtqCAQzt8yGNbJcTNNl"
     }
    }
   }
  },
  {
   "cell_type":"code",
   "source":[
    "air_quality['time_until_2022'] = pd.Timestamp('2022\/01\/01') - air_quality['date_time']"
   ],
   "execution_count":22,
   "outputs":[
    
   ],
   "metadata":{
    "datalore":{
     "node_id":"QXtWUzMtnE4supXa8ySpOu",
     "type":"CODE",
     "hide_input_from_viewers":false,
     "hide_output_from_viewers":false,
     "report_properties":{
      "rowId":"IpJqATtGkdOx9iYIucg1mY"
     }
    }
   }
  },
  {
   "cell_type":"code",
   "source":[
    "air_quality['time_until_2022']\/pd.Timedelta(days=1)"
   ],
   "execution_count":23,
   "outputs":[
    {
     "data":{
      "text\/html":[
       "<pre>0        3228.000000\n",
       "1        3227.958333\n",
       "2        3227.791667\n",
       "3        3227.750000\n",
       "4        3227.708333\n",
       "            ...     \n",
       "95680    1767.375000\n",
       "95681    1767.333333\n",
       "95682    1767.125000\n",
       "95683    1767.083333\n",
       "95684    1767.041667\n",
       "Name: time_until_2022, Length: 95685, dtype: float64<\/pre>"
      ]
     },
     "metadata":{
      
     },
     "output_type":"display_data"
    }
   ],
   "metadata":{
    "datalore":{
     "node_id":"rvVyijOKgxuXElQNxP6osQ",
     "type":"CODE",
     "hide_input_from_viewers":false,
     "hide_output_from_viewers":false,
     "report_properties":{
      "rowId":"o9VWGqyf5Xp3NkiBI6Yyfz"
     }
    }
   }
  },
  {
   "cell_type":"code",
   "source":[
    "air_quality['time_until_2022_days'] = air_quality['time_until_2022']\/pd.Timedelta(days=1)\n",
    "air_quality['time_until_2022_weeks'] = air_quality['time_until_2022']\/pd.Timedelta(weeks=1)"
   ],
   "execution_count":24,
   "outputs":[
    
   ],
   "metadata":{
    "datalore":{
     "node_id":"ftHPZVTypMZ57fJYG6iar6",
     "type":"CODE",
     "hide_input_from_viewers":false,
     "hide_output_from_viewers":false,
     "report_properties":{
      "rowId":"d84LcoDXclef31LiMkrkpQ"
     }
    }
   }
  },
  {
   "cell_type":"code",
   "source":[
    "air_quality[['date_time', 'time_until_2022', 'time_until_2022_days', 'time_until_2022_weeks']]"
   ],
   "execution_count":25,
   "outputs":[
    {
     "data":{
      "text\/html":[
       "<div>\n",
       "<style scoped>\n",
       "    .dataframe tbody tr th:only-of-type {\n",
       "        vertical-align: middle;\n",
       "    }\n",
       "\n",
       "    .dataframe tbody tr th {\n",
       "        vertical-align: top;\n",
       "    }\n",
       "\n",
       "    .dataframe thead th {\n",
       "        text-align: right;\n",
       "    }\n",
       "<\/style>\n",
       "<table border=\"1\" class=\"dataframe\">\n",
       "  <thead>\n",
       "    <tr style=\"text-align: right;\">\n",
       "      <th><\/th>\n",
       "      <th>date_time<\/th>\n",
       "      <th>time_until_2022<\/th>\n",
       "      <th>time_until_2022_days<\/th>\n",
       "      <th>time_until_2022_weeks<\/th>\n",
       "    <\/tr>\n",
       "  <\/thead>\n",
       "  <tbody>\n",
       "    <tr>\n",
       "      <th>0<\/th>\n",
       "      <td>2013-03-01 00:00:00<\/td>\n",
       "      <td>3228 days 00:00:00<\/td>\n",
       "      <td>3228.000000<\/td>\n",
       "      <td>461.142857<\/td>\n",
       "    <\/tr>\n",
       "    <tr>\n",
       "      <th>1<\/th>\n",
       "      <td>2013-03-01 01:00:00<\/td>\n",
       "      <td>3227 days 23:00:00<\/td>\n",
       "      <td>3227.958333<\/td>\n",
       "      <td>461.136905<\/td>\n",
       "    <\/tr>\n",
       "    <tr>\n",
       "      <th>2<\/th>\n",
       "      <td>2013-03-01 05:00:00<\/td>\n",
       "      <td>3227 days 19:00:00<\/td>\n",
       "      <td>3227.791667<\/td>\n",
       "      <td>461.113095<\/td>\n",
       "    <\/tr>\n",
       "    <tr>\n",
       "      <th>3<\/th>\n",
       "      <td>2013-03-01 06:00:00<\/td>\n",
       "      <td>3227 days 18:00:00<\/td>\n",
       "      <td>3227.750000<\/td>\n",
       "      <td>461.107143<\/td>\n",
       "    <\/tr>\n",
       "    <tr>\n",
       "      <th>4<\/th>\n",
       "      <td>2013-03-01 07:00:00<\/td>\n",
       "      <td>3227 days 17:00:00<\/td>\n",
       "      <td>3227.708333<\/td>\n",
       "      <td>461.101190<\/td>\n",
       "    <\/tr>\n",
       "    <tr>\n",
       "      <th>...<\/th>\n",
       "      <td>...<\/td>\n",
       "      <td>...<\/td>\n",
       "      <td>...<\/td>\n",
       "      <td>...<\/td>\n",
       "    <\/tr>\n",
       "    <tr>\n",
       "      <th>95680<\/th>\n",
       "      <td>2017-02-28 15:00:00<\/td>\n",
       "      <td>1767 days 09:00:00<\/td>\n",
       "      <td>1767.375000<\/td>\n",
       "      <td>252.482143<\/td>\n",
       "    <\/tr>\n",
       "    <tr>\n",
       "      <th>95681<\/th>\n",
       "      <td>2017-02-28 16:00:00<\/td>\n",
       "      <td>1767 days 08:00:00<\/td>\n",
       "      <td>1767.333333<\/td>\n",
       "      <td>252.476190<\/td>\n",
       "    <\/tr>\n",
       "    <tr>\n",
       "      <th>95682<\/th>\n",
       "      <td>2017-02-28 21:00:00<\/td>\n",
       "      <td>1767 days 03:00:00<\/td>\n",
       "      <td>1767.125000<\/td>\n",
       "      <td>252.446429<\/td>\n",
       "    <\/tr>\n",
       "    <tr>\n",
       "      <th>95683<\/th>\n",
       "      <td>2017-02-28 22:00:00<\/td>\n",
       "      <td>1767 days 02:00:00<\/td>\n",
       "      <td>1767.083333<\/td>\n",
       "      <td>252.440476<\/td>\n",
       "    <\/tr>\n",
       "    <tr>\n",
       "      <th>95684<\/th>\n",
       "      <td>2017-02-28 23:00:00<\/td>\n",
       "      <td>1767 days 01:00:00<\/td>\n",
       "      <td>1767.041667<\/td>\n",
       "      <td>252.434524<\/td>\n",
       "    <\/tr>\n",
       "  <\/tbody>\n",
       "<\/table>\n",
       "<p>95685 rows × 4 columns<\/p>\n",
       "<\/div>"
      ]
     },
     "metadata":{
      
     },
     "output_type":"display_data"
    }
   ],
   "metadata":{
    "datalore":{
     "node_id":"HjRex97IjFSVqd8u5aFAON",
     "type":"CODE",
     "hide_input_from_viewers":false,
     "hide_output_from_viewers":false,
     "report_properties":{
      "rowId":"DRsy0ejwNhopdNeLrxh0PX"
     }
    }
   }
  },
  {
   "cell_type":"code",
   "source":[
    "3228\/7"
   ],
   "execution_count":26,
   "outputs":[
    {
     "data":{
      "text\/plain":[
       "461.14285714285717"
      ]
     },
     "metadata":{
      
     },
     "output_type":"display_data"
    }
   ],
   "metadata":{
    "datalore":{
     "node_id":"uCq7bJOdW94qyR2JS6Cieg",
     "type":"CODE",
     "hide_input_from_viewers":false,
     "hide_output_from_viewers":false,
     "report_properties":{
      "rowId":"LzMhxanASE5ED10yPuOV8F"
     }
    }
   }
  },
  {
   "cell_type":"code",
   "source":[
    "air_quality['date_time'] < pd.Timestamp('2016\/01\/01')"
   ],
   "execution_count":27,
   "outputs":[
    {
     "data":{
      "text\/html":[
       "<pre>0         True\n",
       "1         True\n",
       "2         True\n",
       "3         True\n",
       "4         True\n",
       "         ...  \n",
       "95680    False\n",
       "95681    False\n",
       "95682    False\n",
       "95683    False\n",
       "95684    False\n",
       "Name: date_time, Length: 95685, dtype: bool<\/pre>"
      ]
     },
     "metadata":{
      
     },
     "output_type":"display_data"
    }
   ],
   "metadata":{
    "datalore":{
     "node_id":"TYdPCxnAP8AslfXZXpD8fs",
     "type":"CODE",
     "hide_input_from_viewers":false,
     "hide_output_from_viewers":false,
     "report_properties":{
      "rowId":"YGQ27ACPZ3uA6ZWcfHHgM6"
     }
    }
   }
  },
  {
   "cell_type":"code",
   "source":[
    "air_quality['prior_2016_ind'] = (air_quality['date_time'] < pd.Timestamp('2016\/01\/01'))"
   ],
   "execution_count":28,
   "outputs":[
    
   ],
   "metadata":{
    "datalore":{
     "node_id":"OezgXISLvVlxMGcJMgxMiN",
     "type":"CODE",
     "hide_input_from_viewers":false,
     "hide_output_from_viewers":false,
     "report_properties":{
      "rowId":"xYOsf4t9oRxYUpLK7pUC49"
     }
    }
   }
  },
  {
   "cell_type":"code",
   "source":[
    "air_quality[['date_time', 'prior_2016_ind']]"
   ],
   "execution_count":29,
   "outputs":[
    {
     "data":{
      "text\/html":[
       "<div>\n",
       "<style scoped>\n",
       "    .dataframe tbody tr th:only-of-type {\n",
       "        vertical-align: middle;\n",
       "    }\n",
       "\n",
       "    .dataframe tbody tr th {\n",
       "        vertical-align: top;\n",
       "    }\n",
       "\n",
       "    .dataframe thead th {\n",
       "        text-align: right;\n",
       "    }\n",
       "<\/style>\n",
       "<table border=\"1\" class=\"dataframe\">\n",
       "  <thead>\n",
       "    <tr style=\"text-align: right;\">\n",
       "      <th><\/th>\n",
       "      <th>date_time<\/th>\n",
       "      <th>prior_2016_ind<\/th>\n",
       "    <\/tr>\n",
       "  <\/thead>\n",
       "  <tbody>\n",
       "    <tr>\n",
       "      <th>0<\/th>\n",
       "      <td>2013-03-01 00:00:00<\/td>\n",
       "      <td>True<\/td>\n",
       "    <\/tr>\n",
       "    <tr>\n",
       "      <th>1<\/th>\n",
       "      <td>2013-03-01 01:00:00<\/td>\n",
       "      <td>True<\/td>\n",
       "    <\/tr>\n",
       "    <tr>\n",
       "      <th>2<\/th>\n",
       "      <td>2013-03-01 05:00:00<\/td>\n",
       "      <td>True<\/td>\n",
       "    <\/tr>\n",
       "    <tr>\n",
       "      <th>3<\/th>\n",
       "      <td>2013-03-01 06:00:00<\/td>\n",
       "      <td>True<\/td>\n",
       "    <\/tr>\n",
       "    <tr>\n",
       "      <th>4<\/th>\n",
       "      <td>2013-03-01 07:00:00<\/td>\n",
       "      <td>True<\/td>\n",
       "    <\/tr>\n",
       "    <tr>\n",
       "      <th>...<\/th>\n",
       "      <td>...<\/td>\n",
       "      <td>...<\/td>\n",
       "    <\/tr>\n",
       "    <tr>\n",
       "      <th>95680<\/th>\n",
       "      <td>2017-02-28 15:00:00<\/td>\n",
       "      <td>False<\/td>\n",
       "    <\/tr>\n",
       "    <tr>\n",
       "      <th>95681<\/th>\n",
       "      <td>2017-02-28 16:00:00<\/td>\n",
       "      <td>False<\/td>\n",
       "    <\/tr>\n",
       "    <tr>\n",
       "      <th>95682<\/th>\n",
       "      <td>2017-02-28 21:00:00<\/td>\n",
       "      <td>False<\/td>\n",
       "    <\/tr>\n",
       "    <tr>\n",
       "      <th>95683<\/th>\n",
       "      <td>2017-02-28 22:00:00<\/td>\n",
       "      <td>False<\/td>\n",
       "    <\/tr>\n",
       "    <tr>\n",
       "      <th>95684<\/th>\n",
       "      <td>2017-02-28 23:00:00<\/td>\n",
       "      <td>False<\/td>\n",
       "    <\/tr>\n",
       "  <\/tbody>\n",
       "<\/table>\n",
       "<p>95685 rows × 2 columns<\/p>\n",
       "<\/div>"
      ]
     },
     "metadata":{
      
     },
     "output_type":"display_data"
    }
   ],
   "metadata":{
    "datalore":{
     "node_id":"n3q4sVt8sr9YLW0mavZBQS",
     "type":"CODE",
     "hide_input_from_viewers":false,
     "hide_output_from_viewers":false,
     "report_properties":{
      "rowId":"Cc1OUC5CgMb0tJbMsONYYQ"
     }
    }
   }
  },
  {
   "cell_type":"code",
   "source":[
    "air_quality.columns"
   ],
   "execution_count":30,
   "outputs":[
    {
     "data":{
      "text\/plain":[
       "Index(['date_time', 'PM2.5', 'PM10', 'SO2', 'NO2', 'CO', 'O3', 'TEMP', 'PRES',\n",
       "       'DEWP', 'RAIN', 'wd', 'WSPM', 'station', 'year', 'month', 'day', 'hour',\n",
       "       'quarter', 'day_of_week_num', 'day_of_week_name', 'time_until_2022',\n",
       "       'time_until_2022_days', 'time_until_2022_weeks', 'prior_2016_ind'],\n",
       "      dtype='object')"
      ]
     },
     "metadata":{
      
     },
     "output_type":"display_data"
    }
   ],
   "metadata":{
    "datalore":{
     "node_id":"dsiy74gXwbq8nmQVX51aug",
     "type":"CODE",
     "hide_input_from_viewers":false,
     "hide_output_from_viewers":false,
     "report_properties":{
      "rowId":"A0Hqh6m0kNzeLNyyyvGDfk"
     }
    }
   }
  },
  {
   "cell_type":"markdown",
   "source":[
    "# Binning"
   ],
   "attachments":{
    
   },
   "metadata":{
    "datalore":{
     "node_id":"A2C3e9hvbrEsV99IS9V1ly",
     "type":"MD",
     "hide_input_from_viewers":false,
     "hide_output_from_viewers":false,
     "report_properties":{
      "rowId":"QniokYh6zbJGYqdhyvV7Vn"
     }
    }
   }
  },
  {
   "cell_type":"code",
   "source":[
    "air_quality['PM2.5'].head()"
   ],
   "execution_count":31,
   "outputs":[
    {
     "data":{
      "text\/html":[
       "<pre>0    9.0\n",
       "1    4.0\n",
       "2    4.0\n",
       "3    5.0\n",
       "4    3.0\n",
       "Name: PM2.5, dtype: float64<\/pre>"
      ]
     },
     "metadata":{
      
     },
     "output_type":"display_data"
    }
   ],
   "metadata":{
    "datalore":{
     "node_id":"nWPfhAkoNCyyekLbY2GS0h",
     "type":"CODE",
     "hide_input_from_viewers":false,
     "hide_output_from_viewers":false,
     "report_properties":{
      "rowId":"ZtUCczJnnRIp08peVQBiRz"
     }
    }
   }
  },
  {
   "cell_type":"code",
   "source":[
    "air_quality['PM2.5'].hist()"
   ],
   "execution_count":null,
   "outputs":[
    {
     "name":"stdout",
     "text":[
      "\n"
     ],
     "output_type":"stream"
    },
    {
     "name":"stderr",
     "text":[
      "\n"
     ],
     "output_type":"stream"
    },
    {
     "data":{
      "text\/plain":[
       "<AxesSubplot:>"
      ]
     },
     "metadata":{
      
     },
     "output_type":"display_data"
    },
    {
     "data":{
      "image\/png":"[encoded data removed]"
     },
     "metadata":{
      "image\/png":{
       
      }
     },
     "output_type":"display_data"
    },
    {
     "data":{
      "text\/plain":[
       "<Figure size 432x288 with 1 Axes>"
      ]
     },
     "metadata":{
      
     },
     "output_type":"display_data"
    }
   ],
   "metadata":{
    "datalore":{
     "node_id":"sirognKvKDmW9VNHy19X5L",
     "type":"CODE",
     "hide_input_from_viewers":false,
     "hide_output_from_viewers":false,
     "report_properties":{
      "rowId":"JAgvd85Jhre65qaiv9rXaf"
     }
    }
   }
  },
  {
   "cell_type":"code",
   "source":[
    "pd.cut(air_quality['PM2.5'], bins=10)"
   ],
   "execution_count":33,
   "outputs":[
    {
     "data":{
      "text\/html":[
       "<pre>0        (1.181, 83.9]\n",
       "1        (1.181, 83.9]\n",
       "2        (1.181, 83.9]\n",
       "3        (1.181, 83.9]\n",
       "4        (1.181, 83.9]\n",
       "             ...      \n",
       "95680    (1.181, 83.9]\n",
       "95681    (1.181, 83.9]\n",
       "95682    (1.181, 83.9]\n",
       "95683    (1.181, 83.9]\n",
       "95684    (1.181, 83.9]\n",
       "Name: PM2.5, Length: 95685, dtype: category\n",
       "Categories (10, interval[float64, right]): [(1.181, 83.9] %lt; (83.9, 165.8] %lt; (165.8, 247.7] %lt; (247.7, 329.6] ... (493.4, 575.3] %lt; (575.3, 657.2] %lt; (657.2, 739.1] %lt; (739.1, 821.0]]<\/pre>"
      ]
     },
     "metadata":{
      
     },
     "output_type":"display_data"
    }
   ],
   "metadata":{
    "datalore":{
     "node_id":"sQK2zz67teMaBCf97hBMBL",
     "type":"CODE",
     "hide_input_from_viewers":false,
     "hide_output_from_viewers":false,
     "report_properties":{
      "rowId":"ZidzZrXseI4yBA7aqmCh5J"
     }
    }
   }
  },
  {
   "cell_type":"code",
   "source":[
    "pd.cut(air_quality['PM2.5'], bins=10).value_counts()"
   ],
   "execution_count":null,
   "outputs":[
    {
     "data":{
      "text\/plain":[
       "(1.181, 83.9]     59923\n",
       "(83.9, 165.8]     22741\n",
       "(165.8, 247.7]     8132\n",
       "(247.7, 329.6]     3225\n",
       "(329.6, 411.5]     1011\n",
       "(411.5, 493.4]      384\n",
       "(493.4, 575.3]      171\n",
       "(575.3, 657.2]       70\n",
       "(657.2, 739.1]       22\n",
       "(739.1, 821.0]        6\n",
       "Name: PM2.5, dtype: int64"
      ]
     },
     "metadata":{
      
     },
     "output_type":"display_data"
    }
   ],
   "metadata":{
    "datalore":{
     "node_id":"3GVgPLTVqNYsxbv9O5vWuc",
     "type":"CODE",
     "hide_input_from_viewers":false,
     "hide_output_from_viewers":false,
     "report_properties":{
      "rowId":"wBIJKzdRf0ICW4yLX09PMM"
     }
    }
   }
  },
  {
   "cell_type":"code",
   "source":[
    "83.9 - 1.181"
   ],
   "execution_count":null,
   "outputs":[
    {
     "data":{
      "text\/plain":[
       "82.71900000000001"
      ]
     },
     "metadata":{
      
     },
     "output_type":"display_data"
    }
   ],
   "metadata":{
    "datalore":{
     "node_id":"hwZ8OzGCERz4ntWZwe0AjC",
     "type":"CODE",
     "hide_input_from_viewers":false,
     "hide_output_from_viewers":false,
     "report_properties":{
      "rowId":"BDb8VczCokVtcowBwMZV8p"
     }
    }
   }
  },
  {
   "cell_type":"code",
   "source":[
    "247.7 - 165.8"
   ],
   "execution_count":null,
   "outputs":[
    {
     "data":{
      "text\/plain":[
       "81.89999999999998"
      ]
     },
     "metadata":{
      
     },
     "output_type":"display_data"
    }
   ],
   "metadata":{
    "datalore":{
     "node_id":"AK09R2xRFMBDI8WDp7dNGN",
     "type":"CODE",
     "hide_input_from_viewers":false,
     "hide_output_from_viewers":false,
     "report_properties":{
      "rowId":"iXe4zSLibvxQ32ngXdM7SP"
     }
    }
   }
  },
  {
   "cell_type":"code",
   "source":[
    "pd.cut(air_quality['PM2.5'], bins=[0, 12, 35.4, 55.4, 150.4, 250.4, 999])"
   ],
   "execution_count":null,
   "outputs":[
    {
     "data":{
      "text\/plain":[
       "0         (0.0, 12.0]\n",
       "1         (0.0, 12.0]\n",
       "2         (0.0, 12.0]\n",
       "3         (0.0, 12.0]\n",
       "4         (0.0, 12.0]\n",
       "             ...     \n",
       "95680     (0.0, 12.0]\n",
       "95681     (0.0, 12.0]\n",
       "95682    (12.0, 35.4]\n",
       "95683    (12.0, 35.4]\n",
       "95684    (12.0, 35.4]\n",
       "Name: PM2.5, Length: 95685, dtype: category\n",
       "Categories (6, interval[float64]): [(0.0, 12.0] < (12.0, 35.4] < (35.4, 55.4] < (55.4, 150.4] < (150.4, 250.4] < (250.4, 999.0]]"
      ]
     },
     "metadata":{
      
     },
     "output_type":"display_data"
    }
   ],
   "metadata":{
    "datalore":{
     "node_id":"jRBea7eKtknbQUOKm3nrdb",
     "type":"CODE",
     "hide_input_from_viewers":false,
     "hide_output_from_viewers":false,
     "report_properties":{
      "rowId":"yQZY0hUiT3vE3orTBYSrzJ"
     }
    }
   }
  },
  {
   "cell_type":"code",
   "source":[
    "pd.cut(air_quality['PM2.5'],\n",
    "       bins=[0, 12, 35.4, 55.4, 150.4, 250.4, 999],\n",
    "       labels=['Good', \n",
    "               'Moderate', \n",
    "               'Unhealthy for sensitive groups', \n",
    "               'Unhealthy',\n",
    "               'Very unhealthy',\n",
    "               'Hazardous'])"
   ],
   "execution_count":null,
   "outputs":[
    {
     "data":{
      "text\/plain":[
       "0            Good\n",
       "1            Good\n",
       "2            Good\n",
       "3            Good\n",
       "4            Good\n",
       "           ...   \n",
       "95680        Good\n",
       "95681        Good\n",
       "95682    Moderate\n",
       "95683    Moderate\n",
       "95684    Moderate\n",
       "Name: PM2.5, Length: 95685, dtype: category\n",
       "Categories (6, object): ['Good' < 'Moderate' < 'Unhealthy for sensitive groups' < 'Unhealthy' < 'Very unhealthy' < 'Hazardous']"
      ]
     },
     "metadata":{
      
     },
     "output_type":"display_data"
    }
   ],
   "metadata":{
    "datalore":{
     "node_id":"sGBZykYBJNPq4rEXlC8a2J",
     "type":"CODE",
     "hide_input_from_viewers":false,
     "hide_output_from_viewers":false,
     "report_properties":{
      "rowId":"dX1zNyGuaICA4hEG8yYajI"
     }
    }
   }
  },
  {
   "cell_type":"code",
   "source":[
    "air_quality['PM2.5_category'] = pd.cut(air_quality['PM2.5'],\n",
    "                                       bins=[0, 12, 35.4, 55.4, 150.4, 250.4, 999],\n",
    "                                       labels=['Good', \n",
    "                                               'Moderate', \n",
    "                                               'Unhealthy for sensitive groups', \n",
    "                                               'Unhealthy',\n",
    "                                               'Very unhealthy',\n",
    "                                               'Hazardous'])"
   ],
   "execution_count":null,
   "outputs":[
    
   ],
   "metadata":{
    "datalore":{
     "node_id":"hKXKygIhCbc1jZqcJEVdKP",
     "type":"CODE",
     "hide_input_from_viewers":false,
     "hide_output_from_viewers":false,
     "report_properties":{
      "rowId":"zcrYsdXpIJHaKOCBx9J4Xc"
     }
    }
   }
  },
  {
   "cell_type":"code",
   "source":[
    "air_quality[['PM2.5', 'PM2.5_category']]"
   ],
   "execution_count":null,
   "outputs":[
    {
     "data":{
      "text\/html":[
       "<div>\n",
       "<style scoped>\n",
       "    .dataframe tbody tr th:only-of-type {\n",
       "        vertical-align: middle;\n",
       "    }\n",
       "\n",
       "    .dataframe tbody tr th {\n",
       "        vertical-align: top;\n",
       "    }\n",
       "\n",
       "    .dataframe thead th {\n",
       "        text-align: right;\n",
       "    }\n",
       "<\/style>\n",
       "<table border=\"1\" class=\"dataframe\">\n",
       "  <thead>\n",
       "    <tr style=\"text-align: right;\">\n",
       "      <th><\/th>\n",
       "      <th>PM2.5<\/th>\n",
       "      <th>PM2.5_category<\/th>\n",
       "    <\/tr>\n",
       "  <\/thead>\n",
       "  <tbody>\n",
       "    <tr>\n",
       "      <th>0<\/th>\n",
       "      <td>9.0<\/td>\n",
       "      <td>Good<\/td>\n",
       "    <\/tr>\n",
       "    <tr>\n",
       "      <th>1<\/th>\n",
       "      <td>4.0<\/td>\n",
       "      <td>Good<\/td>\n",
       "    <\/tr>\n",
       "    <tr>\n",
       "      <th>2<\/th>\n",
       "      <td>4.0<\/td>\n",
       "      <td>Good<\/td>\n",
       "    <\/tr>\n",
       "    <tr>\n",
       "      <th>3<\/th>\n",
       "      <td>5.0<\/td>\n",
       "      <td>Good<\/td>\n",
       "    <\/tr>\n",
       "    <tr>\n",
       "      <th>4<\/th>\n",
       "      <td>3.0<\/td>\n",
       "      <td>Good<\/td>\n",
       "    <\/tr>\n",
       "    <tr>\n",
       "      <th>...<\/th>\n",
       "      <td>...<\/td>\n",
       "      <td>...<\/td>\n",
       "    <\/tr>\n",
       "    <tr>\n",
       "      <th>95680<\/th>\n",
       "      <td>9.0<\/td>\n",
       "      <td>Good<\/td>\n",
       "    <\/tr>\n",
       "    <tr>\n",
       "      <th>95681<\/th>\n",
       "      <td>10.0<\/td>\n",
       "      <td>Good<\/td>\n",
       "    <\/tr>\n",
       "    <tr>\n",
       "      <th>95682<\/th>\n",
       "      <td>18.0<\/td>\n",
       "      <td>Moderate<\/td>\n",
       "    <\/tr>\n",
       "    <tr>\n",
       "      <th>95683<\/th>\n",
       "      <td>15.0<\/td>\n",
       "      <td>Moderate<\/td>\n",
       "    <\/tr>\n",
       "    <tr>\n",
       "      <th>95684<\/th>\n",
       "      <td>15.0<\/td>\n",
       "      <td>Moderate<\/td>\n",
       "    <\/tr>\n",
       "  <\/tbody>\n",
       "<\/table>\n",
       "<p>95685 rows × 2 columns<\/p>\n",
       "<\/div>"
      ]
     },
     "metadata":{
      
     },
     "output_type":"display_data"
    },
    {
     "data":{
      "text\/plain":[
       "       PM2.5 PM2.5_category\n",
       "0        9.0           Good\n",
       "1        4.0           Good\n",
       "2        4.0           Good\n",
       "3        5.0           Good\n",
       "4        3.0           Good\n",
       "...      ...            ...\n",
       "95680    9.0           Good\n",
       "95681   10.0           Good\n",
       "95682   18.0       Moderate\n",
       "95683   15.0       Moderate\n",
       "95684   15.0       Moderate\n",
       "\n",
       "[95685 rows x 2 columns]"
      ]
     },
     "metadata":{
      
     },
     "output_type":"display_data"
    }
   ],
   "metadata":{
    "datalore":{
     "node_id":"hqVyBbE4hyih0HqGWSl2sN",
     "type":"CODE",
     "hide_input_from_viewers":false,
     "hide_output_from_viewers":false,
     "report_properties":{
      "rowId":"xJQov48RicU8FI2pMCKVUR"
     }
    }
   }
  },
  {
   "cell_type":"code",
   "source":[
    "air_quality['PM2.5_category'].value_counts()"
   ],
   "execution_count":null,
   "outputs":[
    {
     "data":{
      "text\/plain":[
       "Unhealthy                         34257\n",
       "Moderate                          19853\n",
       "Good                              13576\n",
       "Unhealthy for sensitive groups    12457\n",
       "Very unhealthy                    10821\n",
       "Hazardous                          4721\n",
       "Name: PM2.5_category, dtype: int64"
      ]
     },
     "metadata":{
      
     },
     "output_type":"display_data"
    }
   ],
   "metadata":{
    "datalore":{
     "node_id":"hHN68B6gjEJZYceRLXYzqd",
     "type":"CODE",
     "hide_input_from_viewers":false,
     "hide_output_from_viewers":false,
     "report_properties":{
      "rowId":"AmDBhKCeQR2S1ZUfFMKG7q"
     }
    }
   }
  },
  {
   "cell_type":"code",
   "source":[
    "air_quality['PM2.5_category'].value_counts(normalize=True)"
   ],
   "execution_count":null,
   "outputs":[
    {
     "data":{
      "text\/plain":[
       "Unhealthy                         0.358018\n",
       "Moderate                          0.207483\n",
       "Good                              0.141882\n",
       "Unhealthy for sensitive groups    0.130188\n",
       "Very unhealthy                    0.113090\n",
       "Hazardous                         0.049339\n",
       "Name: PM2.5_category, dtype: float64"
      ]
     },
     "metadata":{
      
     },
     "output_type":"display_data"
    }
   ],
   "metadata":{
    "datalore":{
     "node_id":"eRVRqxWEKn2r0uEz0jx0UX",
     "type":"CODE",
     "hide_input_from_viewers":false,
     "hide_output_from_viewers":false,
     "report_properties":{
      "rowId":"pzqGwoYmamhwKpocYN0U2C"
     }
    }
   }
  },
  {
   "cell_type":"code",
   "source":[
    "pd.qcut(air_quality['PM2.5'], q=4)"
   ],
   "execution_count":null,
   "outputs":[
    {
     "data":{
      "text\/plain":[
       "0        (1.999, 23.0]\n",
       "1        (1.999, 23.0]\n",
       "2        (1.999, 23.0]\n",
       "3        (1.999, 23.0]\n",
       "4        (1.999, 23.0]\n",
       "             ...      \n",
       "95680    (1.999, 23.0]\n",
       "95681    (1.999, 23.0]\n",
       "95682    (1.999, 23.0]\n",
       "95683    (1.999, 23.0]\n",
       "95684    (1.999, 23.0]\n",
       "Name: PM2.5, Length: 95685, dtype: category\n",
       "Categories (4, interval[float64]): [(1.999, 23.0] < (23.0, 59.0] < (59.0, 116.0] < (116.0, 821.0]]"
      ]
     },
     "metadata":{
      
     },
     "output_type":"display_data"
    }
   ],
   "metadata":{
    "datalore":{
     "node_id":"6ZSprerQSlzFWxjkLIyl6g",
     "type":"CODE",
     "hide_input_from_viewers":false,
     "hide_output_from_viewers":false,
     "report_properties":{
      "rowId":"uDvr6I9MpwWweqo1IZBXnM"
     }
    }
   }
  },
  {
   "cell_type":"code",
   "source":[
    "pd.qcut(air_quality['PM2.5'], q=4).value_counts(normalize=True)"
   ],
   "execution_count":null,
   "outputs":[
    {
     "data":{
      "text\/plain":[
       "(1.999, 23.0]     0.258222\n",
       "(59.0, 116.0]     0.249862\n",
       "(116.0, 821.0]    0.247113\n",
       "(23.0, 59.0]      0.244803\n",
       "Name: PM2.5, dtype: float64"
      ]
     },
     "metadata":{
      
     },
     "output_type":"display_data"
    }
   ],
   "metadata":{
    "datalore":{
     "node_id":"go0ouYg4i4Y2xAO7yzdyhD",
     "type":"CODE",
     "hide_input_from_viewers":false,
     "hide_output_from_viewers":false,
     "report_properties":{
      "rowId":"AXNK2Arqwfhpm4Z29pRva1"
     }
    }
   }
  },
  {
   "cell_type":"code",
   "source":[
    "pd.qcut(air_quality['PM2.5'], q=4).value_counts(normalize=True, sort=False)"
   ],
   "execution_count":null,
   "outputs":[
    {
     "data":{
      "text\/plain":[
       "(1.999, 23.0]     0.258222\n",
       "(23.0, 59.0]      0.244803\n",
       "(59.0, 116.0]     0.249862\n",
       "(116.0, 821.0]    0.247113\n",
       "Name: PM2.5, dtype: float64"
      ]
     },
     "metadata":{
      
     },
     "output_type":"display_data"
    }
   ],
   "metadata":{
    "datalore":{
     "node_id":"KgSRhqGqi0MlxFOKj3Xbfn",
     "type":"CODE",
     "hide_input_from_viewers":false,
     "hide_output_from_viewers":false,
     "report_properties":{
      "rowId":"SPM4upvj72xXS7uOUPNbmf"
     }
    }
   }
  },
  {
   "cell_type":"code",
   "source":[
    "air_quality['PM2.5'].describe()"
   ],
   "execution_count":null,
   "outputs":[
    {
     "data":{
      "text\/plain":[
       "count    95685.000000\n",
       "mean        83.477884\n",
       "std         82.678134\n",
       "min          2.000000\n",
       "25%         23.000000\n",
       "50%         59.000000\n",
       "75%        116.000000\n",
       "max        821.000000\n",
       "Name: PM2.5, dtype: float64"
      ]
     },
     "metadata":{
      
     },
     "output_type":"display_data"
    }
   ],
   "metadata":{
    "datalore":{
     "node_id":"b4PJLe4YDEPXsmIMmz9fsa",
     "type":"CODE",
     "hide_input_from_viewers":false,
     "hide_output_from_viewers":false,
     "report_properties":{
      "rowId":"mG2hCgYKIYYDYN43FK9qrj"
     }
    }
   }
  },
  {
   "cell_type":"code",
   "source":[
    "pd.qcut(air_quality['TEMP'], \n",
    "        q=5,\n",
    "        labels=['Very Cold', 'Cold', 'Warm', 'Hot', 'Very Hot'])"
   ],
   "execution_count":null,
   "outputs":[
    {
     "data":{
      "text\/plain":[
       "0        Very Cold\n",
       "1        Very Cold\n",
       "2        Very Cold\n",
       "3        Very Cold\n",
       "4        Very Cold\n",
       "           ...    \n",
       "95680         Warm\n",
       "95681         Warm\n",
       "95682         Warm\n",
       "95683         Warm\n",
       "95684         Cold\n",
       "Name: TEMP, Length: 95685, dtype: category\n",
       "Categories (5, object): ['Very Cold' < 'Cold' < 'Warm' < 'Hot' < 'Very Hot']"
      ]
     },
     "metadata":{
      
     },
     "output_type":"display_data"
    }
   ],
   "metadata":{
    "datalore":{
     "node_id":"8rsJcNnbQ4PqMbzysLZgYB",
     "type":"CODE",
     "hide_input_from_viewers":false,
     "hide_output_from_viewers":false,
     "report_properties":{
      "rowId":"J2W8hM41q9esLjqJZVwwdb"
     }
    }
   }
  },
  {
   "cell_type":"code",
   "source":[
    "pd.qcut(air_quality['TEMP'], \n",
    "        q=5,\n",
    "        labels=['Very Cold', 'Cold', 'Warm', 'Hot', 'Very Hot']).value_counts()"
   ],
   "execution_count":null,
   "outputs":[
    {
     "data":{
      "text\/plain":[
       "Hot          19189\n",
       "Very Cold    19156\n",
       "Cold         19154\n",
       "Warm         19143\n",
       "Very Hot     19043\n",
       "Name: TEMP, dtype: int64"
      ]
     },
     "metadata":{
      
     },
     "output_type":"display_data"
    }
   ],
   "metadata":{
    "datalore":{
     "node_id":"MLFs8pVT6U0HDZAIomwSrs",
     "type":"CODE",
     "hide_input_from_viewers":false,
     "hide_output_from_viewers":false,
     "report_properties":{
      "rowId":"xiXiKJPK8So5iHx6xvC6gi"
     }
    }
   }
  },
  {
   "cell_type":"code",
   "source":[
    "air_quality['TEMP_category'] = pd.qcut(air_quality['TEMP'], \n",
    "                                       q=5,\n",
    "                                       labels=['Very Cold', 'Cold', 'Warm', 'Hot', 'Very Hot'])"
   ],
   "execution_count":null,
   "outputs":[
    
   ],
   "metadata":{
    "datalore":{
     "node_id":"aaOpfAv36kRRP8rICg7ayE",
     "type":"CODE",
     "hide_input_from_viewers":false,
     "hide_output_from_viewers":false,
     "report_properties":{
      "rowId":"ozn0gr9WLItBpySQlGtyjQ"
     }
    }
   }
  },
  {
   "cell_type":"code",
   "source":[
    "air_quality[['TEMP', 'TEMP_category']]"
   ],
   "execution_count":null,
   "outputs":[
    {
     "data":{
      "text\/html":[
       "<div>\n",
       "<style scoped>\n",
       "    .dataframe tbody tr th:only-of-type {\n",
       "        vertical-align: middle;\n",
       "    }\n",
       "\n",
       "    .dataframe tbody tr th {\n",
       "        vertical-align: top;\n",
       "    }\n",
       "\n",
       "    .dataframe thead th {\n",
       "        text-align: right;\n",
       "    }\n",
       "<\/style>\n",
       "<table border=\"1\" class=\"dataframe\">\n",
       "  <thead>\n",
       "    <tr style=\"text-align: right;\">\n",
       "      <th><\/th>\n",
       "      <th>TEMP<\/th>\n",
       "      <th>TEMP_category<\/th>\n",
       "    <\/tr>\n",
       "  <\/thead>\n",
       "  <tbody>\n",
       "    <tr>\n",
       "      <th>0<\/th>\n",
       "      <td>-0.5<\/td>\n",
       "      <td>Very Cold<\/td>\n",
       "    <\/tr>\n",
       "    <tr>\n",
       "      <th>1<\/th>\n",
       "      <td>-0.7<\/td>\n",
       "      <td>Very Cold<\/td>\n",
       "    <\/tr>\n",
       "    <tr>\n",
       "      <th>2<\/th>\n",
       "      <td>-2.4<\/td>\n",
       "      <td>Very Cold<\/td>\n",
       "    <\/tr>\n",
       "    <tr>\n",
       "      <th>3<\/th>\n",
       "      <td>-2.5<\/td>\n",
       "      <td>Very Cold<\/td>\n",
       "    <\/tr>\n",
       "    <tr>\n",
       "      <th>4<\/th>\n",
       "      <td>-1.4<\/td>\n",
       "      <td>Very Cold<\/td>\n",
       "    <\/tr>\n",
       "    <tr>\n",
       "      <th>...<\/th>\n",
       "      <td>...<\/td>\n",
       "      <td>...<\/td>\n",
       "    <\/tr>\n",
       "    <tr>\n",
       "      <th>95680<\/th>\n",
       "      <td>15.4<\/td>\n",
       "      <td>Warm<\/td>\n",
       "    <\/tr>\n",
       "    <tr>\n",
       "      <th>95681<\/th>\n",
       "      <td>14.9<\/td>\n",
       "      <td>Warm<\/td>\n",
       "    <\/tr>\n",
       "    <tr>\n",
       "      <th>95682<\/th>\n",
       "      <td>10.8<\/td>\n",
       "      <td>Warm<\/td>\n",
       "    <\/tr>\n",
       "    <tr>\n",
       "      <th>95683<\/th>\n",
       "      <td>10.5<\/td>\n",
       "      <td>Warm<\/td>\n",
       "    <\/tr>\n",
       "    <tr>\n",
       "      <th>95684<\/th>\n",
       "      <td>8.6<\/td>\n",
       "      <td>Cold<\/td>\n",
       "    <\/tr>\n",
       "  <\/tbody>\n",
       "<\/table>\n",
       "<p>95685 rows × 2 columns<\/p>\n",
       "<\/div>"
      ]
     },
     "metadata":{
      
     },
     "output_type":"display_data"
    },
    {
     "data":{
      "text\/plain":[
       "       TEMP TEMP_category\n",
       "0      -0.5     Very Cold\n",
       "1      -0.7     Very Cold\n",
       "2      -2.4     Very Cold\n",
       "3      -2.5     Very Cold\n",
       "4      -1.4     Very Cold\n",
       "...     ...           ...\n",
       "95680  15.4          Warm\n",
       "95681  14.9          Warm\n",
       "95682  10.8          Warm\n",
       "95683  10.5          Warm\n",
       "95684   8.6          Cold\n",
       "\n",
       "[95685 rows x 2 columns]"
      ]
     },
     "metadata":{
      
     },
     "output_type":"display_data"
    }
   ],
   "metadata":{
    "datalore":{
     "node_id":"38bpPdMWVn7tKIrQAk3opT",
     "type":"CODE",
     "hide_input_from_viewers":false,
     "hide_output_from_viewers":false,
     "report_properties":{
      "rowId":"Op2o5u0ZiGOFquE8k6kzIl"
     }
    }
   }
  },
  {
   "cell_type":"code",
   "source":[
    "air_quality.to_pickle('air_quality.pkl')"
   ],
   "execution_count":35,
   "outputs":[
    
   ],
   "metadata":{
    "datalore":{
     "node_id":"SPUqzYEA3BgobcjfpcTGxz",
     "type":"CODE",
     "hide_input_from_viewers":false,
     "hide_output_from_viewers":false,
     "report_properties":{
      "rowId":"H94oi1jZN8Pmqehy810wi9"
     }
    }
   }
  },
  {
   "cell_type":"markdown",
   "source":[
    "# Mapping to new values"
   ],
   "attachments":{
    
   },
   "metadata":{
    "datalore":{
     "node_id":"QpH90AXXBADggNaAlwU0lF",
     "type":"MD",
     "hide_input_from_viewers":false,
     "hide_output_from_viewers":false,
     "report_properties":{
      "rowId":"yKndbCDYtwnJLybxfwF8mV"
     }
    }
   }
  },
  {
   "cell_type":"code",
   "source":[
    "import pandas as pd\n",
    "air_quality = pd.read_pickle('air_quality.pkl')"
   ],
   "execution_count":36,
   "outputs":[
    
   ],
   "metadata":{
    "datalore":{
     "node_id":"Zq7zinYf7NEOrpiToDapmo",
     "type":"CODE",
     "hide_input_from_viewers":false,
     "hide_output_from_viewers":false,
     "report_properties":{
      "rowId":"ms99VPS89rCBMWYZJ70MRy"
     }
    }
   }
  },
  {
   "cell_type":"code",
   "source":[
    "air_quality['day_of_week_name']"
   ],
   "execution_count":37,
   "outputs":[
    {
     "data":{
      "text\/html":[
       "<pre>0         Friday\n",
       "1         Friday\n",
       "2         Friday\n",
       "3         Friday\n",
       "4         Friday\n",
       "          ...   \n",
       "95680    Tuesday\n",
       "95681    Tuesday\n",
       "95682    Tuesday\n",
       "95683    Tuesday\n",
       "95684    Tuesday\n",
       "Name: day_of_week_name, Length: 95685, dtype: object<\/pre>"
      ]
     },
     "metadata":{
      
     },
     "output_type":"display_data"
    }
   ],
   "metadata":{
    "datalore":{
     "node_id":"v8HHuA5SVjuz77J9rhEoqM",
     "type":"CODE",
     "hide_input_from_viewers":false,
     "hide_output_from_viewers":false,
     "report_properties":{
      "rowId":"mxL2RgWdYVrVlawCl5k95h"
     }
    }
   }
  },
  {
   "cell_type":"code",
   "source":[
    "air_quality['day_of_week_name'].value_counts()"
   ],
   "execution_count":40,
   "outputs":[
    {
     "data":{
      "text\/html":[
       "<pre>Sunday       13931\n",
       "Saturday     13812\n",
       "Friday       13782\n",
       "Thursday     13633\n",
       "Monday       13536\n",
       "Tuesday      13523\n",
       "Wednesday    13468\n",
       "Name: day_of_week_name, dtype: int64<\/pre>"
      ]
     },
     "metadata":{
      
     },
     "output_type":"display_data"
    }
   ],
   "metadata":{
    "datalore":{
     "node_id":"sAMCQSt0aYvqDrRO2NpmcF",
     "type":"CODE",
     "hide_input_from_viewers":false,
     "hide_output_from_viewers":false,
     "report_properties":{
      "rowId":"dPTO6rptl5zvi1EZlkBg4R"
     }
    }
   }
  },
  {
   "cell_type":"code",
   "source":[
    "day_of_week_mapping = {\n",
    "    'Monday': 'Weekday', \n",
    "    'Tuesday': 'Weekday',\n",
    "    'Wednesday': 'Weekday',\n",
    "    'Thursday': 'Weekday',\n",
    "    'Friday': 'Weekday',\n",
    "    'Saturday': 'Weekend',\n",
    "    'Sunday': 'Weekend'\n",
    "}\n",
    "air_quality['day_of_week_name'].map(arg=day_of_week_mapping)"
   ],
   "execution_count":41,
   "outputs":[
    {
     "data":{
      "text\/html":[
       "<pre>0        Weekday\n",
       "1        Weekday\n",
       "2        Weekday\n",
       "3        Weekday\n",
       "4        Weekday\n",
       "          ...   \n",
       "95680    Weekday\n",
       "95681    Weekday\n",
       "95682    Weekday\n",
       "95683    Weekday\n",
       "95684    Weekday\n",
       "Name: day_of_week_name, Length: 95685, dtype: object<\/pre>"
      ]
     },
     "metadata":{
      
     },
     "output_type":"display_data"
    }
   ],
   "metadata":{
    "datalore":{
     "node_id":"BDUWGCtR1AsG8eVjz4QK3l",
     "type":"CODE",
     "hide_input_from_viewers":false,
     "hide_output_from_viewers":false,
     "report_properties":{
      "rowId":"XdEJUx8QeSbBQXo0qUyXEH"
     }
    }
   }
  },
  {
   "cell_type":"code",
   "source":[
    "air_quality['day_of_week_name'].map(day_of_week_mapping).value_counts()"
   ],
   "execution_count":42,
   "outputs":[
    {
     "data":{
      "text\/html":[
       "<pre>Weekday    67942\n",
       "Weekend    27743\n",
       "Name: day_of_week_name, dtype: int64<\/pre>"
      ]
     },
     "metadata":{
      
     },
     "output_type":"display_data"
    }
   ],
   "metadata":{
    "datalore":{
     "node_id":"i698T145G93qpgwrvyUc7B",
     "type":"CODE",
     "hide_input_from_viewers":false,
     "hide_output_from_viewers":false,
     "report_properties":{
      "rowId":"NWZ5qnJ1YQp1BUQaz9TFhR"
     }
    }
   }
  },
  {
   "cell_type":"code",
   "source":[
    "air_quality['day_of_week_name'].value_counts()"
   ],
   "execution_count":43,
   "outputs":[
    {
     "data":{
      "text\/html":[
       "<pre>Sunday       13931\n",
       "Saturday     13812\n",
       "Friday       13782\n",
       "Thursday     13633\n",
       "Monday       13536\n",
       "Tuesday      13523\n",
       "Wednesday    13468\n",
       "Name: day_of_week_name, dtype: int64<\/pre>"
      ]
     },
     "metadata":{
      
     },
     "output_type":"display_data"
    }
   ],
   "metadata":{
    "datalore":{
     "node_id":"N4OmwrkC6XswJFanTOEa5s",
     "type":"CODE",
     "hide_input_from_viewers":false,
     "hide_output_from_viewers":false,
     "report_properties":{
      "rowId":"dYUUX0zdG5jIaS31g4Zfi9"
     }
    }
   }
  },
  {
   "cell_type":"code",
   "source":[
    "# air_quality['day_of_week_name']=air_quality['day_of_week_name'].map(day_of_week_mapping)"
   ],
   "execution_count":null,
   "outputs":[
    
   ],
   "metadata":{
    "datalore":{
     "node_id":"pdZzD0E577oz5X1kqUEze3",
     "type":"CODE",
     "hide_input_from_viewers":false,
     "hide_output_from_viewers":false,
     "report_properties":{
      "rowId":"OQpyWgQ26m4CD90DQK3gea"
     }
    }
   }
  },
  {
   "cell_type":"code",
   "source":[
    "air_quality['day_of_week_name'].map(len)"
   ],
   "execution_count":44,
   "outputs":[
    {
     "data":{
      "text\/html":[
       "<pre>0        6\n",
       "1        6\n",
       "2        6\n",
       "3        6\n",
       "4        6\n",
       "        ..\n",
       "95680    7\n",
       "95681    7\n",
       "95682    7\n",
       "95683    7\n",
       "95684    7\n",
       "Name: day_of_week_name, Length: 95685, dtype: int64<\/pre>"
      ]
     },
     "metadata":{
      
     },
     "output_type":"display_data"
    }
   ],
   "metadata":{
    "datalore":{
     "node_id":"HNboHmBKzCjsvhj0m55kUW",
     "type":"CODE",
     "hide_input_from_viewers":false,
     "hide_output_from_viewers":false,
     "report_properties":{
      "rowId":"7so0cwgIegdJR0hCizYgVM"
     }
    }
   }
  },
  {
   "cell_type":"code",
   "source":[
    "air_quality['time_until_2022_days']"
   ],
   "execution_count":45,
   "outputs":[
    {
     "data":{
      "text\/html":[
       "<pre>0        3228.000000\n",
       "1        3227.958333\n",
       "2        3227.791667\n",
       "3        3227.750000\n",
       "4        3227.708333\n",
       "            ...     \n",
       "95680    1767.375000\n",
       "95681    1767.333333\n",
       "95682    1767.125000\n",
       "95683    1767.083333\n",
       "95684    1767.041667\n",
       "Name: time_until_2022_days, Length: 95685, dtype: float64<\/pre>"
      ]
     },
     "metadata":{
      
     },
     "output_type":"display_data"
    }
   ],
   "metadata":{
    "datalore":{
     "node_id":"ilbQaB3kpeqh2fhtqOihau",
     "type":"CODE",
     "hide_input_from_viewers":false,
     "hide_output_from_viewers":false,
     "report_properties":{
      "rowId":"sl1g08sbCgPgWz1Sqy1IRW"
     }
    }
   }
  },
  {
   "cell_type":"code",
   "source":[
    "air_quality['time_until_2022_days'].map(int)"
   ],
   "execution_count":46,
   "outputs":[
    {
     "data":{
      "text\/html":[
       "<pre>0        3228\n",
       "1        3227\n",
       "2        3227\n",
       "3        3227\n",
       "4        3227\n",
       "         ... \n",
       "95680    1767\n",
       "95681    1767\n",
       "95682    1767\n",
       "95683    1767\n",
       "95684    1767\n",
       "Name: time_until_2022_days, Length: 95685, dtype: int64<\/pre>"
      ]
     },
     "metadata":{
      
     },
     "output_type":"display_data"
    }
   ],
   "metadata":{
    "datalore":{
     "node_id":"GBAPWnb6lKdcI3DWIVKEUO",
     "type":"CODE",
     "hide_input_from_viewers":false,
     "hide_output_from_viewers":false,
     "report_properties":{
      "rowId":"Ez04HJkEuAZmCy0cltaQ9O"
     }
    }
   }
  },
  {
   "cell_type":"code",
   "source":[
    "air_quality['day_of_week_name'].map(lambda day: 'Weekend' if day in ['Saturday', 'Sunday'] else 'Weekday')"
   ],
   "execution_count":47,
   "outputs":[
    {
     "data":{
      "text\/html":[
       "<pre>0        Weekday\n",
       "1        Weekday\n",
       "2        Weekday\n",
       "3        Weekday\n",
       "4        Weekday\n",
       "          ...   \n",
       "95680    Weekday\n",
       "95681    Weekday\n",
       "95682    Weekday\n",
       "95683    Weekday\n",
       "95684    Weekday\n",
       "Name: day_of_week_name, Length: 95685, dtype: object<\/pre>"
      ]
     },
     "metadata":{
      
     },
     "output_type":"display_data"
    }
   ],
   "metadata":{
    "datalore":{
     "node_id":"0NM0AQwF8DCqmywkxMENwt",
     "type":"CODE",
     "hide_input_from_viewers":false,
     "hide_output_from_viewers":false,
     "report_properties":{
      "rowId":"WenwbflB6AiDr3iQdD1wuy"
     }
    }
   }
  },
  {
   "cell_type":"code",
   "source":[
    "def weekday_weekend(day):\n",
    "    if day in ['Saturday', 'Sunday']:\n",
    "        return 'Weekend'\n",
    "    else:\n",
    "        return 'Weekday'"
   ],
   "execution_count":48,
   "outputs":[
    
   ],
   "metadata":{
    "datalore":{
     "node_id":"uwZ2cVyrV7PhWVmuq1BQ5f",
     "type":"CODE",
     "hide_input_from_viewers":false,
     "hide_output_from_viewers":false,
     "report_properties":{
      "rowId":"QzdIzxkFo23UrcCN5See3J"
     }
    }
   }
  },
  {
   "cell_type":"code",
   "source":[
    "air_quality['day_of_week_name'].map(weekday_weekend)"
   ],
   "execution_count":49,
   "outputs":[
    {
     "data":{
      "text\/html":[
       "<pre>0        Weekday\n",
       "1        Weekday\n",
       "2        Weekday\n",
       "3        Weekday\n",
       "4        Weekday\n",
       "          ...   \n",
       "95680    Weekday\n",
       "95681    Weekday\n",
       "95682    Weekday\n",
       "95683    Weekday\n",
       "95684    Weekday\n",
       "Name: day_of_week_name, Length: 95685, dtype: object<\/pre>"
      ]
     },
     "metadata":{
      
     },
     "output_type":"display_data"
    }
   ],
   "metadata":{
    "datalore":{
     "node_id":"4iWBcnWgMlkxCTHWcVk4FK",
     "type":"CODE",
     "hide_input_from_viewers":false,
     "hide_output_from_viewers":false,
     "report_properties":{
      "rowId":"HQhUcCgVxxechAsqn8VmqZ"
     }
    }
   }
  },
  {
   "cell_type":"code",
   "source":[
    "air_quality['wd'].value_counts()"
   ],
   "execution_count":50,
   "outputs":[
    {
     "data":{
      "text\/html":[
       "<pre>NE     9447\n",
       "ENE    8744\n",
       "E      7848\n",
       "NW     7124\n",
       "N      6962\n",
       "SW     6410\n",
       "ESE    6107\n",
       "SSW    6103\n",
       "NNE    5930\n",
       "S      4939\n",
       "WSW    4686\n",
       "SE     4651\n",
       "NNW    4605\n",
       "WNW    4324\n",
       "SSE    3951\n",
       "W      3854\n",
       "Name: wd, dtype: int64<\/pre>"
      ]
     },
     "metadata":{
      
     },
     "output_type":"display_data"
    }
   ],
   "metadata":{
    "datalore":{
     "node_id":"cgoW6qUV6eQngAuSyTyXMw",
     "type":"CODE",
     "hide_input_from_viewers":false,
     "hide_output_from_viewers":false,
     "report_properties":{
      "rowId":"vu3v8INWx6S9iMvorsvR3d"
     }
    }
   }
  },
  {
   "cell_type":"code",
   "source":[
    "def wd_direction(wd):\n",
    "    if wd[0] == 'N':\n",
    "        return 'North'\n",
    "    elif wd[0] == 'S':\n",
    "        return 'South'\n",
    "    elif wd[0] == 'E':\n",
    "        return 'East'\n",
    "    else:\n",
    "        return 'West'"
   ],
   "execution_count":51,
   "outputs":[
    
   ],
   "metadata":{
    "datalore":{
     "node_id":"ZKcKjLqbyksqf5EOCdfdzv",
     "type":"CODE",
     "hide_input_from_viewers":false,
     "hide_output_from_viewers":false,
     "report_properties":{
      "rowId":"q28ArCmvPcoHwQtacTI82s"
     }
    }
   }
  },
  {
   "cell_type":"code",
   "source":[
    "air_quality['wd'].map(wd_direction)"
   ],
   "execution_count":52,
   "outputs":[
    {
     "data":{
      "text\/html":[
       "<pre>0        North\n",
       "1        North\n",
       "2        North\n",
       "3        North\n",
       "4        North\n",
       "         ...  \n",
       "95680    North\n",
       "95681    North\n",
       "95682    North\n",
       "95683    North\n",
       "95684    North\n",
       "Name: wd, Length: 95685, dtype: object<\/pre>"
      ]
     },
     "metadata":{
      
     },
     "output_type":"display_data"
    }
   ],
   "metadata":{
    "datalore":{
     "node_id":"ntcRYPhu02joCJes2Dm8IG",
     "type":"CODE",
     "hide_input_from_viewers":false,
     "hide_output_from_viewers":false,
     "report_properties":{
      "rowId":"133W6lfXmCAIGKPgpspYkr"
     }
    }
   }
  },
  {
   "cell_type":"code",
   "source":[
    "air_quality['wd'].map(wd_direction).value_counts()"
   ],
   "execution_count":53,
   "outputs":[
    {
     "data":{
      "text\/html":[
       "<pre>North    34068\n",
       "South    26054\n",
       "East     22699\n",
       "West     12864\n",
       "Name: wd, dtype: int64<\/pre>"
      ]
     },
     "metadata":{
      
     },
     "output_type":"display_data"
    }
   ],
   "metadata":{
    "datalore":{
     "node_id":"P70bZLA5Q4YM36fGjIEUD7",
     "type":"CODE",
     "hide_input_from_viewers":false,
     "hide_output_from_viewers":false,
     "report_properties":{
      "rowId":"7W0B9m1LVEeJu0OM9LES3y"
     }
    }
   }
  },
  {
   "cell_type":"markdown",
   "source":[
    "# Applying functions"
   ],
   "attachments":{
    
   },
   "metadata":{
    "datalore":{
     "node_id":"xF8wuYMHWz8YaMRTXNqWDH",
     "type":"MD",
     "hide_input_from_viewers":false,
     "hide_output_from_viewers":false,
     "report_properties":{
      "rowId":"XZ4qKUippxGaVmgzvi3vH9"
     }
    }
   }
  },
  {
   "cell_type":"code",
   "source":[
    "import pandas as pd\n",
    "air_quality = pd.read_pickle('air_quality.pkl')"
   ],
   "execution_count":54,
   "outputs":[
    
   ],
   "metadata":{
    "datalore":{
     "node_id":"XIF5y2t5GSrRhsRYTc24Zm",
     "type":"CODE",
     "hide_input_from_viewers":false,
     "hide_output_from_viewers":false,
     "report_properties":{
      "rowId":"Lek4jv2PBAohp4MW1aD4rK"
     }
    }
   }
  },
  {
   "cell_type":"code",
   "source":[
    "air_quality[['PM2.5', 'PM10']]"
   ],
   "execution_count":55,
   "outputs":[
    {
     "data":{
      "text\/html":[
       "<div>\n",
       "<style scoped>\n",
       "    .dataframe tbody tr th:only-of-type {\n",
       "        vertical-align: middle;\n",
       "    }\n",
       "\n",
       "    .dataframe tbody tr th {\n",
       "        vertical-align: top;\n",
       "    }\n",
       "\n",
       "    .dataframe thead th {\n",
       "        text-align: right;\n",
       "    }\n",
       "<\/style>\n",
       "<table border=\"1\" class=\"dataframe\">\n",
       "  <thead>\n",
       "    <tr style=\"text-align: right;\">\n",
       "      <th><\/th>\n",
       "      <th>PM2.5<\/th>\n",
       "      <th>PM10<\/th>\n",
       "    <\/tr>\n",
       "  <\/thead>\n",
       "  <tbody>\n",
       "    <tr>\n",
       "      <th>0<\/th>\n",
       "      <td>9.0<\/td>\n",
       "      <td>9.0<\/td>\n",
       "    <\/tr>\n",
       "    <tr>\n",
       "      <th>1<\/th>\n",
       "      <td>4.0<\/td>\n",
       "      <td>4.0<\/td>\n",
       "    <\/tr>\n",
       "    <tr>\n",
       "      <th>2<\/th>\n",
       "      <td>4.0<\/td>\n",
       "      <td>4.0<\/td>\n",
       "    <\/tr>\n",
       "    <tr>\n",
       "      <th>3<\/th>\n",
       "      <td>5.0<\/td>\n",
       "      <td>5.0<\/td>\n",
       "    <\/tr>\n",
       "    <tr>\n",
       "      <th>4<\/th>\n",
       "      <td>3.0<\/td>\n",
       "      <td>6.0<\/td>\n",
       "    <\/tr>\n",
       "    <tr>\n",
       "      <th>...<\/th>\n",
       "      <td>...<\/td>\n",
       "      <td>...<\/td>\n",
       "    <\/tr>\n",
       "    <tr>\n",
       "      <th>95680<\/th>\n",
       "      <td>9.0<\/td>\n",
       "      <td>9.0<\/td>\n",
       "    <\/tr>\n",
       "    <tr>\n",
       "      <th>95681<\/th>\n",
       "      <td>10.0<\/td>\n",
       "      <td>29.0<\/td>\n",
       "    <\/tr>\n",
       "    <tr>\n",
       "      <th>95682<\/th>\n",
       "      <td>18.0<\/td>\n",
       "      <td>32.0<\/td>\n",
       "    <\/tr>\n",
       "    <tr>\n",
       "      <th>95683<\/th>\n",
       "      <td>15.0<\/td>\n",
       "      <td>42.0<\/td>\n",
       "    <\/tr>\n",
       "    <tr>\n",
       "      <th>95684<\/th>\n",
       "      <td>15.0<\/td>\n",
       "      <td>50.0<\/td>\n",
       "    <\/tr>\n",
       "  <\/tbody>\n",
       "<\/table>\n",
       "<p>95685 rows × 2 columns<\/p>\n",
       "<\/div>"
      ]
     },
     "metadata":{
      
     },
     "output_type":"display_data"
    }
   ],
   "metadata":{
    "datalore":{
     "node_id":"dZYkiqbLGb3Pf91JBOFziF",
     "type":"CODE",
     "hide_input_from_viewers":false,
     "hide_output_from_viewers":false,
     "report_properties":{
      "rowId":"4Q98kjtNo34m5nq8Ju1WO1"
     }
    }
   }
  },
  {
   "cell_type":"code",
   "source":[
    "air_quality[['PM2.5', 'PM10']].apply('mean')"
   ],
   "execution_count":56,
   "outputs":[
    {
     "data":{
      "text\/html":[
       "<pre>PM2.5     83.477884\n",
       "PM10     111.899959\n",
       "dtype: float64<\/pre>"
      ]
     },
     "metadata":{
      
     },
     "output_type":"display_data"
    }
   ],
   "metadata":{
    "datalore":{
     "node_id":"NnO2dyVnw1iOUOSzwsSeJW",
     "type":"CODE",
     "hide_input_from_viewers":false,
     "hide_output_from_viewers":false,
     "report_properties":{
      "rowId":"A9BlZoYmiOhQCI6CLlAyvr"
     }
    }
   }
  },
  {
   "cell_type":"code",
   "source":[
    "air_quality[['PM2.5', 'PM10']].apply('mean', axis=0)"
   ],
   "execution_count":null,
   "outputs":[
    {
     "data":{
      "text\/plain":[
       "PM2.5     83.477884\n",
       "PM10     111.899959\n",
       "dtype: float64"
      ]
     },
     "metadata":{
      
     },
     "output_type":"display_data"
    }
   ],
   "metadata":{
    "datalore":{
     "node_id":"IrAlXtJ5V7J1MWj12xDSRW",
     "type":"CODE",
     "hide_input_from_viewers":false,
     "hide_output_from_viewers":false,
     "report_properties":{
      "rowId":"OmQgK1G1W2yggk8c7uutv8"
     }
    }
   }
  },
  {
   "cell_type":"code",
   "source":[
    "air_quality[['PM2.5', 'PM10']].apply('mean', axis=1)"
   ],
   "execution_count":57,
   "outputs":[
    {
     "data":{
      "text\/html":[
       "<pre>0         9.0\n",
       "1         4.0\n",
       "2         4.0\n",
       "3         5.0\n",
       "4         4.5\n",
       "         ... \n",
       "95680     9.0\n",
       "95681    19.5\n",
       "95682    25.0\n",
       "95683    28.5\n",
       "95684    32.5\n",
       "Length: 95685, dtype: float64<\/pre>"
      ]
     },
     "metadata":{
      
     },
     "output_type":"display_data"
    }
   ],
   "metadata":{
    "datalore":{
     "node_id":"3Y89oBHXpHOX5yOVMaZ1Ma",
     "type":"CODE",
     "hide_input_from_viewers":false,
     "hide_output_from_viewers":false,
     "report_properties":{
      "rowId":"hphz1jUxZy0ooloOa4ev8d"
     }
    }
   }
  },
  {
   "cell_type":"code",
   "source":[
    "air_quality[['PM2.5', 'PM10']].mean()"
   ],
   "execution_count":58,
   "outputs":[
    {
     "data":{
      "text\/html":[
       "<pre>PM2.5     83.477884\n",
       "PM10     111.899959\n",
       "dtype: float64<\/pre>"
      ]
     },
     "metadata":{
      
     },
     "output_type":"display_data"
    }
   ],
   "metadata":{
    "datalore":{
     "node_id":"tPXCblEbyzXwOYfI2NnaBq",
     "type":"CODE",
     "hide_input_from_viewers":false,
     "hide_output_from_viewers":false,
     "report_properties":{
      "rowId":"NX7lYdV5SBnorV62286HXJ"
     }
    }
   }
  },
  {
   "cell_type":"code",
   "source":[
    "air_quality[['PM2.5', 'PM10']].mean(axis=1)"
   ],
   "execution_count":null,
   "outputs":[
    {
     "data":{
      "text\/plain":[
       "0         9.0\n",
       "1         4.0\n",
       "2         4.0\n",
       "3         5.0\n",
       "4         4.5\n",
       "         ... \n",
       "95680     9.0\n",
       "95681    19.5\n",
       "95682    25.0\n",
       "95683    28.5\n",
       "95684    32.5\n",
       "Length: 95685, dtype: float64"
      ]
     },
     "metadata":{
      
     },
     "output_type":"display_data"
    }
   ],
   "metadata":{
    "datalore":{
     "node_id":"rP2nJN073YNX1nPg9CMHF5",
     "type":"CODE",
     "hide_input_from_viewers":false,
     "hide_output_from_viewers":false,
     "report_properties":{
      "rowId":"S2XW1JeVMh1HhweLH7gHW2"
     }
    }
   }
  },
  {
   "cell_type":"code",
   "source":[
    "def pm_ratio(row):\n",
    "    return row['PM2.5']\/row['PM10']\n",
    "\n",
    "air_quality.apply(pm_ratio, axis=1)"
   ],
   "execution_count":59,
   "outputs":[
    {
     "data":{
      "text\/html":[
       "<pre>0        1.000000\n",
       "1        1.000000\n",
       "2        1.000000\n",
       "3        1.000000\n",
       "4        0.500000\n",
       "           ...   \n",
       "95680    1.000000\n",
       "95681    0.344828\n",
       "95682    0.562500\n",
       "95683    0.357143\n",
       "95684    0.300000\n",
       "Length: 95685, dtype: float64<\/pre>"
      ]
     },
     "metadata":{
      
     },
     "output_type":"display_data"
    }
   ],
   "metadata":{
    "datalore":{
     "node_id":"vHcxyY3MGJyv8hoMnA1d7n",
     "type":"CODE",
     "hide_input_from_viewers":false,
     "hide_output_from_viewers":false,
     "report_properties":{
      "rowId":"i8Wi65J2VvSWGn14zYacZc"
     }
    }
   }
  },
  {
   "cell_type":"code",
   "source":[
    "air_quality.apply(lambda row: row['PM2.5']\/row['PM10'], axis=1)"
   ],
   "execution_count":60,
   "outputs":[
    {
     "data":{
      "text\/html":[
       "<pre>0        1.000000\n",
       "1        1.000000\n",
       "2        1.000000\n",
       "3        1.000000\n",
       "4        0.500000\n",
       "           ...   \n",
       "95680    1.000000\n",
       "95681    0.344828\n",
       "95682    0.562500\n",
       "95683    0.357143\n",
       "95684    0.300000\n",
       "Length: 95685, dtype: float64<\/pre>"
      ]
     },
     "metadata":{
      
     },
     "output_type":"display_data"
    }
   ],
   "metadata":{
    "datalore":{
     "node_id":"DbzKUupj8zSpqjMJSvMGT6",
     "type":"CODE",
     "hide_input_from_viewers":false,
     "hide_output_from_viewers":false,
     "report_properties":{
      "rowId":"Gt6CUyu0RSdNHpoS6ZhBxD"
     }
    }
   }
  },
  {
   "cell_type":"code",
   "source":[
    "air_quality['PM2.5']\/air_quality['PM10']"
   ],
   "execution_count":61,
   "outputs":[
    {
     "data":{
      "text\/html":[
       "<pre>0        1.000000\n",
       "1        1.000000\n",
       "2        1.000000\n",
       "3        1.000000\n",
       "4        0.500000\n",
       "           ...   \n",
       "95680    1.000000\n",
       "95681    0.344828\n",
       "95682    0.562500\n",
       "95683    0.357143\n",
       "95684    0.300000\n",
       "Length: 95685, dtype: float64<\/pre>"
      ]
     },
     "metadata":{
      
     },
     "output_type":"display_data"
    }
   ],
   "metadata":{
    "datalore":{
     "node_id":"FuPphwDtyVISoPjXTpBOKH",
     "type":"CODE",
     "hide_input_from_viewers":false,
     "hide_output_from_viewers":false,
     "report_properties":{
      "rowId":"ncbzu1a4rOE19IQTvvg1iG"
     }
    }
   }
  },
  {
   "cell_type":"code",
   "source":[
    "# Add new column to air_quality: 'Go outside', 'Stay inside'\n",
    "# based on PM2.5_category, TEMP_category, RAIN"
   ],
   "execution_count":null,
   "outputs":[
    
   ],
   "metadata":{
    "datalore":{
     "node_id":"tbYk4pZEcTRRY46zd3etct",
     "type":"CODE",
     "hide_input_from_viewers":false,
     "hide_output_from_viewers":false,
     "report_properties":{
      "rowId":"xs0K9Xe4HWtskcI6qqEqGm"
     }
    }
   }
  },
  {
   "cell_type":"code",
   "source":[
    "def activity_decision(pm25_category, temp_category, rain):\n",
    "    if pm25_category in ['Good', 'Moderate'] and temp_category in ['Warm', 'Hot'] and rain == 0:\n",
    "        return 'Go outside'\n",
    "    else:\n",
    "        return 'Stay inside'\n"
   ],
   "execution_count":65,
   "outputs":[
    
   ],
   "metadata":{
    "datalore":{
     "node_id":"cLWlp3SVXa5defSXpMsPVq",
     "type":"CODE",
     "hide_input_from_viewers":false,
     "hide_output_from_viewers":false,
     "report_properties":{
      "rowId":"yvMyQAqRDaWJI6tTaDaVMx"
     }
    }
   }
  },
  {
   "cell_type":"code",
   "source":[
    "air_quality['activity'] = air_quality.apply(lambda row: activity_decision(row['PM2.5'], row['TEMP'], row['RAIN']), axis=1)"
   ],
   "execution_count":70,
   "outputs":[
    
   ],
   "metadata":{
    "datalore":{
     "node_id":"xUzwU1D2E8CCZjqkYT7Kwm",
     "type":"CODE",
     "hide_input_from_viewers":false,
     "hide_output_from_viewers":false,
     "report_properties":{
      "rowId":"77xpo4vibzue5uNQDlqKTq"
     }
    }
   }
  },
  {
   "cell_type":"code",
   "source":[
    "air_quality[['activity', 'PM2.5', 'TEMP', 'RAIN']]"
   ],
   "execution_count":72,
   "outputs":[
    {
     "data":{
      "text\/html":[
       "<div>\n",
       "<style scoped>\n",
       "    .dataframe tbody tr th:only-of-type {\n",
       "        vertical-align: middle;\n",
       "    }\n",
       "\n",
       "    .dataframe tbody tr th {\n",
       "        vertical-align: top;\n",
       "    }\n",
       "\n",
       "    .dataframe thead th {\n",
       "        text-align: right;\n",
       "    }\n",
       "<\/style>\n",
       "<table border=\"1\" class=\"dataframe\">\n",
       "  <thead>\n",
       "    <tr style=\"text-align: right;\">\n",
       "      <th><\/th>\n",
       "      <th>activity<\/th>\n",
       "      <th>PM2.5<\/th>\n",
       "      <th>TEMP<\/th>\n",
       "      <th>RAIN<\/th>\n",
       "    <\/tr>\n",
       "  <\/thead>\n",
       "  <tbody>\n",
       "    <tr>\n",
       "      <th>0<\/th>\n",
       "      <td>Stay inside<\/td>\n",
       "      <td>9.0<\/td>\n",
       "      <td>-0.5<\/td>\n",
       "      <td>0.0<\/td>\n",
       "    <\/tr>\n",
       "    <tr>\n",
       "      <th>1<\/th>\n",
       "      <td>Stay inside<\/td>\n",
       "      <td>4.0<\/td>\n",
       "      <td>-0.7<\/td>\n",
       "      <td>0.0<\/td>\n",
       "    <\/tr>\n",
       "    <tr>\n",
       "      <th>2<\/th>\n",
       "      <td>Stay inside<\/td>\n",
       "      <td>4.0<\/td>\n",
       "      <td>-2.4<\/td>\n",
       "      <td>0.0<\/td>\n",
       "    <\/tr>\n",
       "    <tr>\n",
       "      <th>3<\/th>\n",
       "      <td>Stay inside<\/td>\n",
       "      <td>5.0<\/td>\n",
       "      <td>-2.5<\/td>\n",
       "      <td>0.0<\/td>\n",
       "    <\/tr>\n",
       "    <tr>\n",
       "      <th>4<\/th>\n",
       "      <td>Stay inside<\/td>\n",
       "      <td>3.0<\/td>\n",
       "      <td>-1.4<\/td>\n",
       "      <td>0.0<\/td>\n",
       "    <\/tr>\n",
       "    <tr>\n",
       "      <th>...<\/th>\n",
       "      <td>...<\/td>\n",
       "      <td>...<\/td>\n",
       "      <td>...<\/td>\n",
       "      <td>...<\/td>\n",
       "    <\/tr>\n",
       "    <tr>\n",
       "      <th>95680<\/th>\n",
       "      <td>Stay inside<\/td>\n",
       "      <td>9.0<\/td>\n",
       "      <td>15.4<\/td>\n",
       "      <td>0.0<\/td>\n",
       "    <\/tr>\n",
       "    <tr>\n",
       "      <th>95681<\/th>\n",
       "      <td>Stay inside<\/td>\n",
       "      <td>10.0<\/td>\n",
       "      <td>14.9<\/td>\n",
       "      <td>0.0<\/td>\n",
       "    <\/tr>\n",
       "    <tr>\n",
       "      <th>95682<\/th>\n",
       "      <td>Stay inside<\/td>\n",
       "      <td>18.0<\/td>\n",
       "      <td>10.8<\/td>\n",
       "      <td>0.0<\/td>\n",
       "    <\/tr>\n",
       "    <tr>\n",
       "      <th>95683<\/th>\n",
       "      <td>Stay inside<\/td>\n",
       "      <td>15.0<\/td>\n",
       "      <td>10.5<\/td>\n",
       "      <td>0.0<\/td>\n",
       "    <\/tr>\n",
       "    <tr>\n",
       "      <th>95684<\/th>\n",
       "      <td>Stay inside<\/td>\n",
       "      <td>15.0<\/td>\n",
       "      <td>8.6<\/td>\n",
       "      <td>0.0<\/td>\n",
       "    <\/tr>\n",
       "  <\/tbody>\n",
       "<\/table>\n",
       "<p>95685 rows × 4 columns<\/p>\n",
       "<\/div>"
      ]
     },
     "metadata":{
      
     },
     "output_type":"display_data"
    }
   ],
   "metadata":{
    "datalore":{
     "node_id":"AZ6IotPoOm6d0WdqFqA0JM",
     "type":"CODE",
     "hide_input_from_viewers":false,
     "hide_output_from_viewers":false,
     "report_properties":{
      "rowId":"JJQTOhmpyT0RyINAHvJnIy"
     }
    }
   }
  },
  {
   "cell_type":"code",
   "source":[
    "air_quality['activity'].value_counts(normalize=True)"
   ],
   "execution_count":73,
   "outputs":[
    {
     "data":{
      "text\/html":[
       "<pre>Stay inside    1.0\n",
       "Name: activity, dtype: float64<\/pre>"
      ]
     },
     "metadata":{
      
     },
     "output_type":"display_data"
    }
   ],
   "metadata":{
    "datalore":{
     "node_id":"U3T2YdU0P0xlQYhICjK27z",
     "type":"CODE",
     "hide_input_from_viewers":false,
     "hide_output_from_viewers":false,
     "report_properties":{
      "rowId":"NL9SzO45VmqQ0F3LanIorU"
     }
    }
   }
  },
  {
   "cell_type":"code",
   "source":[
    
   ],
   "execution_count":null,
   "outputs":[
    
   ],
   "metadata":{
    "datalore":{
     "node_id":"mr94Po89OFmWoHhxXg88oO",
     "type":"CODE",
     "hide_input_from_viewers":true,
     "hide_output_from_viewers":true
    }
   }
  }
 ],
 "metadata":{
  "kernelspec":{
   "display_name":"Python",
   "language":"python",
   "name":"python"
  },
  "datalore":{
   "computation_mode":"JUPYTER",
   "package_manager":"pip",
   "base_environment":"default",
   "packages":[
    
   ],
   "report_row_ids":[
    "vRZJDSNFPDXdu9EUWXbkgi",
    "TGSPrEfO18tKqc6IAEfBXu",
    "JnvGr20YVPriWRSwhvmcmX",
    "170NxWmALUY2BqbJEzpKWF",
    "l5a3azOicJwICgY5HyYes8",
    "WrnTdI4FgTsukmyHbHj02p",
    "JuX5VxhRog3G2HP0N2P2QG",
    "BAmwLYVDDfwjHpskMutCAT",
    "W5gXIm5usvLAZWqSYeu2XJ",
    "6ObwuBGn8GyWF0gxVmCSs1",
    "tmqJu0jbPKqvLRUwMeqgiR",
    "5gyeb6ROf2YVhJPIfVjBgh",
    "HYclIfaVtYaplFlFoPTRqX",
    "cTrMBTy5esmKRs13yNTMkt",
    "psXCvWkhRXBPT7gIoNUulC",
    "DCzWL7tUmnW9pOKgAvXql7",
    "D3khdlDkMdYvlWL07PkeHd",
    "ImIbIkKOMhuXlpvZHhtlCH",
    "Oq9ez8z6pgBzelQaAFzvUN",
    "Qn9kBsQa0lx4qFEI3fFIjB",
    "exnrtqCAQzt8yGNbJcTNNl",
    "IpJqATtGkdOx9iYIucg1mY",
    "o9VWGqyf5Xp3NkiBI6Yyfz",
    "d84LcoDXclef31LiMkrkpQ",
    "DRsy0ejwNhopdNeLrxh0PX",
    "LzMhxanASE5ED10yPuOV8F",
    "YGQ27ACPZ3uA6ZWcfHHgM6",
    "xYOsf4t9oRxYUpLK7pUC49",
    "Cc1OUC5CgMb0tJbMsONYYQ",
    "A0Hqh6m0kNzeLNyyyvGDfk",
    "QniokYh6zbJGYqdhyvV7Vn",
    "ZtUCczJnnRIp08peVQBiRz",
    "JAgvd85Jhre65qaiv9rXaf",
    "ZidzZrXseI4yBA7aqmCh5J",
    "wBIJKzdRf0ICW4yLX09PMM",
    "BDb8VczCokVtcowBwMZV8p",
    "iXe4zSLibvxQ32ngXdM7SP",
    "yQZY0hUiT3vE3orTBYSrzJ",
    "dX1zNyGuaICA4hEG8yYajI",
    "zcrYsdXpIJHaKOCBx9J4Xc",
    "xJQov48RicU8FI2pMCKVUR",
    "AmDBhKCeQR2S1ZUfFMKG7q",
    "pzqGwoYmamhwKpocYN0U2C",
    "uDvr6I9MpwWweqo1IZBXnM",
    "AXNK2Arqwfhpm4Z29pRva1",
    "SPM4upvj72xXS7uOUPNbmf",
    "mG2hCgYKIYYDYN43FK9qrj",
    "J2W8hM41q9esLjqJZVwwdb",
    "xiXiKJPK8So5iHx6xvC6gi",
    "ozn0gr9WLItBpySQlGtyjQ",
    "Op2o5u0ZiGOFquE8k6kzIl",
    "H94oi1jZN8Pmqehy810wi9",
    "yKndbCDYtwnJLybxfwF8mV",
    "ms99VPS89rCBMWYZJ70MRy",
    "mxL2RgWdYVrVlawCl5k95h",
    "dPTO6rptl5zvi1EZlkBg4R",
    "XdEJUx8QeSbBQXo0qUyXEH",
    "NWZ5qnJ1YQp1BUQaz9TFhR",
    "dYUUX0zdG5jIaS31g4Zfi9",
    "OQpyWgQ26m4CD90DQK3gea",
    "7so0cwgIegdJR0hCizYgVM",
    "sl1g08sbCgPgWz1Sqy1IRW",
    "Ez04HJkEuAZmCy0cltaQ9O",
    "WenwbflB6AiDr3iQdD1wuy",
    "QzdIzxkFo23UrcCN5See3J",
    "HQhUcCgVxxechAsqn8VmqZ",
    "vu3v8INWx6S9iMvorsvR3d",
    "q28ArCmvPcoHwQtacTI82s",
    "133W6lfXmCAIGKPgpspYkr",
    "7W0B9m1LVEeJu0OM9LES3y",
    "XZ4qKUippxGaVmgzvi3vH9",
    "Lek4jv2PBAohp4MW1aD4rK",
    "4Q98kjtNo34m5nq8Ju1WO1",
    "A9BlZoYmiOhQCI6CLlAyvr",
    "OmQgK1G1W2yggk8c7uutv8",
    "hphz1jUxZy0ooloOa4ev8d",
    "NX7lYdV5SBnorV62286HXJ",
    "S2XW1JeVMh1HhweLH7gHW2",
    "i8Wi65J2VvSWGn14zYacZc",
    "Gt6CUyu0RSdNHpoS6ZhBxD",
    "ncbzu1a4rOE19IQTvvg1iG",
    "xs0K9Xe4HWtskcI6qqEqGm",
    "yvMyQAqRDaWJI6tTaDaVMx",
    "77xpo4vibzue5uNQDlqKTq",
    "JJQTOhmpyT0RyINAHvJnIy",
    "NL9SzO45VmqQ0F3LanIorU"
   ],
   "version":3
  }
 },
 "nbformat":4,
 "nbformat_minor":4
}