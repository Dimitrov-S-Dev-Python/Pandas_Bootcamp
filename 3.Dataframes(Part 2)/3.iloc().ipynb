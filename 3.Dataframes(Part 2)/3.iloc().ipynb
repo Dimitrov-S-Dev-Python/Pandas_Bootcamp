{
 "cells":[
  {
   "cell_type":"markdown",
   "source":[
    "Source: https:\/\/www.kaggle.com\/datasets\/vinicius150987\/titanic3\n",
    "- survival-Survival(0= No;1=Yes)\n",
    "- class-Passenger Class(1=1st;2=2nd;3=3rd)\n",
    "- name-Name\n",
    "- sex-Sex\n",
    "- age-Age\n",
    "- sibsp-Number of Siblings\/Spouses Aboard\n",
    "- parch-Number of Parents\/Children board\n",
    "- ticket-Ticket Number\n",
    "- fare-Passenger Fare\n",
    "- cabin-Cabin\n",
    "- embarked-Port of Embarkation(C=Cherbourg;Q=Queenstown;S=Southampton)\n",
    "- boat-Lifeboat(if survived)\n",
    "- body-Body number(if not survived and body was recovered)"
   ],
   "attachments":{
    
   },
   "metadata":{
    "datalore":{
     "node_id":"679VK0H2NTjzBdPexsBzqV",
     "type":"MD",
     "hide_input_from_viewers":true,
     "hide_output_from_viewers":true
    }
   }
  },
  {
   "cell_type":"code",
   "source":[
    "import pandas as pd"
   ],
   "execution_count":2,
   "outputs":[
    
   ],
   "metadata":{
    "datalore":{
     "node_id":"BieroDYZWNdiJzKgEVHo1b",
     "type":"CODE",
     "hide_input_from_viewers":true,
     "hide_output_from_viewers":true
    }
   }
  },
  {
   "cell_type":"code",
   "source":[
    "titanic = pd.read_excel('titanic3.xls', \n",
    "                        usecols=['name', 'sex', 'age', 'pclass', 'fare'],\n",
    "                        index_col='name')\n",
    "titanic"
   ],
   "execution_count":20,
   "outputs":[
    {
     "data":{
      "text\/html":[
       "<div>\n",
       "<style scoped>\n",
       "    .dataframe tbody tr th:only-of-type {\n",
       "        vertical-align: middle;\n",
       "    }\n",
       "\n",
       "    .dataframe tbody tr th {\n",
       "        vertical-align: top;\n",
       "    }\n",
       "\n",
       "    .dataframe thead th {\n",
       "        text-align: right;\n",
       "    }\n",
       "<\/style>\n",
       "<table border=\"1\" class=\"dataframe\">\n",
       "  <thead>\n",
       "    <tr style=\"text-align: right;\">\n",
       "      <th><\/th>\n",
       "      <th>pclass<\/th>\n",
       "      <th>sex<\/th>\n",
       "      <th>age<\/th>\n",
       "      <th>fare<\/th>\n",
       "    <\/tr>\n",
       "    <tr>\n",
       "      <th>name<\/th>\n",
       "      <th><\/th>\n",
       "      <th><\/th>\n",
       "      <th><\/th>\n",
       "      <th><\/th>\n",
       "    <\/tr>\n",
       "  <\/thead>\n",
       "  <tbody>\n",
       "    <tr>\n",
       "      <th>Allen, Miss. Elisabeth Walton<\/th>\n",
       "      <td>1<\/td>\n",
       "      <td>female<\/td>\n",
       "      <td>29.0000<\/td>\n",
       "      <td>211.3375<\/td>\n",
       "    <\/tr>\n",
       "    <tr>\n",
       "      <th>Allison, Master. Hudson Trevor<\/th>\n",
       "      <td>1<\/td>\n",
       "      <td>male<\/td>\n",
       "      <td>0.9167<\/td>\n",
       "      <td>151.5500<\/td>\n",
       "    <\/tr>\n",
       "    <tr>\n",
       "      <th>Allison, Miss. Helen Loraine<\/th>\n",
       "      <td>1<\/td>\n",
       "      <td>female<\/td>\n",
       "      <td>2.0000<\/td>\n",
       "      <td>151.5500<\/td>\n",
       "    <\/tr>\n",
       "    <tr>\n",
       "      <th>Allison, Mr. Hudson Joshua Creighton<\/th>\n",
       "      <td>1<\/td>\n",
       "      <td>male<\/td>\n",
       "      <td>30.0000<\/td>\n",
       "      <td>151.5500<\/td>\n",
       "    <\/tr>\n",
       "    <tr>\n",
       "      <th>Allison, Mrs. Hudson J C (Bessie Waldo Daniels)<\/th>\n",
       "      <td>1<\/td>\n",
       "      <td>female<\/td>\n",
       "      <td>25.0000<\/td>\n",
       "      <td>151.5500<\/td>\n",
       "    <\/tr>\n",
       "    <tr>\n",
       "      <th>...<\/th>\n",
       "      <td>...<\/td>\n",
       "      <td>...<\/td>\n",
       "      <td>...<\/td>\n",
       "      <td>...<\/td>\n",
       "    <\/tr>\n",
       "    <tr>\n",
       "      <th>Zabour, Miss. Hileni<\/th>\n",
       "      <td>3<\/td>\n",
       "      <td>female<\/td>\n",
       "      <td>14.5000<\/td>\n",
       "      <td>14.4542<\/td>\n",
       "    <\/tr>\n",
       "    <tr>\n",
       "      <th>Zabour, Miss. Thamine<\/th>\n",
       "      <td>3<\/td>\n",
       "      <td>female<\/td>\n",
       "      <td>NaN<\/td>\n",
       "      <td>14.4542<\/td>\n",
       "    <\/tr>\n",
       "    <tr>\n",
       "      <th>Zakarian, Mr. Mapriededer<\/th>\n",
       "      <td>3<\/td>\n",
       "      <td>male<\/td>\n",
       "      <td>26.5000<\/td>\n",
       "      <td>7.2250<\/td>\n",
       "    <\/tr>\n",
       "    <tr>\n",
       "      <th>Zakarian, Mr. Ortin<\/th>\n",
       "      <td>3<\/td>\n",
       "      <td>male<\/td>\n",
       "      <td>27.0000<\/td>\n",
       "      <td>7.2250<\/td>\n",
       "    <\/tr>\n",
       "    <tr>\n",
       "      <th>Zimmerman, Mr. Leo<\/th>\n",
       "      <td>3<\/td>\n",
       "      <td>male<\/td>\n",
       "      <td>29.0000<\/td>\n",
       "      <td>7.8750<\/td>\n",
       "    <\/tr>\n",
       "  <\/tbody>\n",
       "<\/table>\n",
       "<p>1309 rows × 4 columns<\/p>\n",
       "<\/div>"
      ]
     },
     "metadata":{
      
     },
     "output_type":"display_data"
    }
   ],
   "metadata":{
    "datalore":{
     "node_id":"UPSY0LkVaWFiFUKJ9byySl",
     "type":"CODE",
     "hide_input_from_viewers":true,
     "hide_output_from_viewers":true
    }
   }
  },
  {
   "cell_type":"code",
   "source":[
    "titanic.iloc[0] # Select the row with index of 0"
   ],
   "execution_count":21,
   "outputs":[
    {
     "data":{
      "text\/html":[
       "<pre>pclass           1\n",
       "sex         female\n",
       "age           29.0\n",
       "fare      211.3375\n",
       "Name: Allen, Miss. Elisabeth Walton, dtype: object<\/pre>"
      ]
     },
     "metadata":{
      
     },
     "output_type":"display_data"
    }
   ],
   "metadata":{
    "datalore":{
     "node_id":"3ZcoX56wFO0DE9mgkmnzOc",
     "type":"CODE",
     "hide_input_from_viewers":true,
     "hide_output_from_viewers":true
    }
   }
  },
  {
   "cell_type":"code",
   "source":[
    "titanic.iloc[0:6]"
   ],
   "execution_count":22,
   "outputs":[
    {
     "data":{
      "text\/html":[
       "<div>\n",
       "<style scoped>\n",
       "    .dataframe tbody tr th:only-of-type {\n",
       "        vertical-align: middle;\n",
       "    }\n",
       "\n",
       "    .dataframe tbody tr th {\n",
       "        vertical-align: top;\n",
       "    }\n",
       "\n",
       "    .dataframe thead th {\n",
       "        text-align: right;\n",
       "    }\n",
       "<\/style>\n",
       "<table border=\"1\" class=\"dataframe\">\n",
       "  <thead>\n",
       "    <tr style=\"text-align: right;\">\n",
       "      <th><\/th>\n",
       "      <th>pclass<\/th>\n",
       "      <th>sex<\/th>\n",
       "      <th>age<\/th>\n",
       "      <th>fare<\/th>\n",
       "    <\/tr>\n",
       "    <tr>\n",
       "      <th>name<\/th>\n",
       "      <th><\/th>\n",
       "      <th><\/th>\n",
       "      <th><\/th>\n",
       "      <th><\/th>\n",
       "    <\/tr>\n",
       "  <\/thead>\n",
       "  <tbody>\n",
       "    <tr>\n",
       "      <th>Allen, Miss. Elisabeth Walton<\/th>\n",
       "      <td>1<\/td>\n",
       "      <td>female<\/td>\n",
       "      <td>29.0000<\/td>\n",
       "      <td>211.3375<\/td>\n",
       "    <\/tr>\n",
       "    <tr>\n",
       "      <th>Allison, Master. Hudson Trevor<\/th>\n",
       "      <td>1<\/td>\n",
       "      <td>male<\/td>\n",
       "      <td>0.9167<\/td>\n",
       "      <td>151.5500<\/td>\n",
       "    <\/tr>\n",
       "    <tr>\n",
       "      <th>Allison, Miss. Helen Loraine<\/th>\n",
       "      <td>1<\/td>\n",
       "      <td>female<\/td>\n",
       "      <td>2.0000<\/td>\n",
       "      <td>151.5500<\/td>\n",
       "    <\/tr>\n",
       "    <tr>\n",
       "      <th>Allison, Mr. Hudson Joshua Creighton<\/th>\n",
       "      <td>1<\/td>\n",
       "      <td>male<\/td>\n",
       "      <td>30.0000<\/td>\n",
       "      <td>151.5500<\/td>\n",
       "    <\/tr>\n",
       "    <tr>\n",
       "      <th>Allison, Mrs. Hudson J C (Bessie Waldo Daniels)<\/th>\n",
       "      <td>1<\/td>\n",
       "      <td>female<\/td>\n",
       "      <td>25.0000<\/td>\n",
       "      <td>151.5500<\/td>\n",
       "    <\/tr>\n",
       "    <tr>\n",
       "      <th>Anderson, Mr. Harry<\/th>\n",
       "      <td>1<\/td>\n",
       "      <td>male<\/td>\n",
       "      <td>48.0000<\/td>\n",
       "      <td>26.5500<\/td>\n",
       "    <\/tr>\n",
       "  <\/tbody>\n",
       "<\/table>\n",
       "<\/div>"
      ]
     },
     "metadata":{
      
     },
     "output_type":"display_data"
    }
   ],
   "metadata":{
    "datalore":{
     "node_id":"9koDBHlBvuUDfk0mXBZPHQ",
     "type":"CODE",
     "hide_input_from_viewers":true,
     "hide_output_from_viewers":true
    }
   }
  },
  {
   "cell_type":"code",
   "source":[
    "titanic.iloc[[200, 300, 400]]"
   ],
   "execution_count":24,
   "outputs":[
    {
     "data":{
      "text\/html":[
       "<div>\n",
       "<style scoped>\n",
       "    .dataframe tbody tr th:only-of-type {\n",
       "        vertical-align: middle;\n",
       "    }\n",
       "\n",
       "    .dataframe tbody tr th {\n",
       "        vertical-align: top;\n",
       "    }\n",
       "\n",
       "    .dataframe thead th {\n",
       "        text-align: right;\n",
       "    }\n",
       "<\/style>\n",
       "<table border=\"1\" class=\"dataframe\">\n",
       "  <thead>\n",
       "    <tr style=\"text-align: right;\">\n",
       "      <th><\/th>\n",
       "      <th>pclass<\/th>\n",
       "      <th>sex<\/th>\n",
       "      <th>age<\/th>\n",
       "      <th>fare<\/th>\n",
       "    <\/tr>\n",
       "    <tr>\n",
       "      <th>name<\/th>\n",
       "      <th><\/th>\n",
       "      <th><\/th>\n",
       "      <th><\/th>\n",
       "      <th><\/th>\n",
       "    <\/tr>\n",
       "  <\/thead>\n",
       "  <tbody>\n",
       "    <tr>\n",
       "      <th>McCaffry, Mr. Thomas Francis<\/th>\n",
       "      <td>1<\/td>\n",
       "      <td>male<\/td>\n",
       "      <td>46.0<\/td>\n",
       "      <td>75.2417<\/td>\n",
       "    <\/tr>\n",
       "    <tr>\n",
       "      <th>Van der hoef, Mr. Wyckoff<\/th>\n",
       "      <td>1<\/td>\n",
       "      <td>male<\/td>\n",
       "      <td>61.0<\/td>\n",
       "      <td>33.5000<\/td>\n",
       "    <\/tr>\n",
       "    <tr>\n",
       "      <th>Drew, Mrs. James Vivian (Lulu Thorne Christian)<\/th>\n",
       "      <td>2<\/td>\n",
       "      <td>female<\/td>\n",
       "      <td>34.0<\/td>\n",
       "      <td>32.5000<\/td>\n",
       "    <\/tr>\n",
       "  <\/tbody>\n",
       "<\/table>\n",
       "<\/div>"
      ]
     },
     "metadata":{
      
     },
     "output_type":"display_data"
    }
   ],
   "metadata":{
    "datalore":{
     "node_id":"ZxTW9WQ1AZQL6Xdj0C1Vu5",
     "type":"CODE",
     "hide_input_from_viewers":true,
     "hide_output_from_viewers":true
    }
   }
  },
  {
   "cell_type":"code",
   "source":[
    "titanic.iloc[5, 3] # Index position -> column position"
   ],
   "execution_count":25,
   "outputs":[
    {
     "data":{
      "text\/plain":[
       "26.55"
      ]
     },
     "metadata":{
      
     },
     "output_type":"display_data"
    }
   ],
   "metadata":{
    "datalore":{
     "node_id":"zuQyNtVGC6xAYDENF8Rx2e",
     "type":"CODE",
     "hide_input_from_viewers":true,
     "hide_output_from_viewers":true
    }
   }
  },
  {
   "cell_type":"code",
   "source":[
    "titanic.iloc[[4, 5, 6], 3] # Select age for passengers 4, 5, 6"
   ],
   "execution_count":26,
   "outputs":[
    {
     "data":{
      "text\/html":[
       "<pre>name\n",
       "Allison, Mrs. Hudson J C (Bessie Waldo Daniels)    151.5500\n",
       "Anderson, Mr. Harry                                 26.5500\n",
       "Andrews, Miss. Kornelia Theodosia                   77.9583\n",
       "Name: fare, dtype: float64<\/pre>"
      ]
     },
     "metadata":{
      
     },
     "output_type":"display_data"
    }
   ],
   "metadata":{
    "datalore":{
     "node_id":"DqkqcxOWu1whyMZKKRpGeK",
     "type":"CODE",
     "hide_input_from_viewers":true,
     "hide_output_from_viewers":true
    }
   }
  },
  {
   "cell_type":"code",
   "source":[
    "titanic.iloc[5, [0, 1, 2]] # Select columns [0, 1, 2] for passenger 5"
   ],
   "execution_count":28,
   "outputs":[
    {
     "data":{
      "text\/html":[
       "<pre>pclass       1\n",
       "sex       male\n",
       "age       48.0\n",
       "Name: Anderson, Mr. Harry, dtype: object<\/pre>"
      ]
     },
     "metadata":{
      
     },
     "output_type":"display_data"
    }
   ],
   "metadata":{
    "datalore":{
     "node_id":"0UVuAx6P70NiERYL2foHTs",
     "type":"CODE",
     "hide_input_from_viewers":true,
     "hide_output_from_viewers":true
    }
   }
  },
  {
   "cell_type":"code",
   "source":[
    "titanic.iloc[[4, 5, 6], [0, 1, 2]] # Select columns [0, 1, 2] for passengers 4, 5, 6"
   ],
   "execution_count":29,
   "outputs":[
    {
     "data":{
      "text\/html":[
       "<div>\n",
       "<style scoped>\n",
       "    .dataframe tbody tr th:only-of-type {\n",
       "        vertical-align: middle;\n",
       "    }\n",
       "\n",
       "    .dataframe tbody tr th {\n",
       "        vertical-align: top;\n",
       "    }\n",
       "\n",
       "    .dataframe thead th {\n",
       "        text-align: right;\n",
       "    }\n",
       "<\/style>\n",
       "<table border=\"1\" class=\"dataframe\">\n",
       "  <thead>\n",
       "    <tr style=\"text-align: right;\">\n",
       "      <th><\/th>\n",
       "      <th>pclass<\/th>\n",
       "      <th>sex<\/th>\n",
       "      <th>age<\/th>\n",
       "    <\/tr>\n",
       "    <tr>\n",
       "      <th>name<\/th>\n",
       "      <th><\/th>\n",
       "      <th><\/th>\n",
       "      <th><\/th>\n",
       "    <\/tr>\n",
       "  <\/thead>\n",
       "  <tbody>\n",
       "    <tr>\n",
       "      <th>Allison, Mrs. Hudson J C (Bessie Waldo Daniels)<\/th>\n",
       "      <td>1<\/td>\n",
       "      <td>female<\/td>\n",
       "      <td>25.0<\/td>\n",
       "    <\/tr>\n",
       "    <tr>\n",
       "      <th>Anderson, Mr. Harry<\/th>\n",
       "      <td>1<\/td>\n",
       "      <td>male<\/td>\n",
       "      <td>48.0<\/td>\n",
       "    <\/tr>\n",
       "    <tr>\n",
       "      <th>Andrews, Miss. Kornelia Theodosia<\/th>\n",
       "      <td>1<\/td>\n",
       "      <td>female<\/td>\n",
       "      <td>63.0<\/td>\n",
       "    <\/tr>\n",
       "  <\/tbody>\n",
       "<\/table>\n",
       "<\/div>"
      ]
     },
     "metadata":{
      
     },
     "output_type":"display_data"
    }
   ],
   "metadata":{
    "datalore":{
     "node_id":"oV2SKAWOtVfHkGFbYLPC4p",
     "type":"CODE",
     "hide_input_from_viewers":true,
     "hide_output_from_viewers":true
    }
   }
  },
  {
   "cell_type":"code",
   "source":[
    "titanic.iloc[:, [0, 1, 2]] # Select columns [0, 1, 2] for all the passengers"
   ],
   "execution_count":30,
   "outputs":[
    {
     "data":{
      "text\/html":[
       "<div>\n",
       "<style scoped>\n",
       "    .dataframe tbody tr th:only-of-type {\n",
       "        vertical-align: middle;\n",
       "    }\n",
       "\n",
       "    .dataframe tbody tr th {\n",
       "        vertical-align: top;\n",
       "    }\n",
       "\n",
       "    .dataframe thead th {\n",
       "        text-align: right;\n",
       "    }\n",
       "<\/style>\n",
       "<table border=\"1\" class=\"dataframe\">\n",
       "  <thead>\n",
       "    <tr style=\"text-align: right;\">\n",
       "      <th><\/th>\n",
       "      <th>pclass<\/th>\n",
       "      <th>sex<\/th>\n",
       "      <th>age<\/th>\n",
       "    <\/tr>\n",
       "    <tr>\n",
       "      <th>name<\/th>\n",
       "      <th><\/th>\n",
       "      <th><\/th>\n",
       "      <th><\/th>\n",
       "    <\/tr>\n",
       "  <\/thead>\n",
       "  <tbody>\n",
       "    <tr>\n",
       "      <th>Allen, Miss. Elisabeth Walton<\/th>\n",
       "      <td>1<\/td>\n",
       "      <td>female<\/td>\n",
       "      <td>29.0000<\/td>\n",
       "    <\/tr>\n",
       "    <tr>\n",
       "      <th>Allison, Master. Hudson Trevor<\/th>\n",
       "      <td>1<\/td>\n",
       "      <td>male<\/td>\n",
       "      <td>0.9167<\/td>\n",
       "    <\/tr>\n",
       "    <tr>\n",
       "      <th>Allison, Miss. Helen Loraine<\/th>\n",
       "      <td>1<\/td>\n",
       "      <td>female<\/td>\n",
       "      <td>2.0000<\/td>\n",
       "    <\/tr>\n",
       "    <tr>\n",
       "      <th>Allison, Mr. Hudson Joshua Creighton<\/th>\n",
       "      <td>1<\/td>\n",
       "      <td>male<\/td>\n",
       "      <td>30.0000<\/td>\n",
       "    <\/tr>\n",
       "    <tr>\n",
       "      <th>Allison, Mrs. Hudson J C (Bessie Waldo Daniels)<\/th>\n",
       "      <td>1<\/td>\n",
       "      <td>female<\/td>\n",
       "      <td>25.0000<\/td>\n",
       "    <\/tr>\n",
       "    <tr>\n",
       "      <th>...<\/th>\n",
       "      <td>...<\/td>\n",
       "      <td>...<\/td>\n",
       "      <td>...<\/td>\n",
       "    <\/tr>\n",
       "    <tr>\n",
       "      <th>Zabour, Miss. Hileni<\/th>\n",
       "      <td>3<\/td>\n",
       "      <td>female<\/td>\n",
       "      <td>14.5000<\/td>\n",
       "    <\/tr>\n",
       "    <tr>\n",
       "      <th>Zabour, Miss. Thamine<\/th>\n",
       "      <td>3<\/td>\n",
       "      <td>female<\/td>\n",
       "      <td>NaN<\/td>\n",
       "    <\/tr>\n",
       "    <tr>\n",
       "      <th>Zakarian, Mr. Mapriededer<\/th>\n",
       "      <td>3<\/td>\n",
       "      <td>male<\/td>\n",
       "      <td>26.5000<\/td>\n",
       "    <\/tr>\n",
       "    <tr>\n",
       "      <th>Zakarian, Mr. Ortin<\/th>\n",
       "      <td>3<\/td>\n",
       "      <td>male<\/td>\n",
       "      <td>27.0000<\/td>\n",
       "    <\/tr>\n",
       "    <tr>\n",
       "      <th>Zimmerman, Mr. Leo<\/th>\n",
       "      <td>3<\/td>\n",
       "      <td>male<\/td>\n",
       "      <td>29.0000<\/td>\n",
       "    <\/tr>\n",
       "  <\/tbody>\n",
       "<\/table>\n",
       "<p>1309 rows × 3 columns<\/p>\n",
       "<\/div>"
      ]
     },
     "metadata":{
      
     },
     "output_type":"display_data"
    }
   ],
   "metadata":{
    "datalore":{
     "node_id":"LTqWtouwdnSEyrgJv8TNg9",
     "type":"CODE",
     "hide_input_from_viewers":true,
     "hide_output_from_viewers":true
    }
   }
  }
 ],
 "metadata":{
  "kernelspec":{
   "display_name":"Python",
   "language":"python",
   "name":"python"
  },
  "datalore":{
   "computation_mode":"JUPYTER",
   "package_manager":"pip",
   "base_environment":"default",
   "packages":[
    
   ],
   "report_row_ids":[
    
   ],
   "version":3
  }
 },
 "nbformat":4,
 "nbformat_minor":4
}