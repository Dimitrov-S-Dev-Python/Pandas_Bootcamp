{
 "cells":[
  {
   "cell_type":"markdown",
   "source":[
    "Source: https:\/\/www.kaggle.com\/datasets\/vinicius150987\/titanic3\n",
    "- survival-Survival(0= No;1=Yes)\n",
    "- class-Passenger Class(1=1st;2=2nd;3=3rd)\n",
    "- name-Name\n",
    "- sex-Sex\n",
    "- age-Age\n",
    "- sibsp-Number of Siblings\/Spouses Aboard\n",
    "- parch-Number of Parents\/Children board\n",
    "- ticket-Ticket Number\n",
    "- fare-Passenger Fare\n",
    "- cabin-Cabin\n",
    "- embarked-Port of Embarkation(C=Cherbourg;Q=Queenstown;S=Southampton)\n",
    "- boat-Lifeboat(if survived)\n",
    "- body-Body number(if not survived and body was recovered)"
   ],
   "attachments":{
    
   },
   "metadata":{
    "datalore":{
     "node_id":"679VK0H2NTjzBdPexsBzqV",
     "type":"MD",
     "hide_input_from_viewers":true,
     "hide_output_from_viewers":true
    }
   }
  },
  {
   "cell_type":"code",
   "source":[
    "import pandas as pd"
   ],
   "execution_count":2,
   "outputs":[
    
   ],
   "metadata":{
    "datalore":{
     "node_id":"BieroDYZWNdiJzKgEVHo1b",
     "type":"CODE",
     "hide_input_from_viewers":true,
     "hide_output_from_viewers":true
    }
   }
  },
  {
   "cell_type":"code",
   "source":[
    "titanic = pd.read_excel('titanic3.xls')\n",
    "titanic"
   ],
   "execution_count":3,
   "outputs":[
    {
     "data":{
      "text\/html":[
       "<div>\n",
       "<style scoped>\n",
       "    .dataframe tbody tr th:only-of-type {\n",
       "        vertical-align: middle;\n",
       "    }\n",
       "\n",
       "    .dataframe tbody tr th {\n",
       "        vertical-align: top;\n",
       "    }\n",
       "\n",
       "    .dataframe thead th {\n",
       "        text-align: right;\n",
       "    }\n",
       "<\/style>\n",
       "<table border=\"1\" class=\"dataframe\">\n",
       "  <thead>\n",
       "    <tr style=\"text-align: right;\">\n",
       "      <th><\/th>\n",
       "      <th>pclass<\/th>\n",
       "      <th>survived<\/th>\n",
       "      <th>name<\/th>\n",
       "      <th>sex<\/th>\n",
       "      <th>age<\/th>\n",
       "      <th>sibsp<\/th>\n",
       "      <th>parch<\/th>\n",
       "      <th>ticket<\/th>\n",
       "      <th>fare<\/th>\n",
       "      <th>cabin<\/th>\n",
       "      <th>embarked<\/th>\n",
       "      <th>boat<\/th>\n",
       "      <th>body<\/th>\n",
       "      <th>home.dest<\/th>\n",
       "    <\/tr>\n",
       "  <\/thead>\n",
       "  <tbody>\n",
       "    <tr>\n",
       "      <th>0<\/th>\n",
       "      <td>1<\/td>\n",
       "      <td>1<\/td>\n",
       "      <td>Allen, Miss. Elisabeth Walton<\/td>\n",
       "      <td>female<\/td>\n",
       "      <td>29.0000<\/td>\n",
       "      <td>0<\/td>\n",
       "      <td>0<\/td>\n",
       "      <td>24160<\/td>\n",
       "      <td>211.3375<\/td>\n",
       "      <td>B5<\/td>\n",
       "      <td>S<\/td>\n",
       "      <td>2<\/td>\n",
       "      <td>NaN<\/td>\n",
       "      <td>St Louis, MO<\/td>\n",
       "    <\/tr>\n",
       "    <tr>\n",
       "      <th>1<\/th>\n",
       "      <td>1<\/td>\n",
       "      <td>1<\/td>\n",
       "      <td>Allison, Master. Hudson Trevor<\/td>\n",
       "      <td>male<\/td>\n",
       "      <td>0.9167<\/td>\n",
       "      <td>1<\/td>\n",
       "      <td>2<\/td>\n",
       "      <td>113781<\/td>\n",
       "      <td>151.5500<\/td>\n",
       "      <td>C22 C26<\/td>\n",
       "      <td>S<\/td>\n",
       "      <td>11<\/td>\n",
       "      <td>NaN<\/td>\n",
       "      <td>Montreal, PQ \/ Chesterville, ON<\/td>\n",
       "    <\/tr>\n",
       "    <tr>\n",
       "      <th>2<\/th>\n",
       "      <td>1<\/td>\n",
       "      <td>0<\/td>\n",
       "      <td>Allison, Miss. Helen Loraine<\/td>\n",
       "      <td>female<\/td>\n",
       "      <td>2.0000<\/td>\n",
       "      <td>1<\/td>\n",
       "      <td>2<\/td>\n",
       "      <td>113781<\/td>\n",
       "      <td>151.5500<\/td>\n",
       "      <td>C22 C26<\/td>\n",
       "      <td>S<\/td>\n",
       "      <td>NaN<\/td>\n",
       "      <td>NaN<\/td>\n",
       "      <td>Montreal, PQ \/ Chesterville, ON<\/td>\n",
       "    <\/tr>\n",
       "    <tr>\n",
       "      <th>3<\/th>\n",
       "      <td>1<\/td>\n",
       "      <td>0<\/td>\n",
       "      <td>Allison, Mr. Hudson Joshua Creighton<\/td>\n",
       "      <td>male<\/td>\n",
       "      <td>30.0000<\/td>\n",
       "      <td>1<\/td>\n",
       "      <td>2<\/td>\n",
       "      <td>113781<\/td>\n",
       "      <td>151.5500<\/td>\n",
       "      <td>C22 C26<\/td>\n",
       "      <td>S<\/td>\n",
       "      <td>NaN<\/td>\n",
       "      <td>135.0<\/td>\n",
       "      <td>Montreal, PQ \/ Chesterville, ON<\/td>\n",
       "    <\/tr>\n",
       "    <tr>\n",
       "      <th>4<\/th>\n",
       "      <td>1<\/td>\n",
       "      <td>0<\/td>\n",
       "      <td>Allison, Mrs. Hudson J C (Bessie Waldo Daniels)<\/td>\n",
       "      <td>female<\/td>\n",
       "      <td>25.0000<\/td>\n",
       "      <td>1<\/td>\n",
       "      <td>2<\/td>\n",
       "      <td>113781<\/td>\n",
       "      <td>151.5500<\/td>\n",
       "      <td>C22 C26<\/td>\n",
       "      <td>S<\/td>\n",
       "      <td>NaN<\/td>\n",
       "      <td>NaN<\/td>\n",
       "      <td>Montreal, PQ \/ Chesterville, ON<\/td>\n",
       "    <\/tr>\n",
       "    <tr>\n",
       "      <th>...<\/th>\n",
       "      <td>...<\/td>\n",
       "      <td>...<\/td>\n",
       "      <td>...<\/td>\n",
       "      <td>...<\/td>\n",
       "      <td>...<\/td>\n",
       "      <td>...<\/td>\n",
       "      <td>...<\/td>\n",
       "      <td>...<\/td>\n",
       "      <td>...<\/td>\n",
       "      <td>...<\/td>\n",
       "      <td>...<\/td>\n",
       "      <td>...<\/td>\n",
       "      <td>...<\/td>\n",
       "      <td>...<\/td>\n",
       "    <\/tr>\n",
       "    <tr>\n",
       "      <th>1304<\/th>\n",
       "      <td>3<\/td>\n",
       "      <td>0<\/td>\n",
       "      <td>Zabour, Miss. Hileni<\/td>\n",
       "      <td>female<\/td>\n",
       "      <td>14.5000<\/td>\n",
       "      <td>1<\/td>\n",
       "      <td>0<\/td>\n",
       "      <td>2665<\/td>\n",
       "      <td>14.4542<\/td>\n",
       "      <td>NaN<\/td>\n",
       "      <td>C<\/td>\n",
       "      <td>NaN<\/td>\n",
       "      <td>328.0<\/td>\n",
       "      <td>NaN<\/td>\n",
       "    <\/tr>\n",
       "    <tr>\n",
       "      <th>1305<\/th>\n",
       "      <td>3<\/td>\n",
       "      <td>0<\/td>\n",
       "      <td>Zabour, Miss. Thamine<\/td>\n",
       "      <td>female<\/td>\n",
       "      <td>NaN<\/td>\n",
       "      <td>1<\/td>\n",
       "      <td>0<\/td>\n",
       "      <td>2665<\/td>\n",
       "      <td>14.4542<\/td>\n",
       "      <td>NaN<\/td>\n",
       "      <td>C<\/td>\n",
       "      <td>NaN<\/td>\n",
       "      <td>NaN<\/td>\n",
       "      <td>NaN<\/td>\n",
       "    <\/tr>\n",
       "    <tr>\n",
       "      <th>1306<\/th>\n",
       "      <td>3<\/td>\n",
       "      <td>0<\/td>\n",
       "      <td>Zakarian, Mr. Mapriededer<\/td>\n",
       "      <td>male<\/td>\n",
       "      <td>26.5000<\/td>\n",
       "      <td>0<\/td>\n",
       "      <td>0<\/td>\n",
       "      <td>2656<\/td>\n",
       "      <td>7.2250<\/td>\n",
       "      <td>NaN<\/td>\n",
       "      <td>C<\/td>\n",
       "      <td>NaN<\/td>\n",
       "      <td>304.0<\/td>\n",
       "      <td>NaN<\/td>\n",
       "    <\/tr>\n",
       "    <tr>\n",
       "      <th>1307<\/th>\n",
       "      <td>3<\/td>\n",
       "      <td>0<\/td>\n",
       "      <td>Zakarian, Mr. Ortin<\/td>\n",
       "      <td>male<\/td>\n",
       "      <td>27.0000<\/td>\n",
       "      <td>0<\/td>\n",
       "      <td>0<\/td>\n",
       "      <td>2670<\/td>\n",
       "      <td>7.2250<\/td>\n",
       "      <td>NaN<\/td>\n",
       "      <td>C<\/td>\n",
       "      <td>NaN<\/td>\n",
       "      <td>NaN<\/td>\n",
       "      <td>NaN<\/td>\n",
       "    <\/tr>\n",
       "    <tr>\n",
       "      <th>1308<\/th>\n",
       "      <td>3<\/td>\n",
       "      <td>0<\/td>\n",
       "      <td>Zimmerman, Mr. Leo<\/td>\n",
       "      <td>male<\/td>\n",
       "      <td>29.0000<\/td>\n",
       "      <td>0<\/td>\n",
       "      <td>0<\/td>\n",
       "      <td>315082<\/td>\n",
       "      <td>7.8750<\/td>\n",
       "      <td>NaN<\/td>\n",
       "      <td>S<\/td>\n",
       "      <td>NaN<\/td>\n",
       "      <td>NaN<\/td>\n",
       "      <td>NaN<\/td>\n",
       "    <\/tr>\n",
       "  <\/tbody>\n",
       "<\/table>\n",
       "<p>1309 rows × 14 columns<\/p>\n",
       "<\/div>"
      ]
     },
     "metadata":{
      
     },
     "output_type":"display_data"
    }
   ],
   "metadata":{
    "datalore":{
     "node_id":"UPSY0LkVaWFiFUKJ9byySl",
     "type":"CODE",
     "hide_input_from_viewers":true,
     "hide_output_from_viewers":true
    }
   }
  },
  {
   "cell_type":"code",
   "source":[
    "titanic.info()"
   ],
   "execution_count":4,
   "outputs":[
    {
     "name":"stdout",
     "text":[
      "<class 'pandas.core.frame.DataFrame'>\n",
      "RangeIndex: 1309 entries, 0 to 1308\n",
      "Data columns (total 14 columns):\n",
      " #   Column     Non-Null Count  Dtype  \n",
      "---  ------     --------------  -----  \n",
      " 0   pclass     1309 non-null   int64  \n",
      " 1   survived   1309 non-null   int64  \n",
      " 2   name       1309 non-null   object \n",
      " 3   sex        1309 non-null   object \n",
      " 4   age        1046 non-null   float64\n",
      " 5   sibsp      1309 non-null   int64  \n",
      " 6   parch      1309 non-null   int64  \n",
      " 7   ticket     1309 non-null   object \n",
      " 8   fare       1308 non-null   float64\n",
      " 9   cabin      295 non-null    object \n",
      " 10  embarked   1307 non-null   object \n",
      " 11  boat       486 non-null    object \n",
      " 12  body       121 non-null    float64\n",
      " 13  home.dest  745 non-null    object \n",
      "dtypes: float64(3), int64(4), object(7)\n",
      "memory usage: 143.3+ KB\n"
     ],
     "output_type":"stream"
    }
   ],
   "metadata":{
    "datalore":{
     "node_id":"nwR8zDGCYmwMCkKtMhkayC",
     "type":"CODE",
     "hide_input_from_viewers":true,
     "hide_output_from_viewers":true
    }
   }
  },
  {
   "cell_type":"code",
   "source":[
    
   ],
   "execution_count":null,
   "outputs":[
    
   ],
   "metadata":{
    "datalore":{
     "node_id":"kV3PyNGXSI2G4g89Ig2u25",
     "type":"CODE",
     "hide_input_from_viewers":true,
     "hide_output_from_viewers":true
    }
   }
  }
 ],
 "metadata":{
  "kernelspec":{
   "display_name":"Python",
   "language":"python",
   "name":"python"
  },
  "datalore":{
   "computation_mode":"JUPYTER",
   "package_manager":"pip",
   "base_environment":"default",
   "packages":[
    
   ],
   "report_row_ids":[
    
   ],
   "version":3
  }
 },
 "nbformat":4,
 "nbformat_minor":4
}