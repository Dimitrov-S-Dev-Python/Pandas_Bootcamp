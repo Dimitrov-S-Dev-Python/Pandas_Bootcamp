{
 "cells":[
  {
   "cell_type":"markdown",
   "source":[
    "Source: https:\/\/www.kaggle.com\/datasets\/vinicius150987\/titanic3\n",
    "- survival-Survival(0= No;1=Yes)\n",
    "- class-Passenger Class(1=1st;2=2nd;3=3rd)\n",
    "- name-Name\n",
    "- sex-Sex\n",
    "- age-Age\n",
    "- sibsp-Number of Siblings\/Spouses Aboard\n",
    "- parch-Number of Parents\/Children board\n",
    "- ticket-Ticket Number\n",
    "- fare-Passenger Fare\n",
    "- cabin-Cabin\n",
    "- embarked-Port of Embarkation(C=Cherbourg;Q=Queenstown;S=Southampton)\n",
    "- boat-Lifeboat(if survived)\n",
    "- body-Body number(if not survived and body was recovered)"
   ],
   "attachments":{
    
   },
   "metadata":{
    "datalore":{
     "node_id":"679VK0H2NTjzBdPexsBzqV",
     "type":"MD",
     "hide_input_from_viewers":true,
     "hide_output_from_viewers":true
    }
   }
  },
  {
   "cell_type":"code",
   "source":[
    "import pandas as pd"
   ],
   "execution_count":2,
   "outputs":[
    
   ],
   "metadata":{
    "datalore":{
     "node_id":"BieroDYZWNdiJzKgEVHo1b",
     "type":"CODE",
     "hide_input_from_viewers":true,
     "hide_output_from_viewers":true
    }
   }
  },
  {
   "cell_type":"code",
   "source":[
    "cols = ['name', 'survived', 'pclass', 'fare', 'age', 'sex']"
   ],
   "execution_count":3,
   "outputs":[
    
   ],
   "metadata":{
    "datalore":{
     "node_id":"UPSY0LkVaWFiFUKJ9byySl",
     "type":"CODE",
     "hide_input_from_viewers":true,
     "hide_output_from_viewers":true
    }
   }
  },
  {
   "cell_type":"code",
   "source":[
    "titanic = pd.read_excel('titanic3.xls', index_col='name', usecols=cols)\n",
    "titanic"
   ],
   "execution_count":13,
   "outputs":[
    {
     "data":{
      "text\/html":[
       "<div>\n",
       "<style scoped>\n",
       "    .dataframe tbody tr th:only-of-type {\n",
       "        vertical-align: middle;\n",
       "    }\n",
       "\n",
       "    .dataframe tbody tr th {\n",
       "        vertical-align: top;\n",
       "    }\n",
       "\n",
       "    .dataframe thead th {\n",
       "        text-align: right;\n",
       "    }\n",
       "<\/style>\n",
       "<table border=\"1\" class=\"dataframe\">\n",
       "  <thead>\n",
       "    <tr style=\"text-align: right;\">\n",
       "      <th><\/th>\n",
       "      <th>pclass<\/th>\n",
       "      <th>survived<\/th>\n",
       "      <th>sex<\/th>\n",
       "      <th>age<\/th>\n",
       "      <th>fare<\/th>\n",
       "    <\/tr>\n",
       "    <tr>\n",
       "      <th>name<\/th>\n",
       "      <th><\/th>\n",
       "      <th><\/th>\n",
       "      <th><\/th>\n",
       "      <th><\/th>\n",
       "      <th><\/th>\n",
       "    <\/tr>\n",
       "  <\/thead>\n",
       "  <tbody>\n",
       "    <tr>\n",
       "      <th>Allen, Miss. Elisabeth Walton<\/th>\n",
       "      <td>1<\/td>\n",
       "      <td>1<\/td>\n",
       "      <td>female<\/td>\n",
       "      <td>29.0000<\/td>\n",
       "      <td>211.3375<\/td>\n",
       "    <\/tr>\n",
       "    <tr>\n",
       "      <th>Allison, Master. Hudson Trevor<\/th>\n",
       "      <td>1<\/td>\n",
       "      <td>1<\/td>\n",
       "      <td>male<\/td>\n",
       "      <td>0.9167<\/td>\n",
       "      <td>151.5500<\/td>\n",
       "    <\/tr>\n",
       "    <tr>\n",
       "      <th>Allison, Miss. Helen Loraine<\/th>\n",
       "      <td>1<\/td>\n",
       "      <td>0<\/td>\n",
       "      <td>female<\/td>\n",
       "      <td>2.0000<\/td>\n",
       "      <td>151.5500<\/td>\n",
       "    <\/tr>\n",
       "    <tr>\n",
       "      <th>Allison, Mr. Hudson Joshua Creighton<\/th>\n",
       "      <td>1<\/td>\n",
       "      <td>0<\/td>\n",
       "      <td>male<\/td>\n",
       "      <td>30.0000<\/td>\n",
       "      <td>151.5500<\/td>\n",
       "    <\/tr>\n",
       "    <tr>\n",
       "      <th>Allison, Mrs. Hudson J C (Bessie Waldo Daniels)<\/th>\n",
       "      <td>1<\/td>\n",
       "      <td>0<\/td>\n",
       "      <td>female<\/td>\n",
       "      <td>25.0000<\/td>\n",
       "      <td>151.5500<\/td>\n",
       "    <\/tr>\n",
       "    <tr>\n",
       "      <th>...<\/th>\n",
       "      <td>...<\/td>\n",
       "      <td>...<\/td>\n",
       "      <td>...<\/td>\n",
       "      <td>...<\/td>\n",
       "      <td>...<\/td>\n",
       "    <\/tr>\n",
       "    <tr>\n",
       "      <th>Zabour, Miss. Hileni<\/th>\n",
       "      <td>3<\/td>\n",
       "      <td>0<\/td>\n",
       "      <td>female<\/td>\n",
       "      <td>14.5000<\/td>\n",
       "      <td>14.4542<\/td>\n",
       "    <\/tr>\n",
       "    <tr>\n",
       "      <th>Zabour, Miss. Thamine<\/th>\n",
       "      <td>3<\/td>\n",
       "      <td>0<\/td>\n",
       "      <td>female<\/td>\n",
       "      <td>NaN<\/td>\n",
       "      <td>14.4542<\/td>\n",
       "    <\/tr>\n",
       "    <tr>\n",
       "      <th>Zakarian, Mr. Mapriededer<\/th>\n",
       "      <td>3<\/td>\n",
       "      <td>0<\/td>\n",
       "      <td>male<\/td>\n",
       "      <td>26.5000<\/td>\n",
       "      <td>7.2250<\/td>\n",
       "    <\/tr>\n",
       "    <tr>\n",
       "      <th>Zakarian, Mr. Ortin<\/th>\n",
       "      <td>3<\/td>\n",
       "      <td>0<\/td>\n",
       "      <td>male<\/td>\n",
       "      <td>27.0000<\/td>\n",
       "      <td>7.2250<\/td>\n",
       "    <\/tr>\n",
       "    <tr>\n",
       "      <th>Zimmerman, Mr. Leo<\/th>\n",
       "      <td>3<\/td>\n",
       "      <td>0<\/td>\n",
       "      <td>male<\/td>\n",
       "      <td>29.0000<\/td>\n",
       "      <td>7.8750<\/td>\n",
       "    <\/tr>\n",
       "  <\/tbody>\n",
       "<\/table>\n",
       "<p>1309 rows × 5 columns<\/p>\n",
       "<\/div>"
      ]
     },
     "metadata":{
      
     },
     "output_type":"display_data"
    }
   ],
   "metadata":{
    "datalore":{
     "node_id":"2CZByOoG5HDZ8cWv9HoxV3",
     "type":"CODE",
     "hide_input_from_viewers":true,
     "hide_output_from_viewers":true
    }
   }
  },
  {
   "cell_type":"code",
   "source":[
    "first_mask = titanic['pclass'] == 1\n",
    "second_mask = titanic['pclass'] == 2\n",
    "titanic[first_mask | second_mask]"
   ],
   "execution_count":14,
   "outputs":[
    {
     "data":{
      "text\/html":[
       "<div>\n",
       "<style scoped>\n",
       "    .dataframe tbody tr th:only-of-type {\n",
       "        vertical-align: middle;\n",
       "    }\n",
       "\n",
       "    .dataframe tbody tr th {\n",
       "        vertical-align: top;\n",
       "    }\n",
       "\n",
       "    .dataframe thead th {\n",
       "        text-align: right;\n",
       "    }\n",
       "<\/style>\n",
       "<table border=\"1\" class=\"dataframe\">\n",
       "  <thead>\n",
       "    <tr style=\"text-align: right;\">\n",
       "      <th><\/th>\n",
       "      <th>pclass<\/th>\n",
       "      <th>survived<\/th>\n",
       "      <th>sex<\/th>\n",
       "      <th>age<\/th>\n",
       "      <th>fare<\/th>\n",
       "    <\/tr>\n",
       "    <tr>\n",
       "      <th>name<\/th>\n",
       "      <th><\/th>\n",
       "      <th><\/th>\n",
       "      <th><\/th>\n",
       "      <th><\/th>\n",
       "      <th><\/th>\n",
       "    <\/tr>\n",
       "  <\/thead>\n",
       "  <tbody>\n",
       "    <tr>\n",
       "      <th>Allen, Miss. Elisabeth Walton<\/th>\n",
       "      <td>1<\/td>\n",
       "      <td>1<\/td>\n",
       "      <td>female<\/td>\n",
       "      <td>29.0000<\/td>\n",
       "      <td>211.3375<\/td>\n",
       "    <\/tr>\n",
       "    <tr>\n",
       "      <th>Allison, Master. Hudson Trevor<\/th>\n",
       "      <td>1<\/td>\n",
       "      <td>1<\/td>\n",
       "      <td>male<\/td>\n",
       "      <td>0.9167<\/td>\n",
       "      <td>151.5500<\/td>\n",
       "    <\/tr>\n",
       "    <tr>\n",
       "      <th>Allison, Miss. Helen Loraine<\/th>\n",
       "      <td>1<\/td>\n",
       "      <td>0<\/td>\n",
       "      <td>female<\/td>\n",
       "      <td>2.0000<\/td>\n",
       "      <td>151.5500<\/td>\n",
       "    <\/tr>\n",
       "    <tr>\n",
       "      <th>Allison, Mr. Hudson Joshua Creighton<\/th>\n",
       "      <td>1<\/td>\n",
       "      <td>0<\/td>\n",
       "      <td>male<\/td>\n",
       "      <td>30.0000<\/td>\n",
       "      <td>151.5500<\/td>\n",
       "    <\/tr>\n",
       "    <tr>\n",
       "      <th>Allison, Mrs. Hudson J C (Bessie Waldo Daniels)<\/th>\n",
       "      <td>1<\/td>\n",
       "      <td>0<\/td>\n",
       "      <td>female<\/td>\n",
       "      <td>25.0000<\/td>\n",
       "      <td>151.5500<\/td>\n",
       "    <\/tr>\n",
       "    <tr>\n",
       "      <th>...<\/th>\n",
       "      <td>...<\/td>\n",
       "      <td>...<\/td>\n",
       "      <td>...<\/td>\n",
       "      <td>...<\/td>\n",
       "      <td>...<\/td>\n",
       "    <\/tr>\n",
       "    <tr>\n",
       "      <th>Wheeler, Mr. Edwin \"Frederick\"<\/th>\n",
       "      <td>2<\/td>\n",
       "      <td>0<\/td>\n",
       "      <td>male<\/td>\n",
       "      <td>NaN<\/td>\n",
       "      <td>12.8750<\/td>\n",
       "    <\/tr>\n",
       "    <tr>\n",
       "      <th>Wilhelms, Mr. Charles<\/th>\n",
       "      <td>2<\/td>\n",
       "      <td>1<\/td>\n",
       "      <td>male<\/td>\n",
       "      <td>31.0000<\/td>\n",
       "      <td>13.0000<\/td>\n",
       "    <\/tr>\n",
       "    <tr>\n",
       "      <th>Williams, Mr. Charles Eugene<\/th>\n",
       "      <td>2<\/td>\n",
       "      <td>1<\/td>\n",
       "      <td>male<\/td>\n",
       "      <td>NaN<\/td>\n",
       "      <td>13.0000<\/td>\n",
       "    <\/tr>\n",
       "    <tr>\n",
       "      <th>Wright, Miss. Marion<\/th>\n",
       "      <td>2<\/td>\n",
       "      <td>1<\/td>\n",
       "      <td>female<\/td>\n",
       "      <td>26.0000<\/td>\n",
       "      <td>13.5000<\/td>\n",
       "    <\/tr>\n",
       "    <tr>\n",
       "      <th>Yrois, Miss. Henriette (\"Mrs Harbeck\")<\/th>\n",
       "      <td>2<\/td>\n",
       "      <td>0<\/td>\n",
       "      <td>female<\/td>\n",
       "      <td>24.0000<\/td>\n",
       "      <td>13.0000<\/td>\n",
       "    <\/tr>\n",
       "  <\/tbody>\n",
       "<\/table>\n",
       "<p>600 rows × 5 columns<\/p>\n",
       "<\/div>"
      ]
     },
     "metadata":{
      
     },
     "output_type":"display_data"
    }
   ],
   "metadata":{
    "datalore":{
     "node_id":"azEVVWxq0PvBcWWKXbbsQy",
     "type":"CODE",
     "hide_input_from_viewers":true,
     "hide_output_from_viewers":true
    }
   }
  },
  {
   "cell_type":"code",
   "source":[
    "# A more convinient way \n",
    "titanic['pclass'].isin([1, 2])"
   ],
   "execution_count":16,
   "outputs":[
    {
     "data":{
      "text\/html":[
       "<pre>name\n",
       "Allen, Miss. Elisabeth Walton                       True\n",
       "Allison, Master. Hudson Trevor                      True\n",
       "Allison, Miss. Helen Loraine                        True\n",
       "Allison, Mr. Hudson Joshua Creighton                True\n",
       "Allison, Mrs. Hudson J C (Bessie Waldo Daniels)     True\n",
       "                                                   ...  \n",
       "Zabour, Miss. Hileni                               False\n",
       "Zabour, Miss. Thamine                              False\n",
       "Zakarian, Mr. Mapriededer                          False\n",
       "Zakarian, Mr. Ortin                                False\n",
       "Zimmerman, Mr. Leo                                 False\n",
       "Name: pclass, Length: 1309, dtype: bool<\/pre>"
      ]
     },
     "metadata":{
      
     },
     "output_type":"display_data"
    }
   ],
   "metadata":{
    "datalore":{
     "node_id":"4f0jEZiIo8CDaf0HUnT2Hi",
     "type":"CODE",
     "hide_input_from_viewers":true,
     "hide_output_from_viewers":true
    }
   }
  },
  {
   "cell_type":"code",
   "source":[
    "# how to find null values\n",
    "titanic['age'].isnull()"
   ],
   "execution_count":17,
   "outputs":[
    {
     "data":{
      "text\/html":[
       "<pre>name\n",
       "Allen, Miss. Elisabeth Walton                      False\n",
       "Allison, Master. Hudson Trevor                     False\n",
       "Allison, Miss. Helen Loraine                       False\n",
       "Allison, Mr. Hudson Joshua Creighton               False\n",
       "Allison, Mrs. Hudson J C (Bessie Waldo Daniels)    False\n",
       "                                                   ...  \n",
       "Zabour, Miss. Hileni                               False\n",
       "Zabour, Miss. Thamine                               True\n",
       "Zakarian, Mr. Mapriededer                          False\n",
       "Zakarian, Mr. Ortin                                False\n",
       "Zimmerman, Mr. Leo                                 False\n",
       "Name: age, Length: 1309, dtype: bool<\/pre>"
      ]
     },
     "metadata":{
      
     },
     "output_type":"display_data"
    }
   ],
   "metadata":{
    "datalore":{
     "node_id":"QdDIXtsMsPMUblqLt6kQsO",
     "type":"CODE",
     "hide_input_from_viewers":true,
     "hide_output_from_viewers":true
    }
   }
  },
  {
   "cell_type":"code",
   "source":[
    "titanic['age'].notnull()"
   ],
   "execution_count":18,
   "outputs":[
    {
     "data":{
      "text\/html":[
       "<pre>name\n",
       "Allen, Miss. Elisabeth Walton                       True\n",
       "Allison, Master. Hudson Trevor                      True\n",
       "Allison, Miss. Helen Loraine                        True\n",
       "Allison, Mr. Hudson Joshua Creighton                True\n",
       "Allison, Mrs. Hudson J C (Bessie Waldo Daniels)     True\n",
       "                                                   ...  \n",
       "Zabour, Miss. Hileni                                True\n",
       "Zabour, Miss. Thamine                              False\n",
       "Zakarian, Mr. Mapriededer                           True\n",
       "Zakarian, Mr. Ortin                                 True\n",
       "Zimmerman, Mr. Leo                                  True\n",
       "Name: age, Length: 1309, dtype: bool<\/pre>"
      ]
     },
     "metadata":{
      
     },
     "output_type":"display_data"
    }
   ],
   "metadata":{
    "datalore":{
     "node_id":"LBUTZBNzylnfeh4OfTKEmm",
     "type":"CODE",
     "hide_input_from_viewers":true,
     "hide_output_from_viewers":true
    }
   }
  },
  {
   "cell_type":"code",
   "source":[
    "unknown_mask = titanic['age'].isnull()\n",
    "titanic[unknown_mask]"
   ],
   "execution_count":19,
   "outputs":[
    {
     "data":{
      "text\/html":[
       "<div>\n",
       "<style scoped>\n",
       "    .dataframe tbody tr th:only-of-type {\n",
       "        vertical-align: middle;\n",
       "    }\n",
       "\n",
       "    .dataframe tbody tr th {\n",
       "        vertical-align: top;\n",
       "    }\n",
       "\n",
       "    .dataframe thead th {\n",
       "        text-align: right;\n",
       "    }\n",
       "<\/style>\n",
       "<table border=\"1\" class=\"dataframe\">\n",
       "  <thead>\n",
       "    <tr style=\"text-align: right;\">\n",
       "      <th><\/th>\n",
       "      <th>pclass<\/th>\n",
       "      <th>survived<\/th>\n",
       "      <th>sex<\/th>\n",
       "      <th>age<\/th>\n",
       "      <th>fare<\/th>\n",
       "    <\/tr>\n",
       "    <tr>\n",
       "      <th>name<\/th>\n",
       "      <th><\/th>\n",
       "      <th><\/th>\n",
       "      <th><\/th>\n",
       "      <th><\/th>\n",
       "      <th><\/th>\n",
       "    <\/tr>\n",
       "  <\/thead>\n",
       "  <tbody>\n",
       "    <tr>\n",
       "      <th>Baumann, Mr. John D<\/th>\n",
       "      <td>1<\/td>\n",
       "      <td>0<\/td>\n",
       "      <td>male<\/td>\n",
       "      <td>NaN<\/td>\n",
       "      <td>25.9250<\/td>\n",
       "    <\/tr>\n",
       "    <tr>\n",
       "      <th>Bradley, Mr. George (\"George Arthur Brayton\")<\/th>\n",
       "      <td>1<\/td>\n",
       "      <td>1<\/td>\n",
       "      <td>male<\/td>\n",
       "      <td>NaN<\/td>\n",
       "      <td>26.5500<\/td>\n",
       "    <\/tr>\n",
       "    <tr>\n",
       "      <th>Brewe, Dr. Arthur Jackson<\/th>\n",
       "      <td>1<\/td>\n",
       "      <td>0<\/td>\n",
       "      <td>male<\/td>\n",
       "      <td>NaN<\/td>\n",
       "      <td>39.6000<\/td>\n",
       "    <\/tr>\n",
       "    <tr>\n",
       "      <th>Cairns, Mr. Alexander<\/th>\n",
       "      <td>1<\/td>\n",
       "      <td>0<\/td>\n",
       "      <td>male<\/td>\n",
       "      <td>NaN<\/td>\n",
       "      <td>31.0000<\/td>\n",
       "    <\/tr>\n",
       "    <tr>\n",
       "      <th>Cassebeer, Mrs. Henry Arthur Jr (Eleanor Genevieve Fosdick)<\/th>\n",
       "      <td>1<\/td>\n",
       "      <td>1<\/td>\n",
       "      <td>female<\/td>\n",
       "      <td>NaN<\/td>\n",
       "      <td>27.7208<\/td>\n",
       "    <\/tr>\n",
       "    <tr>\n",
       "      <th>...<\/th>\n",
       "      <td>...<\/td>\n",
       "      <td>...<\/td>\n",
       "      <td>...<\/td>\n",
       "      <td>...<\/td>\n",
       "      <td>...<\/td>\n",
       "    <\/tr>\n",
       "    <tr>\n",
       "      <th>Williams, Mr. Howard Hugh \"Harry\"<\/th>\n",
       "      <td>3<\/td>\n",
       "      <td>0<\/td>\n",
       "      <td>male<\/td>\n",
       "      <td>NaN<\/td>\n",
       "      <td>8.0500<\/td>\n",
       "    <\/tr>\n",
       "    <tr>\n",
       "      <th>Wiseman, Mr. Phillippe<\/th>\n",
       "      <td>3<\/td>\n",
       "      <td>0<\/td>\n",
       "      <td>male<\/td>\n",
       "      <td>NaN<\/td>\n",
       "      <td>7.2500<\/td>\n",
       "    <\/tr>\n",
       "    <tr>\n",
       "      <th>Yousif, Mr. Wazli<\/th>\n",
       "      <td>3<\/td>\n",
       "      <td>0<\/td>\n",
       "      <td>male<\/td>\n",
       "      <td>NaN<\/td>\n",
       "      <td>7.2250<\/td>\n",
       "    <\/tr>\n",
       "    <tr>\n",
       "      <th>Yousseff, Mr. Gerious<\/th>\n",
       "      <td>3<\/td>\n",
       "      <td>0<\/td>\n",
       "      <td>male<\/td>\n",
       "      <td>NaN<\/td>\n",
       "      <td>14.4583<\/td>\n",
       "    <\/tr>\n",
       "    <tr>\n",
       "      <th>Zabour, Miss. Thamine<\/th>\n",
       "      <td>3<\/td>\n",
       "      <td>0<\/td>\n",
       "      <td>female<\/td>\n",
       "      <td>NaN<\/td>\n",
       "      <td>14.4542<\/td>\n",
       "    <\/tr>\n",
       "  <\/tbody>\n",
       "<\/table>\n",
       "<p>263 rows × 5 columns<\/p>\n",
       "<\/div>"
      ]
     },
     "metadata":{
      
     },
     "output_type":"display_data"
    }
   ],
   "metadata":{
    "datalore":{
     "node_id":"B7yrTZXIE18uY2OzsxyxdG",
     "type":"CODE",
     "hide_input_from_viewers":true,
     "hide_output_from_viewers":true
    }
   }
  },
  {
   "cell_type":"code",
   "source":[
    
   ],
   "execution_count":null,
   "outputs":[
    
   ],
   "metadata":{
    "datalore":{
     "node_id":"zWVO7ax4FfaZpJhHQFalgw",
     "type":"CODE",
     "hide_input_from_viewers":true,
     "hide_output_from_viewers":true
    }
   }
  }
 ],
 "metadata":{
  "kernelspec":{
   "display_name":"Python",
   "language":"python",
   "name":"python"
  },
  "datalore":{
   "computation_mode":"JUPYTER",
   "package_manager":"pip",
   "base_environment":"default",
   "packages":[
    
   ],
   "report_row_ids":[
    
   ],
   "version":3
  }
 },
 "nbformat":4,
 "nbformat_minor":4
}