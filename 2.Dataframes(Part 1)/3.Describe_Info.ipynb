{
 "cells":[
  {
   "cell_type":"markdown",
   "source":[
    "Dataset: https:\/\/www.kaggle.com\/datasets\/harshitshankhdhar\/imdb-dataset-of-top-1000-movies-and-tv-shows?select=imdb_top_1000.csv"
   ],
   "attachments":{
    
   },
   "metadata":{
    "datalore":{
     "node_id":"Sza64TlwTLpCY6CNfN2oHg",
     "type":"MD",
     "hide_input_from_viewers":true,
     "hide_output_from_viewers":true
    }
   }
  },
  {
   "cell_type":"code",
   "source":[
    "import pandas as pd"
   ],
   "execution_count":19,
   "outputs":[
    
   ],
   "metadata":{
    "datalore":{
     "node_id":"e1nM3IcAjLjCFDUwbEAHig",
     "type":"CODE",
     "hide_input_from_viewers":true,
     "hide_output_from_viewers":true
    }
   }
  },
  {
   "cell_type":"code",
   "source":[
    "# specify the columns we want\n",
    "cols = ['Series_Title', 'IMDB_Rating', 'No_of_Votes', 'Gross', 'Released_Year', 'Genre']"
   ],
   "execution_count":20,
   "outputs":[
    
   ],
   "metadata":{
    "datalore":{
     "node_id":"drnvmCcMXQtQvZJH4Q1cbR",
     "type":"CODE",
     "hide_input_from_viewers":true,
     "hide_output_from_viewers":true
    }
   }
  },
  {
   "cell_type":"code",
   "source":[
    "# read the dataset\n",
    "movies = pd.read_csv('imdb_top_1000.csv', usecols=cols)\n",
    "movies"
   ],
   "execution_count":21,
   "outputs":[
    {
     "data":{
      "text\/html":[
       "<div>\n",
       "<style scoped>\n",
       "    .dataframe tbody tr th:only-of-type {\n",
       "        vertical-align: middle;\n",
       "    }\n",
       "\n",
       "    .dataframe tbody tr th {\n",
       "        vertical-align: top;\n",
       "    }\n",
       "\n",
       "    .dataframe thead th {\n",
       "        text-align: right;\n",
       "    }\n",
       "<\/style>\n",
       "<table border=\"1\" class=\"dataframe\">\n",
       "  <thead>\n",
       "    <tr style=\"text-align: right;\">\n",
       "      <th><\/th>\n",
       "      <th>Series_Title<\/th>\n",
       "      <th>Released_Year<\/th>\n",
       "      <th>Genre<\/th>\n",
       "      <th>IMDB_Rating<\/th>\n",
       "      <th>No_of_Votes<\/th>\n",
       "      <th>Gross<\/th>\n",
       "    <\/tr>\n",
       "  <\/thead>\n",
       "  <tbody>\n",
       "    <tr>\n",
       "      <th>0<\/th>\n",
       "      <td>The Shawshank Redemption<\/td>\n",
       "      <td>1994<\/td>\n",
       "      <td>Drama<\/td>\n",
       "      <td>9.3<\/td>\n",
       "      <td>2343110<\/td>\n",
       "      <td>28,341,469<\/td>\n",
       "    <\/tr>\n",
       "    <tr>\n",
       "      <th>1<\/th>\n",
       "      <td>The Godfather<\/td>\n",
       "      <td>1972<\/td>\n",
       "      <td>Crime, Drama<\/td>\n",
       "      <td>9.2<\/td>\n",
       "      <td>1620367<\/td>\n",
       "      <td>134,966,411<\/td>\n",
       "    <\/tr>\n",
       "    <tr>\n",
       "      <th>2<\/th>\n",
       "      <td>The Dark Knight<\/td>\n",
       "      <td>2008<\/td>\n",
       "      <td>Action, Crime, Drama<\/td>\n",
       "      <td>9.0<\/td>\n",
       "      <td>2303232<\/td>\n",
       "      <td>534,858,444<\/td>\n",
       "    <\/tr>\n",
       "    <tr>\n",
       "      <th>3<\/th>\n",
       "      <td>The Godfather: Part II<\/td>\n",
       "      <td>1974<\/td>\n",
       "      <td>Crime, Drama<\/td>\n",
       "      <td>9.0<\/td>\n",
       "      <td>1129952<\/td>\n",
       "      <td>57,300,000<\/td>\n",
       "    <\/tr>\n",
       "    <tr>\n",
       "      <th>4<\/th>\n",
       "      <td>12 Angry Men<\/td>\n",
       "      <td>1957<\/td>\n",
       "      <td>Crime, Drama<\/td>\n",
       "      <td>9.0<\/td>\n",
       "      <td>689845<\/td>\n",
       "      <td>4,360,000<\/td>\n",
       "    <\/tr>\n",
       "    <tr>\n",
       "      <th>...<\/th>\n",
       "      <td>...<\/td>\n",
       "      <td>...<\/td>\n",
       "      <td>...<\/td>\n",
       "      <td>...<\/td>\n",
       "      <td>...<\/td>\n",
       "      <td>...<\/td>\n",
       "    <\/tr>\n",
       "    <tr>\n",
       "      <th>995<\/th>\n",
       "      <td>Breakfast at Tiffany's<\/td>\n",
       "      <td>1961<\/td>\n",
       "      <td>Comedy, Drama, Romance<\/td>\n",
       "      <td>7.6<\/td>\n",
       "      <td>166544<\/td>\n",
       "      <td>NaN<\/td>\n",
       "    <\/tr>\n",
       "    <tr>\n",
       "      <th>996<\/th>\n",
       "      <td>Giant<\/td>\n",
       "      <td>1956<\/td>\n",
       "      <td>Drama, Western<\/td>\n",
       "      <td>7.6<\/td>\n",
       "      <td>34075<\/td>\n",
       "      <td>NaN<\/td>\n",
       "    <\/tr>\n",
       "    <tr>\n",
       "      <th>997<\/th>\n",
       "      <td>From Here to Eternity<\/td>\n",
       "      <td>1953<\/td>\n",
       "      <td>Drama, Romance, War<\/td>\n",
       "      <td>7.6<\/td>\n",
       "      <td>43374<\/td>\n",
       "      <td>30,500,000<\/td>\n",
       "    <\/tr>\n",
       "    <tr>\n",
       "      <th>998<\/th>\n",
       "      <td>Lifeboat<\/td>\n",
       "      <td>1944<\/td>\n",
       "      <td>Drama, War<\/td>\n",
       "      <td>7.6<\/td>\n",
       "      <td>26471<\/td>\n",
       "      <td>NaN<\/td>\n",
       "    <\/tr>\n",
       "    <tr>\n",
       "      <th>999<\/th>\n",
       "      <td>The 39 Steps<\/td>\n",
       "      <td>1935<\/td>\n",
       "      <td>Crime, Mystery, Thriller<\/td>\n",
       "      <td>7.6<\/td>\n",
       "      <td>51853<\/td>\n",
       "      <td>NaN<\/td>\n",
       "    <\/tr>\n",
       "  <\/tbody>\n",
       "<\/table>\n",
       "<p>1000 rows × 6 columns<\/p>\n",
       "<\/div>"
      ]
     },
     "metadata":{
      
     },
     "output_type":"display_data"
    }
   ],
   "metadata":{
    "datalore":{
     "node_id":"CmLHWYe0xdSqx3IoSRhGrs",
     "type":"CODE",
     "hide_input_from_viewers":true,
     "hide_output_from_viewers":true
    }
   }
  },
  {
   "cell_type":"markdown",
   "source":[
    ".info()\n",
    "- types\n",
    "- missing values\n",
    "- memory usage"
   ],
   "attachments":{
    
   },
   "metadata":{
    "datalore":{
     "node_id":"rGeNwMwJHtj9jBeTSkEXav",
     "type":"MD",
     "hide_input_from_viewers":true,
     "hide_output_from_viewers":true
    }
   }
  },
  {
   "cell_type":"code",
   "source":[
    "movies.info()"
   ],
   "execution_count":22,
   "outputs":[
    {
     "name":"stdout",
     "text":[
      "<class 'pandas.core.frame.DataFrame'>\n",
      "RangeIndex: 1000 entries, 0 to 999\n",
      "Data columns (total 6 columns):\n",
      " #   Column         Non-Null Count  Dtype  \n",
      "---  ------         --------------  -----  \n",
      " 0   Series_Title   1000 non-null   object \n",
      " 1   Released_Year  1000 non-null   object \n",
      " 2   Genre          1000 non-null   object \n",
      " 3   IMDB_Rating    1000 non-null   float64\n",
      " 4   No_of_Votes    1000 non-null   int64  \n",
      " 5   Gross          831 non-null    object \n",
      "dtypes: float64(1), int64(1), object(4)\n",
      "memory usage: 47.0+ KB\n"
     ],
     "output_type":"stream"
    }
   ],
   "metadata":{
    "datalore":{
     "node_id":"ToEjpi6Zy84WWDjbc6uuHD",
     "type":"CODE",
     "hide_input_from_viewers":true,
     "hide_output_from_viewers":true
    }
   }
  },
  {
   "cell_type":"code",
   "source":[
    "movies.describe().round()"
   ],
   "execution_count":23,
   "outputs":[
    {
     "data":{
      "text\/html":[
       "<div>\n",
       "<style scoped>\n",
       "    .dataframe tbody tr th:only-of-type {\n",
       "        vertical-align: middle;\n",
       "    }\n",
       "\n",
       "    .dataframe tbody tr th {\n",
       "        vertical-align: top;\n",
       "    }\n",
       "\n",
       "    .dataframe thead th {\n",
       "        text-align: right;\n",
       "    }\n",
       "<\/style>\n",
       "<table border=\"1\" class=\"dataframe\">\n",
       "  <thead>\n",
       "    <tr style=\"text-align: right;\">\n",
       "      <th><\/th>\n",
       "      <th>IMDB_Rating<\/th>\n",
       "      <th>No_of_Votes<\/th>\n",
       "    <\/tr>\n",
       "  <\/thead>\n",
       "  <tbody>\n",
       "    <tr>\n",
       "      <th>count<\/th>\n",
       "      <td>1000.0<\/td>\n",
       "      <td>1000.0<\/td>\n",
       "    <\/tr>\n",
       "    <tr>\n",
       "      <th>mean<\/th>\n",
       "      <td>8.0<\/td>\n",
       "      <td>273693.0<\/td>\n",
       "    <\/tr>\n",
       "    <tr>\n",
       "      <th>std<\/th>\n",
       "      <td>0.0<\/td>\n",
       "      <td>327373.0<\/td>\n",
       "    <\/tr>\n",
       "    <tr>\n",
       "      <th>min<\/th>\n",
       "      <td>8.0<\/td>\n",
       "      <td>25088.0<\/td>\n",
       "    <\/tr>\n",
       "    <tr>\n",
       "      <th>25%<\/th>\n",
       "      <td>8.0<\/td>\n",
       "      <td>55526.0<\/td>\n",
       "    <\/tr>\n",
       "    <tr>\n",
       "      <th>50%<\/th>\n",
       "      <td>8.0<\/td>\n",
       "      <td>138548.0<\/td>\n",
       "    <\/tr>\n",
       "    <tr>\n",
       "      <th>75%<\/th>\n",
       "      <td>8.0<\/td>\n",
       "      <td>374161.0<\/td>\n",
       "    <\/tr>\n",
       "    <tr>\n",
       "      <th>max<\/th>\n",
       "      <td>9.0<\/td>\n",
       "      <td>2343110.0<\/td>\n",
       "    <\/tr>\n",
       "  <\/tbody>\n",
       "<\/table>\n",
       "<\/div>"
      ]
     },
     "metadata":{
      
     },
     "output_type":"display_data"
    }
   ],
   "metadata":{
    "datalore":{
     "node_id":"WJBGCVRRn8VJWll3f1EUh6",
     "type":"CODE",
     "hide_input_from_viewers":true,
     "hide_output_from_viewers":true
    }
   }
  },
  {
   "cell_type":"code",
   "source":[
    "movies['Gross'] = movies['Gross'].str.replace(',','')\n",
    "movies"
   ],
   "execution_count":24,
   "outputs":[
    {
     "data":{
      "text\/html":[
       "<div>\n",
       "<style scoped>\n",
       "    .dataframe tbody tr th:only-of-type {\n",
       "        vertical-align: middle;\n",
       "    }\n",
       "\n",
       "    .dataframe tbody tr th {\n",
       "        vertical-align: top;\n",
       "    }\n",
       "\n",
       "    .dataframe thead th {\n",
       "        text-align: right;\n",
       "    }\n",
       "<\/style>\n",
       "<table border=\"1\" class=\"dataframe\">\n",
       "  <thead>\n",
       "    <tr style=\"text-align: right;\">\n",
       "      <th><\/th>\n",
       "      <th>Series_Title<\/th>\n",
       "      <th>Released_Year<\/th>\n",
       "      <th>Genre<\/th>\n",
       "      <th>IMDB_Rating<\/th>\n",
       "      <th>No_of_Votes<\/th>\n",
       "      <th>Gross<\/th>\n",
       "    <\/tr>\n",
       "  <\/thead>\n",
       "  <tbody>\n",
       "    <tr>\n",
       "      <th>0<\/th>\n",
       "      <td>The Shawshank Redemption<\/td>\n",
       "      <td>1994<\/td>\n",
       "      <td>Drama<\/td>\n",
       "      <td>9.3<\/td>\n",
       "      <td>2343110<\/td>\n",
       "      <td>28341469<\/td>\n",
       "    <\/tr>\n",
       "    <tr>\n",
       "      <th>1<\/th>\n",
       "      <td>The Godfather<\/td>\n",
       "      <td>1972<\/td>\n",
       "      <td>Crime, Drama<\/td>\n",
       "      <td>9.2<\/td>\n",
       "      <td>1620367<\/td>\n",
       "      <td>134966411<\/td>\n",
       "    <\/tr>\n",
       "    <tr>\n",
       "      <th>2<\/th>\n",
       "      <td>The Dark Knight<\/td>\n",
       "      <td>2008<\/td>\n",
       "      <td>Action, Crime, Drama<\/td>\n",
       "      <td>9.0<\/td>\n",
       "      <td>2303232<\/td>\n",
       "      <td>534858444<\/td>\n",
       "    <\/tr>\n",
       "    <tr>\n",
       "      <th>3<\/th>\n",
       "      <td>The Godfather: Part II<\/td>\n",
       "      <td>1974<\/td>\n",
       "      <td>Crime, Drama<\/td>\n",
       "      <td>9.0<\/td>\n",
       "      <td>1129952<\/td>\n",
       "      <td>57300000<\/td>\n",
       "    <\/tr>\n",
       "    <tr>\n",
       "      <th>4<\/th>\n",
       "      <td>12 Angry Men<\/td>\n",
       "      <td>1957<\/td>\n",
       "      <td>Crime, Drama<\/td>\n",
       "      <td>9.0<\/td>\n",
       "      <td>689845<\/td>\n",
       "      <td>4360000<\/td>\n",
       "    <\/tr>\n",
       "    <tr>\n",
       "      <th>...<\/th>\n",
       "      <td>...<\/td>\n",
       "      <td>...<\/td>\n",
       "      <td>...<\/td>\n",
       "      <td>...<\/td>\n",
       "      <td>...<\/td>\n",
       "      <td>...<\/td>\n",
       "    <\/tr>\n",
       "    <tr>\n",
       "      <th>995<\/th>\n",
       "      <td>Breakfast at Tiffany's<\/td>\n",
       "      <td>1961<\/td>\n",
       "      <td>Comedy, Drama, Romance<\/td>\n",
       "      <td>7.6<\/td>\n",
       "      <td>166544<\/td>\n",
       "      <td>NaN<\/td>\n",
       "    <\/tr>\n",
       "    <tr>\n",
       "      <th>996<\/th>\n",
       "      <td>Giant<\/td>\n",
       "      <td>1956<\/td>\n",
       "      <td>Drama, Western<\/td>\n",
       "      <td>7.6<\/td>\n",
       "      <td>34075<\/td>\n",
       "      <td>NaN<\/td>\n",
       "    <\/tr>\n",
       "    <tr>\n",
       "      <th>997<\/th>\n",
       "      <td>From Here to Eternity<\/td>\n",
       "      <td>1953<\/td>\n",
       "      <td>Drama, Romance, War<\/td>\n",
       "      <td>7.6<\/td>\n",
       "      <td>43374<\/td>\n",
       "      <td>30500000<\/td>\n",
       "    <\/tr>\n",
       "    <tr>\n",
       "      <th>998<\/th>\n",
       "      <td>Lifeboat<\/td>\n",
       "      <td>1944<\/td>\n",
       "      <td>Drama, War<\/td>\n",
       "      <td>7.6<\/td>\n",
       "      <td>26471<\/td>\n",
       "      <td>NaN<\/td>\n",
       "    <\/tr>\n",
       "    <tr>\n",
       "      <th>999<\/th>\n",
       "      <td>The 39 Steps<\/td>\n",
       "      <td>1935<\/td>\n",
       "      <td>Crime, Mystery, Thriller<\/td>\n",
       "      <td>7.6<\/td>\n",
       "      <td>51853<\/td>\n",
       "      <td>NaN<\/td>\n",
       "    <\/tr>\n",
       "  <\/tbody>\n",
       "<\/table>\n",
       "<p>1000 rows × 6 columns<\/p>\n",
       "<\/div>"
      ]
     },
     "metadata":{
      
     },
     "output_type":"display_data"
    }
   ],
   "metadata":{
    "datalore":{
     "node_id":"1PqWvQZ5dHWgNmFf24raRG",
     "type":"CODE",
     "hide_input_from_viewers":true,
     "hide_output_from_viewers":true
    }
   }
  },
  {
   "cell_type":"code",
   "source":[
    "movies['Gross'].fillna(0, inplace=True)\n",
    "movies['Gross'] = movies['Gross'].astype('int64')\n",
    "movies"
   ],
   "execution_count":25,
   "outputs":[
    {
     "data":{
      "text\/html":[
       "<div>\n",
       "<style scoped>\n",
       "    .dataframe tbody tr th:only-of-type {\n",
       "        vertical-align: middle;\n",
       "    }\n",
       "\n",
       "    .dataframe tbody tr th {\n",
       "        vertical-align: top;\n",
       "    }\n",
       "\n",
       "    .dataframe thead th {\n",
       "        text-align: right;\n",
       "    }\n",
       "<\/style>\n",
       "<table border=\"1\" class=\"dataframe\">\n",
       "  <thead>\n",
       "    <tr style=\"text-align: right;\">\n",
       "      <th><\/th>\n",
       "      <th>Series_Title<\/th>\n",
       "      <th>Released_Year<\/th>\n",
       "      <th>Genre<\/th>\n",
       "      <th>IMDB_Rating<\/th>\n",
       "      <th>No_of_Votes<\/th>\n",
       "      <th>Gross<\/th>\n",
       "    <\/tr>\n",
       "  <\/thead>\n",
       "  <tbody>\n",
       "    <tr>\n",
       "      <th>0<\/th>\n",
       "      <td>The Shawshank Redemption<\/td>\n",
       "      <td>1994<\/td>\n",
       "      <td>Drama<\/td>\n",
       "      <td>9.3<\/td>\n",
       "      <td>2343110<\/td>\n",
       "      <td>28341469<\/td>\n",
       "    <\/tr>\n",
       "    <tr>\n",
       "      <th>1<\/th>\n",
       "      <td>The Godfather<\/td>\n",
       "      <td>1972<\/td>\n",
       "      <td>Crime, Drama<\/td>\n",
       "      <td>9.2<\/td>\n",
       "      <td>1620367<\/td>\n",
       "      <td>134966411<\/td>\n",
       "    <\/tr>\n",
       "    <tr>\n",
       "      <th>2<\/th>\n",
       "      <td>The Dark Knight<\/td>\n",
       "      <td>2008<\/td>\n",
       "      <td>Action, Crime, Drama<\/td>\n",
       "      <td>9.0<\/td>\n",
       "      <td>2303232<\/td>\n",
       "      <td>534858444<\/td>\n",
       "    <\/tr>\n",
       "    <tr>\n",
       "      <th>3<\/th>\n",
       "      <td>The Godfather: Part II<\/td>\n",
       "      <td>1974<\/td>\n",
       "      <td>Crime, Drama<\/td>\n",
       "      <td>9.0<\/td>\n",
       "      <td>1129952<\/td>\n",
       "      <td>57300000<\/td>\n",
       "    <\/tr>\n",
       "    <tr>\n",
       "      <th>4<\/th>\n",
       "      <td>12 Angry Men<\/td>\n",
       "      <td>1957<\/td>\n",
       "      <td>Crime, Drama<\/td>\n",
       "      <td>9.0<\/td>\n",
       "      <td>689845<\/td>\n",
       "      <td>4360000<\/td>\n",
       "    <\/tr>\n",
       "    <tr>\n",
       "      <th>...<\/th>\n",
       "      <td>...<\/td>\n",
       "      <td>...<\/td>\n",
       "      <td>...<\/td>\n",
       "      <td>...<\/td>\n",
       "      <td>...<\/td>\n",
       "      <td>...<\/td>\n",
       "    <\/tr>\n",
       "    <tr>\n",
       "      <th>995<\/th>\n",
       "      <td>Breakfast at Tiffany's<\/td>\n",
       "      <td>1961<\/td>\n",
       "      <td>Comedy, Drama, Romance<\/td>\n",
       "      <td>7.6<\/td>\n",
       "      <td>166544<\/td>\n",
       "      <td>0<\/td>\n",
       "    <\/tr>\n",
       "    <tr>\n",
       "      <th>996<\/th>\n",
       "      <td>Giant<\/td>\n",
       "      <td>1956<\/td>\n",
       "      <td>Drama, Western<\/td>\n",
       "      <td>7.6<\/td>\n",
       "      <td>34075<\/td>\n",
       "      <td>0<\/td>\n",
       "    <\/tr>\n",
       "    <tr>\n",
       "      <th>997<\/th>\n",
       "      <td>From Here to Eternity<\/td>\n",
       "      <td>1953<\/td>\n",
       "      <td>Drama, Romance, War<\/td>\n",
       "      <td>7.6<\/td>\n",
       "      <td>43374<\/td>\n",
       "      <td>30500000<\/td>\n",
       "    <\/tr>\n",
       "    <tr>\n",
       "      <th>998<\/th>\n",
       "      <td>Lifeboat<\/td>\n",
       "      <td>1944<\/td>\n",
       "      <td>Drama, War<\/td>\n",
       "      <td>7.6<\/td>\n",
       "      <td>26471<\/td>\n",
       "      <td>0<\/td>\n",
       "    <\/tr>\n",
       "    <tr>\n",
       "      <th>999<\/th>\n",
       "      <td>The 39 Steps<\/td>\n",
       "      <td>1935<\/td>\n",
       "      <td>Crime, Mystery, Thriller<\/td>\n",
       "      <td>7.6<\/td>\n",
       "      <td>51853<\/td>\n",
       "      <td>0<\/td>\n",
       "    <\/tr>\n",
       "  <\/tbody>\n",
       "<\/table>\n",
       "<p>1000 rows × 6 columns<\/p>\n",
       "<\/div>"
      ]
     },
     "metadata":{
      
     },
     "output_type":"display_data"
    }
   ],
   "metadata":{
    "datalore":{
     "node_id":"RPODDrZTdGzPoHqIOahOVa",
     "type":"CODE",
     "hide_input_from_viewers":true,
     "hide_output_from_viewers":true
    }
   }
  },
  {
   "cell_type":"code",
   "source":[
    "movies.describe().round()"
   ],
   "execution_count":26,
   "outputs":[
    {
     "data":{
      "text\/html":[
       "<div>\n",
       "<style scoped>\n",
       "    .dataframe tbody tr th:only-of-type {\n",
       "        vertical-align: middle;\n",
       "    }\n",
       "\n",
       "    .dataframe tbody tr th {\n",
       "        vertical-align: top;\n",
       "    }\n",
       "\n",
       "    .dataframe thead th {\n",
       "        text-align: right;\n",
       "    }\n",
       "<\/style>\n",
       "<table border=\"1\" class=\"dataframe\">\n",
       "  <thead>\n",
       "    <tr style=\"text-align: right;\">\n",
       "      <th><\/th>\n",
       "      <th>IMDB_Rating<\/th>\n",
       "      <th>No_of_Votes<\/th>\n",
       "      <th>Gross<\/th>\n",
       "    <\/tr>\n",
       "  <\/thead>\n",
       "  <tbody>\n",
       "    <tr>\n",
       "      <th>count<\/th>\n",
       "      <td>1000.0<\/td>\n",
       "      <td>1000.0<\/td>\n",
       "      <td>1000.0<\/td>\n",
       "    <\/tr>\n",
       "    <tr>\n",
       "      <th>mean<\/th>\n",
       "      <td>8.0<\/td>\n",
       "      <td>273693.0<\/td>\n",
       "      <td>56536878.0<\/td>\n",
       "    <\/tr>\n",
       "    <tr>\n",
       "      <th>std<\/th>\n",
       "      <td>0.0<\/td>\n",
       "      <td>327373.0<\/td>\n",
       "      <td>103238179.0<\/td>\n",
       "    <\/tr>\n",
       "    <tr>\n",
       "      <th>min<\/th>\n",
       "      <td>8.0<\/td>\n",
       "      <td>25088.0<\/td>\n",
       "      <td>0.0<\/td>\n",
       "    <\/tr>\n",
       "    <tr>\n",
       "      <th>25%<\/th>\n",
       "      <td>8.0<\/td>\n",
       "      <td>55526.0<\/td>\n",
       "      <td>445710.0<\/td>\n",
       "    <\/tr>\n",
       "    <tr>\n",
       "      <th>50%<\/th>\n",
       "      <td>8.0<\/td>\n",
       "      <td>138548.0<\/td>\n",
       "      <td>10702752.0<\/td>\n",
       "    <\/tr>\n",
       "    <tr>\n",
       "      <th>75%<\/th>\n",
       "      <td>8.0<\/td>\n",
       "      <td>374161.0<\/td>\n",
       "      <td>61539891.0<\/td>\n",
       "    <\/tr>\n",
       "    <tr>\n",
       "      <th>max<\/th>\n",
       "      <td>9.0<\/td>\n",
       "      <td>2343110.0<\/td>\n",
       "      <td>936662225.0<\/td>\n",
       "    <\/tr>\n",
       "  <\/tbody>\n",
       "<\/table>\n",
       "<\/div>"
      ]
     },
     "metadata":{
      
     },
     "output_type":"display_data"
    }
   ],
   "metadata":{
    "datalore":{
     "node_id":"c4JH1KJznbA3qaXNdh08o7",
     "type":"CODE",
     "hide_input_from_viewers":true,
     "hide_output_from_viewers":true
    }
   }
  },
  {
   "cell_type":"code",
   "source":[
    "movies.count()"
   ],
   "execution_count":27,
   "outputs":[
    {
     "data":{
      "text\/html":[
       "<pre>Series_Title     1000\n",
       "Released_Year    1000\n",
       "Genre            1000\n",
       "IMDB_Rating      1000\n",
       "No_of_Votes      1000\n",
       "Gross            1000\n",
       "dtype: int64<\/pre>"
      ]
     },
     "metadata":{
      
     },
     "output_type":"display_data"
    }
   ],
   "metadata":{
    "datalore":{
     "node_id":"Ka1iUQZD0fPcSgWz5GJMmf",
     "type":"CODE",
     "hide_input_from_viewers":true,
     "hide_output_from_viewers":true
    }
   }
  },
  {
   "cell_type":"code",
   "source":[
    "movies.mean(numeric_only=True).round()"
   ],
   "execution_count":28,
   "outputs":[
    {
     "data":{
      "text\/html":[
       "<pre>IMDB_Rating           8.0\n",
       "No_of_Votes      273693.0\n",
       "Gross          56536878.0\n",
       "dtype: float64<\/pre>"
      ]
     },
     "metadata":{
      
     },
     "output_type":"display_data"
    }
   ],
   "metadata":{
    "datalore":{
     "node_id":"EpL4cI8B5z4235GY4YNskV",
     "type":"CODE",
     "hide_input_from_viewers":true,
     "hide_output_from_viewers":true
    }
   }
  },
  {
   "cell_type":"code",
   "source":[
    "movies.max(numeric_only=True).round()"
   ],
   "execution_count":29,
   "outputs":[
    {
     "data":{
      "text\/html":[
       "<pre>IMDB_Rating            9.0\n",
       "No_of_Votes      2343110.0\n",
       "Gross          936662225.0\n",
       "dtype: float64<\/pre>"
      ]
     },
     "metadata":{
      
     },
     "output_type":"display_data"
    }
   ],
   "metadata":{
    "datalore":{
     "node_id":"0R9ZeVKBT5mZ4DwnT4qoju",
     "type":"CODE",
     "hide_input_from_viewers":true,
     "hide_output_from_viewers":true
    }
   }
  },
  {
   "cell_type":"code",
   "source":[
    "movies.min(numeric_only=True).round()"
   ],
   "execution_count":30,
   "outputs":[
    {
     "data":{
      "text\/html":[
       "<pre>IMDB_Rating        8.0\n",
       "No_of_Votes    25088.0\n",
       "Gross              0.0\n",
       "dtype: float64<\/pre>"
      ]
     },
     "metadata":{
      
     },
     "output_type":"display_data"
    }
   ],
   "metadata":{
    "datalore":{
     "node_id":"h08X1zVziK3IM1KuMOJeZN",
     "type":"CODE",
     "hide_input_from_viewers":true,
     "hide_output_from_viewers":true
    }
   }
  },
  {
   "cell_type":"code",
   "source":[
    "movies.describe(include=['O'])"
   ],
   "execution_count":32,
   "outputs":[
    {
     "data":{
      "text\/html":[
       "<div>\n",
       "<style scoped>\n",
       "    .dataframe tbody tr th:only-of-type {\n",
       "        vertical-align: middle;\n",
       "    }\n",
       "\n",
       "    .dataframe tbody tr th {\n",
       "        vertical-align: top;\n",
       "    }\n",
       "\n",
       "    .dataframe thead th {\n",
       "        text-align: right;\n",
       "    }\n",
       "<\/style>\n",
       "<table border=\"1\" class=\"dataframe\">\n",
       "  <thead>\n",
       "    <tr style=\"text-align: right;\">\n",
       "      <th><\/th>\n",
       "      <th>Series_Title<\/th>\n",
       "      <th>Released_Year<\/th>\n",
       "      <th>Genre<\/th>\n",
       "    <\/tr>\n",
       "  <\/thead>\n",
       "  <tbody>\n",
       "    <tr>\n",
       "      <th>count<\/th>\n",
       "      <td>1000<\/td>\n",
       "      <td>1000<\/td>\n",
       "      <td>1000<\/td>\n",
       "    <\/tr>\n",
       "    <tr>\n",
       "      <th>unique<\/th>\n",
       "      <td>999<\/td>\n",
       "      <td>100<\/td>\n",
       "      <td>202<\/td>\n",
       "    <\/tr>\n",
       "    <tr>\n",
       "      <th>top<\/th>\n",
       "      <td>Drishyam<\/td>\n",
       "      <td>2014<\/td>\n",
       "      <td>Drama<\/td>\n",
       "    <\/tr>\n",
       "    <tr>\n",
       "      <th>freq<\/th>\n",
       "      <td>2<\/td>\n",
       "      <td>32<\/td>\n",
       "      <td>85<\/td>\n",
       "    <\/tr>\n",
       "  <\/tbody>\n",
       "<\/table>\n",
       "<\/div>"
      ]
     },
     "metadata":{
      
     },
     "output_type":"display_data"
    }
   ],
   "metadata":{
    "datalore":{
     "node_id":"HoVLyARd0WKNVeLJkKd2eZ",
     "type":"CODE",
     "hide_input_from_viewers":true,
     "hide_output_from_viewers":true
    }
   }
  },
  {
   "cell_type":"code",
   "source":[
    "movies[movies['Series_Title'].duplicated(keep=False) == True]"
   ],
   "execution_count":33,
   "outputs":[
    {
     "data":{
      "text\/html":[
       "<div>\n",
       "<style scoped>\n",
       "    .dataframe tbody tr th:only-of-type {\n",
       "        vertical-align: middle;\n",
       "    }\n",
       "\n",
       "    .dataframe tbody tr th {\n",
       "        vertical-align: top;\n",
       "    }\n",
       "\n",
       "    .dataframe thead th {\n",
       "        text-align: right;\n",
       "    }\n",
       "<\/style>\n",
       "<table border=\"1\" class=\"dataframe\">\n",
       "  <thead>\n",
       "    <tr style=\"text-align: right;\">\n",
       "      <th><\/th>\n",
       "      <th>Series_Title<\/th>\n",
       "      <th>Released_Year<\/th>\n",
       "      <th>Genre<\/th>\n",
       "      <th>IMDB_Rating<\/th>\n",
       "      <th>No_of_Votes<\/th>\n",
       "      <th>Gross<\/th>\n",
       "    <\/tr>\n",
       "  <\/thead>\n",
       "  <tbody>\n",
       "    <tr>\n",
       "      <th>87<\/th>\n",
       "      <td>Drishyam<\/td>\n",
       "      <td>2013<\/td>\n",
       "      <td>Crime, Drama, Thriller<\/td>\n",
       "      <td>8.3<\/td>\n",
       "      <td>30722<\/td>\n",
       "      <td>0<\/td>\n",
       "    <\/tr>\n",
       "    <tr>\n",
       "      <th>136<\/th>\n",
       "      <td>Drishyam<\/td>\n",
       "      <td>2015<\/td>\n",
       "      <td>Crime, Drama, Mystery<\/td>\n",
       "      <td>8.2<\/td>\n",
       "      <td>70367<\/td>\n",
       "      <td>739478<\/td>\n",
       "    <\/tr>\n",
       "  <\/tbody>\n",
       "<\/table>\n",
       "<\/div>"
      ]
     },
     "metadata":{
      
     },
     "output_type":"display_data"
    }
   ],
   "metadata":{
    "datalore":{
     "node_id":"KgYieZf5ogs91aM8shwAoL",
     "type":"CODE",
     "hide_input_from_viewers":true,
     "hide_output_from_viewers":true
    }
   }
  },
  {
   "cell_type":"code",
   "source":[
    
   ],
   "execution_count":null,
   "outputs":[
    
   ],
   "metadata":{
    "datalore":{
     "node_id":"OG7CyBoojigZnloCpBDVpT",
     "type":"CODE",
     "hide_input_from_viewers":true,
     "hide_output_from_viewers":true
    }
   }
  }
 ],
 "metadata":{
  "kernelspec":{
   "display_name":"Python",
   "language":"python",
   "name":"python"
  },
  "datalore":{
   "computation_mode":"JUPYTER",
   "package_manager":"pip",
   "base_environment":"default",
   "packages":[
    
   ],
   "report_row_ids":[
    
   ],
   "version":3
  }
 },
 "nbformat":4,
 "nbformat_minor":4
}