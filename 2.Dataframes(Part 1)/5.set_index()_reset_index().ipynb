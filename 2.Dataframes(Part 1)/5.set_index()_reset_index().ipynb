{
 "cells":[
  {
   "cell_type":"markdown",
   "source":[
    "Dataset: https:\/\/www.kaggle.com\/datasets\/harshitshankhdhar\/imdb-dataset-of-top-1000-movies-and-tv-shows?select=imdb_top_1000.csv"
   ],
   "attachments":{
    
   },
   "metadata":{
    "datalore":{
     "node_id":"Sza64TlwTLpCY6CNfN2oHg",
     "type":"MD",
     "hide_input_from_viewers":true,
     "hide_output_from_viewers":true
    }
   }
  },
  {
   "cell_type":"code",
   "source":[
    "import pandas as pd"
   ],
   "execution_count":20,
   "outputs":[
    
   ],
   "metadata":{
    "datalore":{
     "node_id":"e1nM3IcAjLjCFDUwbEAHig",
     "type":"CODE",
     "hide_input_from_viewers":true,
     "hide_output_from_viewers":true
    }
   }
  },
  {
   "cell_type":"code",
   "source":[
    "# specify the columns we want\n",
    "cols = ['Series_Title', 'IMDB_Rating', 'No_of_Votes']"
   ],
   "execution_count":21,
   "outputs":[
    
   ],
   "metadata":{
    "datalore":{
     "node_id":"drnvmCcMXQtQvZJH4Q1cbR",
     "type":"CODE",
     "hide_input_from_viewers":true,
     "hide_output_from_viewers":true
    }
   }
  },
  {
   "cell_type":"code",
   "source":[
    "# read the dataset\n",
    "movies = pd.read_csv('imdb_top_1000.csv', usecols=cols)\n",
    "movies"
   ],
   "execution_count":22,
   "outputs":[
    {
     "data":{
      "text\/html":[
       "<div>\n",
       "<style scoped>\n",
       "    .dataframe tbody tr th:only-of-type {\n",
       "        vertical-align: middle;\n",
       "    }\n",
       "\n",
       "    .dataframe tbody tr th {\n",
       "        vertical-align: top;\n",
       "    }\n",
       "\n",
       "    .dataframe thead th {\n",
       "        text-align: right;\n",
       "    }\n",
       "<\/style>\n",
       "<table border=\"1\" class=\"dataframe\">\n",
       "  <thead>\n",
       "    <tr style=\"text-align: right;\">\n",
       "      <th><\/th>\n",
       "      <th>Series_Title<\/th>\n",
       "      <th>IMDB_Rating<\/th>\n",
       "      <th>No_of_Votes<\/th>\n",
       "    <\/tr>\n",
       "  <\/thead>\n",
       "  <tbody>\n",
       "    <tr>\n",
       "      <th>0<\/th>\n",
       "      <td>The Shawshank Redemption<\/td>\n",
       "      <td>9.3<\/td>\n",
       "      <td>2343110<\/td>\n",
       "    <\/tr>\n",
       "    <tr>\n",
       "      <th>1<\/th>\n",
       "      <td>The Godfather<\/td>\n",
       "      <td>9.2<\/td>\n",
       "      <td>1620367<\/td>\n",
       "    <\/tr>\n",
       "    <tr>\n",
       "      <th>2<\/th>\n",
       "      <td>The Dark Knight<\/td>\n",
       "      <td>9.0<\/td>\n",
       "      <td>2303232<\/td>\n",
       "    <\/tr>\n",
       "    <tr>\n",
       "      <th>3<\/th>\n",
       "      <td>The Godfather: Part II<\/td>\n",
       "      <td>9.0<\/td>\n",
       "      <td>1129952<\/td>\n",
       "    <\/tr>\n",
       "    <tr>\n",
       "      <th>4<\/th>\n",
       "      <td>12 Angry Men<\/td>\n",
       "      <td>9.0<\/td>\n",
       "      <td>689845<\/td>\n",
       "    <\/tr>\n",
       "    <tr>\n",
       "      <th>...<\/th>\n",
       "      <td>...<\/td>\n",
       "      <td>...<\/td>\n",
       "      <td>...<\/td>\n",
       "    <\/tr>\n",
       "    <tr>\n",
       "      <th>995<\/th>\n",
       "      <td>Breakfast at Tiffany's<\/td>\n",
       "      <td>7.6<\/td>\n",
       "      <td>166544<\/td>\n",
       "    <\/tr>\n",
       "    <tr>\n",
       "      <th>996<\/th>\n",
       "      <td>Giant<\/td>\n",
       "      <td>7.6<\/td>\n",
       "      <td>34075<\/td>\n",
       "    <\/tr>\n",
       "    <tr>\n",
       "      <th>997<\/th>\n",
       "      <td>From Here to Eternity<\/td>\n",
       "      <td>7.6<\/td>\n",
       "      <td>43374<\/td>\n",
       "    <\/tr>\n",
       "    <tr>\n",
       "      <th>998<\/th>\n",
       "      <td>Lifeboat<\/td>\n",
       "      <td>7.6<\/td>\n",
       "      <td>26471<\/td>\n",
       "    <\/tr>\n",
       "    <tr>\n",
       "      <th>999<\/th>\n",
       "      <td>The 39 Steps<\/td>\n",
       "      <td>7.6<\/td>\n",
       "      <td>51853<\/td>\n",
       "    <\/tr>\n",
       "  <\/tbody>\n",
       "<\/table>\n",
       "<p>1000 rows × 3 columns<\/p>\n",
       "<\/div>"
      ]
     },
     "metadata":{
      
     },
     "output_type":"display_data"
    }
   ],
   "metadata":{
    "datalore":{
     "node_id":"CmLHWYe0xdSqx3IoSRhGrs",
     "type":"CODE",
     "hide_input_from_viewers":true,
     "hide_output_from_viewers":true
    }
   }
  },
  {
   "cell_type":"markdown",
   "source":[
    "set_index()\n",
    "- drop removes the column which has now become the index (TRUE by DEFAULT)\n",
    "- inplace defines whether the operation should be done inplace (FALSE by DEFAULT)"
   ],
   "attachments":{
    
   },
   "metadata":{
    "datalore":{
     "node_id":"rGeNwMwJHtj9jBeTSkEXav",
     "type":"MD",
     "hide_input_from_viewers":true,
     "hide_output_from_viewers":true
    }
   }
  },
  {
   "cell_type":"code",
   "source":[
    "movies.set_index('Series_Title', drop=True, inplace=True)\n",
    "movies"
   ],
   "execution_count":23,
   "outputs":[
    {
     "data":{
      "text\/html":[
       "<div>\n",
       "<style scoped>\n",
       "    .dataframe tbody tr th:only-of-type {\n",
       "        vertical-align: middle;\n",
       "    }\n",
       "\n",
       "    .dataframe tbody tr th {\n",
       "        vertical-align: top;\n",
       "    }\n",
       "\n",
       "    .dataframe thead th {\n",
       "        text-align: right;\n",
       "    }\n",
       "<\/style>\n",
       "<table border=\"1\" class=\"dataframe\">\n",
       "  <thead>\n",
       "    <tr style=\"text-align: right;\">\n",
       "      <th><\/th>\n",
       "      <th>IMDB_Rating<\/th>\n",
       "      <th>No_of_Votes<\/th>\n",
       "    <\/tr>\n",
       "    <tr>\n",
       "      <th>Series_Title<\/th>\n",
       "      <th><\/th>\n",
       "      <th><\/th>\n",
       "    <\/tr>\n",
       "  <\/thead>\n",
       "  <tbody>\n",
       "    <tr>\n",
       "      <th>The Shawshank Redemption<\/th>\n",
       "      <td>9.3<\/td>\n",
       "      <td>2343110<\/td>\n",
       "    <\/tr>\n",
       "    <tr>\n",
       "      <th>The Godfather<\/th>\n",
       "      <td>9.2<\/td>\n",
       "      <td>1620367<\/td>\n",
       "    <\/tr>\n",
       "    <tr>\n",
       "      <th>The Dark Knight<\/th>\n",
       "      <td>9.0<\/td>\n",
       "      <td>2303232<\/td>\n",
       "    <\/tr>\n",
       "    <tr>\n",
       "      <th>The Godfather: Part II<\/th>\n",
       "      <td>9.0<\/td>\n",
       "      <td>1129952<\/td>\n",
       "    <\/tr>\n",
       "    <tr>\n",
       "      <th>12 Angry Men<\/th>\n",
       "      <td>9.0<\/td>\n",
       "      <td>689845<\/td>\n",
       "    <\/tr>\n",
       "    <tr>\n",
       "      <th>...<\/th>\n",
       "      <td>...<\/td>\n",
       "      <td>...<\/td>\n",
       "    <\/tr>\n",
       "    <tr>\n",
       "      <th>Breakfast at Tiffany's<\/th>\n",
       "      <td>7.6<\/td>\n",
       "      <td>166544<\/td>\n",
       "    <\/tr>\n",
       "    <tr>\n",
       "      <th>Giant<\/th>\n",
       "      <td>7.6<\/td>\n",
       "      <td>34075<\/td>\n",
       "    <\/tr>\n",
       "    <tr>\n",
       "      <th>From Here to Eternity<\/th>\n",
       "      <td>7.6<\/td>\n",
       "      <td>43374<\/td>\n",
       "    <\/tr>\n",
       "    <tr>\n",
       "      <th>Lifeboat<\/th>\n",
       "      <td>7.6<\/td>\n",
       "      <td>26471<\/td>\n",
       "    <\/tr>\n",
       "    <tr>\n",
       "      <th>The 39 Steps<\/th>\n",
       "      <td>7.6<\/td>\n",
       "      <td>51853<\/td>\n",
       "    <\/tr>\n",
       "  <\/tbody>\n",
       "<\/table>\n",
       "<p>1000 rows × 2 columns<\/p>\n",
       "<\/div>"
      ]
     },
     "metadata":{
      
     },
     "output_type":"display_data"
    }
   ],
   "metadata":{
    "datalore":{
     "node_id":"ToEjpi6Zy84WWDjbc6uuHD",
     "type":"CODE",
     "hide_input_from_viewers":true,
     "hide_output_from_viewers":true
    }
   }
  },
  {
   "cell_type":"code",
   "source":[
    "movies.index.name = 'Title'\n",
    "movies"
   ],
   "execution_count":24,
   "outputs":[
    {
     "data":{
      "text\/html":[
       "<div>\n",
       "<style scoped>\n",
       "    .dataframe tbody tr th:only-of-type {\n",
       "        vertical-align: middle;\n",
       "    }\n",
       "\n",
       "    .dataframe tbody tr th {\n",
       "        vertical-align: top;\n",
       "    }\n",
       "\n",
       "    .dataframe thead th {\n",
       "        text-align: right;\n",
       "    }\n",
       "<\/style>\n",
       "<table border=\"1\" class=\"dataframe\">\n",
       "  <thead>\n",
       "    <tr style=\"text-align: right;\">\n",
       "      <th><\/th>\n",
       "      <th>IMDB_Rating<\/th>\n",
       "      <th>No_of_Votes<\/th>\n",
       "    <\/tr>\n",
       "    <tr>\n",
       "      <th>Title<\/th>\n",
       "      <th><\/th>\n",
       "      <th><\/th>\n",
       "    <\/tr>\n",
       "  <\/thead>\n",
       "  <tbody>\n",
       "    <tr>\n",
       "      <th>The Shawshank Redemption<\/th>\n",
       "      <td>9.3<\/td>\n",
       "      <td>2343110<\/td>\n",
       "    <\/tr>\n",
       "    <tr>\n",
       "      <th>The Godfather<\/th>\n",
       "      <td>9.2<\/td>\n",
       "      <td>1620367<\/td>\n",
       "    <\/tr>\n",
       "    <tr>\n",
       "      <th>The Dark Knight<\/th>\n",
       "      <td>9.0<\/td>\n",
       "      <td>2303232<\/td>\n",
       "    <\/tr>\n",
       "    <tr>\n",
       "      <th>The Godfather: Part II<\/th>\n",
       "      <td>9.0<\/td>\n",
       "      <td>1129952<\/td>\n",
       "    <\/tr>\n",
       "    <tr>\n",
       "      <th>12 Angry Men<\/th>\n",
       "      <td>9.0<\/td>\n",
       "      <td>689845<\/td>\n",
       "    <\/tr>\n",
       "    <tr>\n",
       "      <th>...<\/th>\n",
       "      <td>...<\/td>\n",
       "      <td>...<\/td>\n",
       "    <\/tr>\n",
       "    <tr>\n",
       "      <th>Breakfast at Tiffany's<\/th>\n",
       "      <td>7.6<\/td>\n",
       "      <td>166544<\/td>\n",
       "    <\/tr>\n",
       "    <tr>\n",
       "      <th>Giant<\/th>\n",
       "      <td>7.6<\/td>\n",
       "      <td>34075<\/td>\n",
       "    <\/tr>\n",
       "    <tr>\n",
       "      <th>From Here to Eternity<\/th>\n",
       "      <td>7.6<\/td>\n",
       "      <td>43374<\/td>\n",
       "    <\/tr>\n",
       "    <tr>\n",
       "      <th>Lifeboat<\/th>\n",
       "      <td>7.6<\/td>\n",
       "      <td>26471<\/td>\n",
       "    <\/tr>\n",
       "    <tr>\n",
       "      <th>The 39 Steps<\/th>\n",
       "      <td>7.6<\/td>\n",
       "      <td>51853<\/td>\n",
       "    <\/tr>\n",
       "  <\/tbody>\n",
       "<\/table>\n",
       "<p>1000 rows × 2 columns<\/p>\n",
       "<\/div>"
      ]
     },
     "metadata":{
      
     },
     "output_type":"display_data"
    }
   ],
   "metadata":{
    "datalore":{
     "node_id":"WJBGCVRRn8VJWll3f1EUh6",
     "type":"CODE",
     "hide_input_from_viewers":true,
     "hide_output_from_viewers":true
    }
   }
  },
  {
   "cell_type":"markdown",
   "source":[
    "reset_index()\n",
    "- resets the index"
   ],
   "attachments":{
    
   },
   "metadata":{
    "datalore":{
     "node_id":"YTCU9oWt1A00e8JmO9yJXs",
     "type":"MD",
     "hide_input_from_viewers":true,
     "hide_output_from_viewers":true
    }
   }
  },
  {
   "cell_type":"code",
   "source":[
    "movies.reset_index(drop=False, inplace=True)\n",
    "movies"
   ],
   "execution_count":26,
   "outputs":[
    {
     "data":{
      "text\/html":[
       "<div>\n",
       "<style scoped>\n",
       "    .dataframe tbody tr th:only-of-type {\n",
       "        vertical-align: middle;\n",
       "    }\n",
       "\n",
       "    .dataframe tbody tr th {\n",
       "        vertical-align: top;\n",
       "    }\n",
       "\n",
       "    .dataframe thead th {\n",
       "        text-align: right;\n",
       "    }\n",
       "<\/style>\n",
       "<table border=\"1\" class=\"dataframe\">\n",
       "  <thead>\n",
       "    <tr style=\"text-align: right;\">\n",
       "      <th><\/th>\n",
       "      <th>index<\/th>\n",
       "      <th>Title<\/th>\n",
       "      <th>IMDB_Rating<\/th>\n",
       "      <th>No_of_Votes<\/th>\n",
       "    <\/tr>\n",
       "  <\/thead>\n",
       "  <tbody>\n",
       "    <tr>\n",
       "      <th>0<\/th>\n",
       "      <td>0<\/td>\n",
       "      <td>The Shawshank Redemption<\/td>\n",
       "      <td>9.3<\/td>\n",
       "      <td>2343110<\/td>\n",
       "    <\/tr>\n",
       "    <tr>\n",
       "      <th>1<\/th>\n",
       "      <td>1<\/td>\n",
       "      <td>The Godfather<\/td>\n",
       "      <td>9.2<\/td>\n",
       "      <td>1620367<\/td>\n",
       "    <\/tr>\n",
       "    <tr>\n",
       "      <th>2<\/th>\n",
       "      <td>2<\/td>\n",
       "      <td>The Dark Knight<\/td>\n",
       "      <td>9.0<\/td>\n",
       "      <td>2303232<\/td>\n",
       "    <\/tr>\n",
       "    <tr>\n",
       "      <th>3<\/th>\n",
       "      <td>3<\/td>\n",
       "      <td>The Godfather: Part II<\/td>\n",
       "      <td>9.0<\/td>\n",
       "      <td>1129952<\/td>\n",
       "    <\/tr>\n",
       "    <tr>\n",
       "      <th>4<\/th>\n",
       "      <td>4<\/td>\n",
       "      <td>12 Angry Men<\/td>\n",
       "      <td>9.0<\/td>\n",
       "      <td>689845<\/td>\n",
       "    <\/tr>\n",
       "    <tr>\n",
       "      <th>...<\/th>\n",
       "      <td>...<\/td>\n",
       "      <td>...<\/td>\n",
       "      <td>...<\/td>\n",
       "      <td>...<\/td>\n",
       "    <\/tr>\n",
       "    <tr>\n",
       "      <th>995<\/th>\n",
       "      <td>995<\/td>\n",
       "      <td>Breakfast at Tiffany's<\/td>\n",
       "      <td>7.6<\/td>\n",
       "      <td>166544<\/td>\n",
       "    <\/tr>\n",
       "    <tr>\n",
       "      <th>996<\/th>\n",
       "      <td>996<\/td>\n",
       "      <td>Giant<\/td>\n",
       "      <td>7.6<\/td>\n",
       "      <td>34075<\/td>\n",
       "    <\/tr>\n",
       "    <tr>\n",
       "      <th>997<\/th>\n",
       "      <td>997<\/td>\n",
       "      <td>From Here to Eternity<\/td>\n",
       "      <td>7.6<\/td>\n",
       "      <td>43374<\/td>\n",
       "    <\/tr>\n",
       "    <tr>\n",
       "      <th>998<\/th>\n",
       "      <td>998<\/td>\n",
       "      <td>Lifeboat<\/td>\n",
       "      <td>7.6<\/td>\n",
       "      <td>26471<\/td>\n",
       "    <\/tr>\n",
       "    <tr>\n",
       "      <th>999<\/th>\n",
       "      <td>999<\/td>\n",
       "      <td>The 39 Steps<\/td>\n",
       "      <td>7.6<\/td>\n",
       "      <td>51853<\/td>\n",
       "    <\/tr>\n",
       "  <\/tbody>\n",
       "<\/table>\n",
       "<p>1000 rows × 4 columns<\/p>\n",
       "<\/div>"
      ]
     },
     "metadata":{
      
     },
     "output_type":"display_data"
    }
   ],
   "metadata":{
    "datalore":{
     "node_id":"0oPqiRau4HB8CMw0NwTA4W",
     "type":"CODE",
     "hide_input_from_viewers":true,
     "hide_output_from_viewers":true
    }
   }
  }
 ],
 "metadata":{
  "kernelspec":{
   "display_name":"Python",
   "language":"python",
   "name":"python"
  },
  "datalore":{
   "computation_mode":"JUPYTER",
   "package_manager":"pip",
   "base_environment":"default",
   "packages":[
    
   ],
   "report_row_ids":[
    
   ],
   "version":3
  }
 },
 "nbformat":4,
 "nbformat_minor":4
}