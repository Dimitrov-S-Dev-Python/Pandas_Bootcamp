{
 "cells":[
  {
   "cell_type":"markdown",
   "source":[
    "Import pandas"
   ],
   "attachments":{
    
   },
   "metadata":{
    "datalore":{
     "node_id":"0ZYZ9Zol13W2Ka61WagQv7",
     "type":"MD",
     "hide_input_from_viewers":false,
     "hide_output_from_viewers":false,
     "report_properties":{
      "rowId":"YX8UXdtx01BUCV167lnnm3"
     }
    }
   }
  },
  {
   "cell_type":"code",
   "source":[
    "import pandas as pd"
   ],
   "execution_count":1,
   "outputs":[
    
   ],
   "metadata":{
    "datalore":{
     "node_id":"Gh2dryiPOTqBAh3hkyrimI",
     "type":"CODE",
     "hide_input_from_viewers":false,
     "hide_output_from_viewers":false,
     "report_properties":{
      "rowId":"apJ8fyPaL0ZNvCpWPMe8e6"
     }
    }
   }
  },
  {
   "cell_type":"markdown",
   "source":[
    "Read the `imdb_top_1000.csv` file with the following columns: \n",
    "\n",
    "`['Series_Title' ,'IMDB_Rating', 'No_of_Votes', 'Gross', 'Released_Year', 'Genre']`\n"
   ],
   "attachments":{
    
   },
   "metadata":{
    "datalore":{
     "node_id":"x3cbcBWbtbRR8cmpHUw6oF",
     "type":"MD",
     "hide_input_from_viewers":false,
     "hide_output_from_viewers":false,
     "report_properties":{
      "rowId":"LX8uEEUSzPp2ioVndFU28L"
     }
    }
   }
  },
  {
   "cell_type":"code",
   "source":[
    "columns = ['Series_Title' ,'IMDB_Rating', 'No_of_Votes', 'Gross', 'Released_Year', 'Genre']\n",
    "movies = pd.read_csv('imdb_top_1000.csv', usecols=columns)\n",
    "movies"
   ],
   "execution_count":4,
   "outputs":[
    {
     "data":{
      "text\/html":[
       "<div>\n",
       "<style scoped>\n",
       "    .dataframe tbody tr th:only-of-type {\n",
       "        vertical-align: middle;\n",
       "    }\n",
       "\n",
       "    .dataframe tbody tr th {\n",
       "        vertical-align: top;\n",
       "    }\n",
       "\n",
       "    .dataframe thead th {\n",
       "        text-align: right;\n",
       "    }\n",
       "<\/style>\n",
       "<table border=\"1\" class=\"dataframe\">\n",
       "  <thead>\n",
       "    <tr style=\"text-align: right;\">\n",
       "      <th><\/th>\n",
       "      <th>Series_Title<\/th>\n",
       "      <th>Released_Year<\/th>\n",
       "      <th>Genre<\/th>\n",
       "      <th>IMDB_Rating<\/th>\n",
       "      <th>No_of_Votes<\/th>\n",
       "      <th>Gross<\/th>\n",
       "    <\/tr>\n",
       "  <\/thead>\n",
       "  <tbody>\n",
       "    <tr>\n",
       "      <th>0<\/th>\n",
       "      <td>The Shawshank Redemption<\/td>\n",
       "      <td>1994<\/td>\n",
       "      <td>Drama<\/td>\n",
       "      <td>9.3<\/td>\n",
       "      <td>2343110<\/td>\n",
       "      <td>28,341,469<\/td>\n",
       "    <\/tr>\n",
       "    <tr>\n",
       "      <th>1<\/th>\n",
       "      <td>The Godfather<\/td>\n",
       "      <td>1972<\/td>\n",
       "      <td>Crime, Drama<\/td>\n",
       "      <td>9.2<\/td>\n",
       "      <td>1620367<\/td>\n",
       "      <td>134,966,411<\/td>\n",
       "    <\/tr>\n",
       "    <tr>\n",
       "      <th>2<\/th>\n",
       "      <td>The Dark Knight<\/td>\n",
       "      <td>2008<\/td>\n",
       "      <td>Action, Crime, Drama<\/td>\n",
       "      <td>9.0<\/td>\n",
       "      <td>2303232<\/td>\n",
       "      <td>534,858,444<\/td>\n",
       "    <\/tr>\n",
       "    <tr>\n",
       "      <th>3<\/th>\n",
       "      <td>The Godfather: Part II<\/td>\n",
       "      <td>1974<\/td>\n",
       "      <td>Crime, Drama<\/td>\n",
       "      <td>9.0<\/td>\n",
       "      <td>1129952<\/td>\n",
       "      <td>57,300,000<\/td>\n",
       "    <\/tr>\n",
       "    <tr>\n",
       "      <th>4<\/th>\n",
       "      <td>12 Angry Men<\/td>\n",
       "      <td>1957<\/td>\n",
       "      <td>Crime, Drama<\/td>\n",
       "      <td>9.0<\/td>\n",
       "      <td>689845<\/td>\n",
       "      <td>4,360,000<\/td>\n",
       "    <\/tr>\n",
       "    <tr>\n",
       "      <th>...<\/th>\n",
       "      <td>...<\/td>\n",
       "      <td>...<\/td>\n",
       "      <td>...<\/td>\n",
       "      <td>...<\/td>\n",
       "      <td>...<\/td>\n",
       "      <td>...<\/td>\n",
       "    <\/tr>\n",
       "    <tr>\n",
       "      <th>995<\/th>\n",
       "      <td>Breakfast at Tiffany's<\/td>\n",
       "      <td>1961<\/td>\n",
       "      <td>Comedy, Drama, Romance<\/td>\n",
       "      <td>7.6<\/td>\n",
       "      <td>166544<\/td>\n",
       "      <td>NaN<\/td>\n",
       "    <\/tr>\n",
       "    <tr>\n",
       "      <th>996<\/th>\n",
       "      <td>Giant<\/td>\n",
       "      <td>1956<\/td>\n",
       "      <td>Drama, Western<\/td>\n",
       "      <td>7.6<\/td>\n",
       "      <td>34075<\/td>\n",
       "      <td>NaN<\/td>\n",
       "    <\/tr>\n",
       "    <tr>\n",
       "      <th>997<\/th>\n",
       "      <td>From Here to Eternity<\/td>\n",
       "      <td>1953<\/td>\n",
       "      <td>Drama, Romance, War<\/td>\n",
       "      <td>7.6<\/td>\n",
       "      <td>43374<\/td>\n",
       "      <td>30,500,000<\/td>\n",
       "    <\/tr>\n",
       "    <tr>\n",
       "      <th>998<\/th>\n",
       "      <td>Lifeboat<\/td>\n",
       "      <td>1944<\/td>\n",
       "      <td>Drama, War<\/td>\n",
       "      <td>7.6<\/td>\n",
       "      <td>26471<\/td>\n",
       "      <td>NaN<\/td>\n",
       "    <\/tr>\n",
       "    <tr>\n",
       "      <th>999<\/th>\n",
       "      <td>The 39 Steps<\/td>\n",
       "      <td>1935<\/td>\n",
       "      <td>Crime, Mystery, Thriller<\/td>\n",
       "      <td>7.6<\/td>\n",
       "      <td>51853<\/td>\n",
       "      <td>NaN<\/td>\n",
       "    <\/tr>\n",
       "  <\/tbody>\n",
       "<\/table>\n",
       "<p>1000 rows × 6 columns<\/p>\n",
       "<\/div>"
      ]
     },
     "metadata":{
      
     },
     "output_type":"display_data"
    }
   ],
   "metadata":{
    "datalore":{
     "node_id":"xoCrF92CzkKnid8bvn5xyJ",
     "type":"CODE",
     "hide_input_from_viewers":false,
     "hide_output_from_viewers":false,
     "report_properties":{
      "rowId":"apJ8fyPaL0ZNvCpWPMe8e6"
     }
    }
   }
  },
  {
   "cell_type":"markdown",
   "source":[
    "Find the lowest scored movie with the lowest amount of votes"
   ],
   "attachments":{
    
   },
   "metadata":{
    "datalore":{
     "node_id":"JXxbgpICXNUdad1JwhSgiM",
     "type":"MD",
     "hide_input_from_viewers":false,
     "hide_output_from_viewers":false,
     "report_properties":{
      "rowId":"xb2wSRwZaM5cgMRGUUjipU"
     }
    }
   }
  },
  {
   "cell_type":"code",
   "source":[
    "movies.nsmallest(n=1, columns=['IMDB_Rating', 'No_of_Votes'])"
   ],
   "execution_count":5,
   "outputs":[
    {
     "data":{
      "text\/html":[
       "<div>\n",
       "<style scoped>\n",
       "    .dataframe tbody tr th:only-of-type {\n",
       "        vertical-align: middle;\n",
       "    }\n",
       "\n",
       "    .dataframe tbody tr th {\n",
       "        vertical-align: top;\n",
       "    }\n",
       "\n",
       "    .dataframe thead th {\n",
       "        text-align: right;\n",
       "    }\n",
       "<\/style>\n",
       "<table border=\"1\" class=\"dataframe\">\n",
       "  <thead>\n",
       "    <tr style=\"text-align: right;\">\n",
       "      <th><\/th>\n",
       "      <th>Series_Title<\/th>\n",
       "      <th>Released_Year<\/th>\n",
       "      <th>Genre<\/th>\n",
       "      <th>IMDB_Rating<\/th>\n",
       "      <th>No_of_Votes<\/th>\n",
       "      <th>Gross<\/th>\n",
       "    <\/tr>\n",
       "  <\/thead>\n",
       "  <tbody>\n",
       "    <tr>\n",
       "      <th>989<\/th>\n",
       "      <td>The Long Goodbye<\/td>\n",
       "      <td>1973<\/td>\n",
       "      <td>Comedy, Crime, Drama<\/td>\n",
       "      <td>7.6<\/td>\n",
       "      <td>26337<\/td>\n",
       "      <td>959,000<\/td>\n",
       "    <\/tr>\n",
       "  <\/tbody>\n",
       "<\/table>\n",
       "<\/div>"
      ]
     },
     "metadata":{
      
     },
     "output_type":"display_data"
    }
   ],
   "metadata":{
    "datalore":{
     "node_id":"ThquneXqZ7WTNTNkacnQ6l",
     "type":"CODE",
     "hide_input_from_viewers":false,
     "hide_output_from_viewers":false,
     "report_properties":{
      "rowId":"apJ8fyPaL0ZNvCpWPMe8e6"
     }
    }
   }
  },
  {
   "cell_type":"markdown",
   "source":[
    "Find the highest scored movie with the highest amount of votes"
   ],
   "attachments":{
    
   },
   "metadata":{
    "datalore":{
     "node_id":"D4fBRwvShukLPSgL3nKqHd",
     "type":"MD",
     "hide_input_from_viewers":false,
     "hide_output_from_viewers":false,
     "report_properties":{
      "rowId":"rU4kekpN6a4agxlbfkipUC"
     }
    }
   }
  },
  {
   "cell_type":"code",
   "source":[
    "movies.nlargest(n=1, columns=['IMDB_Rating', 'No_of_Votes'])"
   ],
   "execution_count":6,
   "outputs":[
    {
     "data":{
      "text\/html":[
       "<div>\n",
       "<style scoped>\n",
       "    .dataframe tbody tr th:only-of-type {\n",
       "        vertical-align: middle;\n",
       "    }\n",
       "\n",
       "    .dataframe tbody tr th {\n",
       "        vertical-align: top;\n",
       "    }\n",
       "\n",
       "    .dataframe thead th {\n",
       "        text-align: right;\n",
       "    }\n",
       "<\/style>\n",
       "<table border=\"1\" class=\"dataframe\">\n",
       "  <thead>\n",
       "    <tr style=\"text-align: right;\">\n",
       "      <th><\/th>\n",
       "      <th>Series_Title<\/th>\n",
       "      <th>Released_Year<\/th>\n",
       "      <th>Genre<\/th>\n",
       "      <th>IMDB_Rating<\/th>\n",
       "      <th>No_of_Votes<\/th>\n",
       "      <th>Gross<\/th>\n",
       "    <\/tr>\n",
       "  <\/thead>\n",
       "  <tbody>\n",
       "    <tr>\n",
       "      <th>0<\/th>\n",
       "      <td>The Shawshank Redemption<\/td>\n",
       "      <td>1994<\/td>\n",
       "      <td>Drama<\/td>\n",
       "      <td>9.3<\/td>\n",
       "      <td>2343110<\/td>\n",
       "      <td>28,341,469<\/td>\n",
       "    <\/tr>\n",
       "  <\/tbody>\n",
       "<\/table>\n",
       "<\/div>"
      ]
     },
     "metadata":{
      
     },
     "output_type":"display_data"
    }
   ],
   "metadata":{
    "datalore":{
     "node_id":"olS4oYVnXAIckOAXdPvPFS",
     "type":"CODE",
     "hide_input_from_viewers":false,
     "hide_output_from_viewers":false,
     "report_properties":{
      "rowId":"apJ8fyPaL0ZNvCpWPMe8e6"
     }
    }
   }
  },
  {
   "cell_type":"markdown",
   "source":[
    "Find the top 5 genres"
   ],
   "attachments":{
    
   },
   "metadata":{
    "datalore":{
     "node_id":"09lWD8MY8R4bJXMFLRUTDR",
     "type":"MD",
     "hide_input_from_viewers":false,
     "hide_output_from_viewers":false,
     "report_properties":{
      "rowId":"C1Hu1aKakL9VlgYtByWtki"
     }
    }
   }
  },
  {
   "cell_type":"code",
   "source":[
    "movies.value_counts('Genre').head(5)"
   ],
   "execution_count":7,
   "outputs":[
    {
     "data":{
      "text\/html":[
       "<pre>Genre\n",
       "Drama                     85\n",
       "Drama, Romance            37\n",
       "Comedy, Drama             35\n",
       "Comedy, Drama, Romance    31\n",
       "Action, Crime, Drama      30\n",
       "dtype: int64<\/pre>"
      ]
     },
     "metadata":{
      
     },
     "output_type":"display_data"
    }
   ],
   "metadata":{
    "datalore":{
     "node_id":"JAcMgByteMxo0j9iID8AGa",
     "type":"CODE",
     "hide_input_from_viewers":false,
     "hide_output_from_viewers":false,
     "report_properties":{
      "rowId":"apJ8fyPaL0ZNvCpWPMe8e6"
     }
    }
   }
  },
  {
   "cell_type":"markdown",
   "source":[
    "***Bonus: What are the top 3 grossing movies?***"
   ],
   "attachments":{
    
   },
   "metadata":{
    "datalore":{
     "node_id":"2va6zidke3qM7mYgieD5so",
     "type":"MD",
     "hide_input_from_viewers":false,
     "hide_output_from_viewers":false,
     "report_properties":{
      "rowId":"RWobzOobh4s6MYKRbIK7U3"
     }
    }
   }
  },
  {
   "cell_type":"code",
   "source":[
    "movies['Gross'] = movies['Gross'].str.replace(',', '')\n",
    "movies"
   ],
   "execution_count":8,
   "outputs":[
    {
     "data":{
      "text\/html":[
       "<div>\n",
       "<style scoped>\n",
       "    .dataframe tbody tr th:only-of-type {\n",
       "        vertical-align: middle;\n",
       "    }\n",
       "\n",
       "    .dataframe tbody tr th {\n",
       "        vertical-align: top;\n",
       "    }\n",
       "\n",
       "    .dataframe thead th {\n",
       "        text-align: right;\n",
       "    }\n",
       "<\/style>\n",
       "<table border=\"1\" class=\"dataframe\">\n",
       "  <thead>\n",
       "    <tr style=\"text-align: right;\">\n",
       "      <th><\/th>\n",
       "      <th>Series_Title<\/th>\n",
       "      <th>Released_Year<\/th>\n",
       "      <th>Genre<\/th>\n",
       "      <th>IMDB_Rating<\/th>\n",
       "      <th>No_of_Votes<\/th>\n",
       "      <th>Gross<\/th>\n",
       "    <\/tr>\n",
       "  <\/thead>\n",
       "  <tbody>\n",
       "    <tr>\n",
       "      <th>0<\/th>\n",
       "      <td>The Shawshank Redemption<\/td>\n",
       "      <td>1994<\/td>\n",
       "      <td>Drama<\/td>\n",
       "      <td>9.3<\/td>\n",
       "      <td>2343110<\/td>\n",
       "      <td>28341469<\/td>\n",
       "    <\/tr>\n",
       "    <tr>\n",
       "      <th>1<\/th>\n",
       "      <td>The Godfather<\/td>\n",
       "      <td>1972<\/td>\n",
       "      <td>Crime, Drama<\/td>\n",
       "      <td>9.2<\/td>\n",
       "      <td>1620367<\/td>\n",
       "      <td>134966411<\/td>\n",
       "    <\/tr>\n",
       "    <tr>\n",
       "      <th>2<\/th>\n",
       "      <td>The Dark Knight<\/td>\n",
       "      <td>2008<\/td>\n",
       "      <td>Action, Crime, Drama<\/td>\n",
       "      <td>9.0<\/td>\n",
       "      <td>2303232<\/td>\n",
       "      <td>534858444<\/td>\n",
       "    <\/tr>\n",
       "    <tr>\n",
       "      <th>3<\/th>\n",
       "      <td>The Godfather: Part II<\/td>\n",
       "      <td>1974<\/td>\n",
       "      <td>Crime, Drama<\/td>\n",
       "      <td>9.0<\/td>\n",
       "      <td>1129952<\/td>\n",
       "      <td>57300000<\/td>\n",
       "    <\/tr>\n",
       "    <tr>\n",
       "      <th>4<\/th>\n",
       "      <td>12 Angry Men<\/td>\n",
       "      <td>1957<\/td>\n",
       "      <td>Crime, Drama<\/td>\n",
       "      <td>9.0<\/td>\n",
       "      <td>689845<\/td>\n",
       "      <td>4360000<\/td>\n",
       "    <\/tr>\n",
       "    <tr>\n",
       "      <th>...<\/th>\n",
       "      <td>...<\/td>\n",
       "      <td>...<\/td>\n",
       "      <td>...<\/td>\n",
       "      <td>...<\/td>\n",
       "      <td>...<\/td>\n",
       "      <td>...<\/td>\n",
       "    <\/tr>\n",
       "    <tr>\n",
       "      <th>995<\/th>\n",
       "      <td>Breakfast at Tiffany's<\/td>\n",
       "      <td>1961<\/td>\n",
       "      <td>Comedy, Drama, Romance<\/td>\n",
       "      <td>7.6<\/td>\n",
       "      <td>166544<\/td>\n",
       "      <td>NaN<\/td>\n",
       "    <\/tr>\n",
       "    <tr>\n",
       "      <th>996<\/th>\n",
       "      <td>Giant<\/td>\n",
       "      <td>1956<\/td>\n",
       "      <td>Drama, Western<\/td>\n",
       "      <td>7.6<\/td>\n",
       "      <td>34075<\/td>\n",
       "      <td>NaN<\/td>\n",
       "    <\/tr>\n",
       "    <tr>\n",
       "      <th>997<\/th>\n",
       "      <td>From Here to Eternity<\/td>\n",
       "      <td>1953<\/td>\n",
       "      <td>Drama, Romance, War<\/td>\n",
       "      <td>7.6<\/td>\n",
       "      <td>43374<\/td>\n",
       "      <td>30500000<\/td>\n",
       "    <\/tr>\n",
       "    <tr>\n",
       "      <th>998<\/th>\n",
       "      <td>Lifeboat<\/td>\n",
       "      <td>1944<\/td>\n",
       "      <td>Drama, War<\/td>\n",
       "      <td>7.6<\/td>\n",
       "      <td>26471<\/td>\n",
       "      <td>NaN<\/td>\n",
       "    <\/tr>\n",
       "    <tr>\n",
       "      <th>999<\/th>\n",
       "      <td>The 39 Steps<\/td>\n",
       "      <td>1935<\/td>\n",
       "      <td>Crime, Mystery, Thriller<\/td>\n",
       "      <td>7.6<\/td>\n",
       "      <td>51853<\/td>\n",
       "      <td>NaN<\/td>\n",
       "    <\/tr>\n",
       "  <\/tbody>\n",
       "<\/table>\n",
       "<p>1000 rows × 6 columns<\/p>\n",
       "<\/div>"
      ]
     },
     "metadata":{
      
     },
     "output_type":"display_data"
    }
   ],
   "metadata":{
    "datalore":{
     "node_id":"wdy5FjjRA3EAHmkhCRDza6",
     "type":"CODE",
     "hide_input_from_viewers":false,
     "hide_output_from_viewers":false,
     "report_properties":{
      "rowId":"apJ8fyPaL0ZNvCpWPMe8e6"
     }
    }
   }
  },
  {
   "cell_type":"code",
   "source":[
    "movies.fillna(0, inplace=True)\n",
    "movies['Gross'] = movies['Gross'].astype('int64')\n",
    "movies"
   ],
   "execution_count":9,
   "outputs":[
    {
     "data":{
      "text\/html":[
       "<div>\n",
       "<style scoped>\n",
       "    .dataframe tbody tr th:only-of-type {\n",
       "        vertical-align: middle;\n",
       "    }\n",
       "\n",
       "    .dataframe tbody tr th {\n",
       "        vertical-align: top;\n",
       "    }\n",
       "\n",
       "    .dataframe thead th {\n",
       "        text-align: right;\n",
       "    }\n",
       "<\/style>\n",
       "<table border=\"1\" class=\"dataframe\">\n",
       "  <thead>\n",
       "    <tr style=\"text-align: right;\">\n",
       "      <th><\/th>\n",
       "      <th>Series_Title<\/th>\n",
       "      <th>Released_Year<\/th>\n",
       "      <th>Genre<\/th>\n",
       "      <th>IMDB_Rating<\/th>\n",
       "      <th>No_of_Votes<\/th>\n",
       "      <th>Gross<\/th>\n",
       "    <\/tr>\n",
       "  <\/thead>\n",
       "  <tbody>\n",
       "    <tr>\n",
       "      <th>0<\/th>\n",
       "      <td>The Shawshank Redemption<\/td>\n",
       "      <td>1994<\/td>\n",
       "      <td>Drama<\/td>\n",
       "      <td>9.3<\/td>\n",
       "      <td>2343110<\/td>\n",
       "      <td>28341469<\/td>\n",
       "    <\/tr>\n",
       "    <tr>\n",
       "      <th>1<\/th>\n",
       "      <td>The Godfather<\/td>\n",
       "      <td>1972<\/td>\n",
       "      <td>Crime, Drama<\/td>\n",
       "      <td>9.2<\/td>\n",
       "      <td>1620367<\/td>\n",
       "      <td>134966411<\/td>\n",
       "    <\/tr>\n",
       "    <tr>\n",
       "      <th>2<\/th>\n",
       "      <td>The Dark Knight<\/td>\n",
       "      <td>2008<\/td>\n",
       "      <td>Action, Crime, Drama<\/td>\n",
       "      <td>9.0<\/td>\n",
       "      <td>2303232<\/td>\n",
       "      <td>534858444<\/td>\n",
       "    <\/tr>\n",
       "    <tr>\n",
       "      <th>3<\/th>\n",
       "      <td>The Godfather: Part II<\/td>\n",
       "      <td>1974<\/td>\n",
       "      <td>Crime, Drama<\/td>\n",
       "      <td>9.0<\/td>\n",
       "      <td>1129952<\/td>\n",
       "      <td>57300000<\/td>\n",
       "    <\/tr>\n",
       "    <tr>\n",
       "      <th>4<\/th>\n",
       "      <td>12 Angry Men<\/td>\n",
       "      <td>1957<\/td>\n",
       "      <td>Crime, Drama<\/td>\n",
       "      <td>9.0<\/td>\n",
       "      <td>689845<\/td>\n",
       "      <td>4360000<\/td>\n",
       "    <\/tr>\n",
       "    <tr>\n",
       "      <th>...<\/th>\n",
       "      <td>...<\/td>\n",
       "      <td>...<\/td>\n",
       "      <td>...<\/td>\n",
       "      <td>...<\/td>\n",
       "      <td>...<\/td>\n",
       "      <td>...<\/td>\n",
       "    <\/tr>\n",
       "    <tr>\n",
       "      <th>995<\/th>\n",
       "      <td>Breakfast at Tiffany's<\/td>\n",
       "      <td>1961<\/td>\n",
       "      <td>Comedy, Drama, Romance<\/td>\n",
       "      <td>7.6<\/td>\n",
       "      <td>166544<\/td>\n",
       "      <td>0<\/td>\n",
       "    <\/tr>\n",
       "    <tr>\n",
       "      <th>996<\/th>\n",
       "      <td>Giant<\/td>\n",
       "      <td>1956<\/td>\n",
       "      <td>Drama, Western<\/td>\n",
       "      <td>7.6<\/td>\n",
       "      <td>34075<\/td>\n",
       "      <td>0<\/td>\n",
       "    <\/tr>\n",
       "    <tr>\n",
       "      <th>997<\/th>\n",
       "      <td>From Here to Eternity<\/td>\n",
       "      <td>1953<\/td>\n",
       "      <td>Drama, Romance, War<\/td>\n",
       "      <td>7.6<\/td>\n",
       "      <td>43374<\/td>\n",
       "      <td>30500000<\/td>\n",
       "    <\/tr>\n",
       "    <tr>\n",
       "      <th>998<\/th>\n",
       "      <td>Lifeboat<\/td>\n",
       "      <td>1944<\/td>\n",
       "      <td>Drama, War<\/td>\n",
       "      <td>7.6<\/td>\n",
       "      <td>26471<\/td>\n",
       "      <td>0<\/td>\n",
       "    <\/tr>\n",
       "    <tr>\n",
       "      <th>999<\/th>\n",
       "      <td>The 39 Steps<\/td>\n",
       "      <td>1935<\/td>\n",
       "      <td>Crime, Mystery, Thriller<\/td>\n",
       "      <td>7.6<\/td>\n",
       "      <td>51853<\/td>\n",
       "      <td>0<\/td>\n",
       "    <\/tr>\n",
       "  <\/tbody>\n",
       "<\/table>\n",
       "<p>1000 rows × 6 columns<\/p>\n",
       "<\/div>"
      ]
     },
     "metadata":{
      
     },
     "output_type":"display_data"
    }
   ],
   "metadata":{
    "datalore":{
     "node_id":"cCW5UpYUkONCfkodSJIs9r",
     "type":"CODE",
     "hide_input_from_viewers":true,
     "hide_output_from_viewers":true
    }
   }
  },
  {
   "cell_type":"code",
   "source":[
    "movies.nlargest(n=3, columns='Gross')"
   ],
   "execution_count":10,
   "outputs":[
    {
     "data":{
      "text\/html":[
       "<div>\n",
       "<style scoped>\n",
       "    .dataframe tbody tr th:only-of-type {\n",
       "        vertical-align: middle;\n",
       "    }\n",
       "\n",
       "    .dataframe tbody tr th {\n",
       "        vertical-align: top;\n",
       "    }\n",
       "\n",
       "    .dataframe thead th {\n",
       "        text-align: right;\n",
       "    }\n",
       "<\/style>\n",
       "<table border=\"1\" class=\"dataframe\">\n",
       "  <thead>\n",
       "    <tr style=\"text-align: right;\">\n",
       "      <th><\/th>\n",
       "      <th>Series_Title<\/th>\n",
       "      <th>Released_Year<\/th>\n",
       "      <th>Genre<\/th>\n",
       "      <th>IMDB_Rating<\/th>\n",
       "      <th>No_of_Votes<\/th>\n",
       "      <th>Gross<\/th>\n",
       "    <\/tr>\n",
       "  <\/thead>\n",
       "  <tbody>\n",
       "    <tr>\n",
       "      <th>477<\/th>\n",
       "      <td>Star Wars: Episode VII - The Force Awakens<\/td>\n",
       "      <td>2015<\/td>\n",
       "      <td>Action, Adventure, Sci-Fi<\/td>\n",
       "      <td>7.9<\/td>\n",
       "      <td>860823<\/td>\n",
       "      <td>936662225<\/td>\n",
       "    <\/tr>\n",
       "    <tr>\n",
       "      <th>59<\/th>\n",
       "      <td>Avengers: Endgame<\/td>\n",
       "      <td>2019<\/td>\n",
       "      <td>Action, Adventure, Drama<\/td>\n",
       "      <td>8.4<\/td>\n",
       "      <td>809955<\/td>\n",
       "      <td>858373000<\/td>\n",
       "    <\/tr>\n",
       "    <tr>\n",
       "      <th>623<\/th>\n",
       "      <td>Avatar<\/td>\n",
       "      <td>2009<\/td>\n",
       "      <td>Action, Adventure, Fantasy<\/td>\n",
       "      <td>7.8<\/td>\n",
       "      <td>1118998<\/td>\n",
       "      <td>760507625<\/td>\n",
       "    <\/tr>\n",
       "  <\/tbody>\n",
       "<\/table>\n",
       "<\/div>"
      ]
     },
     "metadata":{
      
     },
     "output_type":"display_data"
    }
   ],
   "metadata":{
    "datalore":{
     "node_id":"okBUcCpZSmEkH5dbdjkVgJ",
     "type":"CODE",
     "hide_input_from_viewers":true,
     "hide_output_from_viewers":true
    }
   }
  }
 ],
 "metadata":{
  "kernelspec":{
   "display_name":"Python",
   "language":"python",
   "name":"python"
  },
  "datalore":{
   "computation_mode":"JUPYTER",
   "package_manager":"pip",
   "base_environment":"default",
   "packages":[
    
   ],
   "report_row_ids":[
    "YX8UXdtx01BUCV167lnnm3",
    "LX8uEEUSzPp2ioVndFU28L",
    "xb2wSRwZaM5cgMRGUUjipU",
    "rU4kekpN6a4agxlbfkipUC",
    "C1Hu1aKakL9VlgYtByWtki",
    "RWobzOobh4s6MYKRbIK7U3"
   ],
   "version":3
  }
 },
 "nbformat":4,
 "nbformat_minor":4
}